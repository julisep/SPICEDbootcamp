{
 "cells": [
  {
   "cell_type": "code",
   "execution_count": 4,
   "metadata": {},
   "outputs": [],
   "source": [
    "# 1. integers\n",
    "a = [x for x in range(7)]\n",
    "assert a == [0, 1, 2, 3, 4, 5, 6]"
   ]
  },
  {
   "cell_type": "code",
   "execution_count": 5,
   "metadata": {},
   "outputs": [],
   "source": [
    "# 2. squares\n",
    "a = [x**2 for x in range(7)]\n",
    "assert a == [0, 1, 4, 9, 16, 25, 36]"
   ]
  },
  {
   "cell_type": "code",
   "execution_count": 13,
   "metadata": {},
   "outputs": [],
   "source": [
    "# 3. fractions\n",
    "a = [round(1/x, 2) for x in range(1,8)]\n",
    "# alternative a = [float(f'{1/x:.2f}') for x in range(1,8)] using string formatting instead of round()\n",
    "assert a == [1.0, 0.5, 0.33, 0.25, 0.2, 0.17, 0.14]"
   ]
  },
  {
   "cell_type": "code",
   "execution_count": 25,
   "metadata": {},
   "outputs": [],
   "source": [
    "# 4. filtering\n",
    "a = range(100)\n",
    "b = [x for x in a if x%11==0]\n",
    "assert b == [0, 11, 22, 33, 44, 55, 66, 77, 88, 99]"
   ]
  },
  {
   "cell_type": "code",
   "execution_count": 26,
   "metadata": {},
   "outputs": [],
   "source": [
    "# 5. dictionary\n",
    "# in general: {k:v for k,v in tuple} eg {k:v for k,v in zip(listof_k, listof_v)}\n",
    "a = {x:x**2 for x in range(7)}\n",
    "# alternative a = dict((x, x**2) for x in range(0,7))\n",
    "assert a == {0: 0, 1: 1, 2: 4, 3: 9, 4: 16, 5: 25, 6: 36}"
   ]
  }
 ],
 "metadata": {
  "kernelspec": {
   "display_name": "Python 3",
   "language": "python",
   "name": "python3"
  },
  "language_info": {
   "codemirror_mode": {
    "name": "ipython",
    "version": 3
   },
   "file_extension": ".py",
   "mimetype": "text/x-python",
   "name": "python",
   "nbconvert_exporter": "python",
   "pygments_lexer": "ipython3",
   "version": "3.7.6"
  }
 },
 "nbformat": 4,
 "nbformat_minor": 4
}
