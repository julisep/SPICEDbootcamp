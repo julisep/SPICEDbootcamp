{
 "cells": [
  {
   "cell_type": "markdown",
   "metadata": {},
   "source": [
    "# Cleaning up code"
   ]
  },
  {
   "cell_type": "markdown",
   "metadata": {},
   "source": [
    "* collect imports on top\n",
    "* make sure the code runs from top to bottom (esp. in Jupyter Notebooks)\n",
    "* odentify paragraphs of code that belong together (5-20 lines)\n",
    "     * make functions out of these\n",
    "* move all functions below import section"
   ]
  },
  {
   "cell_type": "code",
   "execution_count": 1,
   "metadata": {},
   "outputs": [],
   "source": [
    "import requests\n",
    "import re\n",
    "from collections import Counter\n",
    "from pprint import pprint"
   ]
  },
  {
   "cell_type": "markdown",
   "metadata": {},
   "source": [
    "A function is a miniature program, a piece of reusable code. It has:\n",
    "\n",
    "* input - arguments\n",
    "* processing - body\n",
    "* output - return\n",
    "\n",
    "Two situations:\n",
    "\n",
    "1. you already have code: start with the body\n",
    "2. you don't have anything: start with input-output"
   ]
  },
  {
   "cell_type": "code",
   "execution_count": 64,
   "metadata": {},
   "outputs": [],
   "source": [
    "def download_wikipedia_page(keyword, show_status=False):\n",
    "    \"\"\"retrieves the Wikipedia page and returns an HTML string\"\"\" #docstring \n",
    "    url = f\"https://en.wikipedia.org/wiki/{keyword}\"\n",
    "    response = requests.get(url)\n",
    "    # 2. check the status code\n",
    "    if show_status:\n",
    "        print(response.status_code)\n",
    "    # 3. store the html contents of the page\n",
    "    return response.text\n",
    "\n",
    "def write_page(content, keyword, mode='w'):\n",
    "    \"\"\"write html contents to a file\"\"\"\n",
    "    filename = f'{keyword}.html'\n",
    "    with open (filename, mode) as f:\n",
    "        f.write(content)\n",
    "\n",
    "def clean_html(content):\n",
    "    \"\"\"removes html tags and returns a count of words\"\"\"\n",
    "    tags = \"</?\\w+[^>]*>\"\n",
    "    text = re.sub(tags, \" \", content, re.IGNORECASE)\n",
    "    words = re.findall(\"\\w+\", text, re.IGNORECASE)\n",
    "    return words\n",
    "\n",
    "def count_words(content):\n",
    "    \"\"\"removes html tags and returns a count of words\"\"\"\n",
    "    words = clean_html(content)\n",
    "    count = len(words)\n",
    "    return count\n",
    "\n",
    "def get_top_words(content, n_words=20):\n",
    "    words = clean_html(content)\n",
    "    c = Counter(words)\n",
    "    return c.most_common(n_words)"
   ]
  },
  {
   "cell_type": "code",
   "execution_count": 65,
   "metadata": {},
   "outputs": [],
   "source": [
    "cities = ['Berlin', 'Paris', 'Helsinki']"
   ]
  },
  {
   "cell_type": "code",
   "execution_count": 66,
   "metadata": {},
   "outputs": [
    {
     "name": "stdout",
     "output_type": "stream",
     "text": [
      "200\n",
      "Berlin 127927\n",
      "[('a', 7168), ('class', 4102), ('href', 3726), ('span', 3492), ('title', 2886)]\n",
      "200\n",
      "Paris 192205\n",
      "[('a', 11532), ('href', 5905), ('class', 5515), ('title', 4428), ('span', 4388)]\n",
      "200\n",
      "Helsinki 81949\n",
      "[('a', 4211), ('class', 2486), ('href', 2178), ('span', 2123), ('title', 1799)]\n"
     ]
    }
   ],
   "source": [
    "for city in cities:   \n",
    "    html = download_wikipedia_page(city, show_status=True)\n",
    "    write_page(html, city)\n",
    "    c = count_words(html)\n",
    "    print(city, c)\n",
    "    print(get_top_words(html, n_words=5))"
   ]
  },
  {
   "cell_type": "markdown",
   "metadata": {},
   "source": [
    "___"
   ]
  },
  {
   "cell_type": "markdown",
   "metadata": {},
   "source": [
    "## advanced function writing\n",
    "### 1 - partial"
   ]
  },
  {
   "cell_type": "code",
   "execution_count": 69,
   "metadata": {},
   "outputs": [
    {
     "data": {
      "text/plain": [
       "10"
      ]
     },
     "execution_count": 69,
     "metadata": {},
     "output_type": "execute_result"
    }
   ],
   "source": [
    "def my_sum(a, b, c):\n",
    "    return a + b + c\n",
    "\n",
    "my_sum(2, 3, 5)"
   ]
  },
  {
   "cell_type": "code",
   "execution_count": 73,
   "metadata": {},
   "outputs": [
    {
     "data": {
      "text/plain": [
       "14"
      ]
     },
     "execution_count": 73,
     "metadata": {},
     "output_type": "execute_result"
    }
   ],
   "source": [
    "from functools import partial\n",
    "\n",
    "# b is always 7\n",
    "x = partial(my_sum, b=7)\n",
    "\n",
    "x(a=3,c=4)"
   ]
  },
  {
   "cell_type": "code",
   "execution_count": 75,
   "metadata": {},
   "outputs": [
    {
     "data": {
      "text/plain": [
       "9"
      ]
     },
     "execution_count": 75,
     "metadata": {},
     "output_type": "execute_result"
    }
   ],
   "source": [
    "y = partial(my_sum, a=1, b=6, c=2)\n",
    "y()"
   ]
  },
  {
   "cell_type": "code",
   "execution_count": 77,
   "metadata": {},
   "outputs": [],
   "source": [
    "# practical example\n",
    "from random import randint\n",
    "\n",
    "D6 = partial(randint, 1, 6)"
   ]
  },
  {
   "cell_type": "code",
   "execution_count": 88,
   "metadata": {},
   "outputs": [
    {
     "data": {
      "text/plain": [
       "5"
      ]
     },
     "execution_count": 88,
     "metadata": {},
     "output_type": "execute_result"
    }
   ],
   "source": [
    "D6() # rolling a dice"
   ]
  },
  {
   "cell_type": "markdown",
   "metadata": {},
   "source": [
    "### *args and **kwargs\n",
    "\n",
    "rather useful for programs of at least 1000 lines of code. Makes documentation harder to read."
   ]
  },
  {
   "cell_type": "code",
   "execution_count": 91,
   "metadata": {},
   "outputs": [],
   "source": [
    "def print_everything(a, b, *args): # *args allows flexible extra arguments\n",
    "    print('A', a)\n",
    "    print('B', b)\n",
    "    print('*args', args)\n",
    "    for x in args:\n",
    "        print('\\t', x)"
   ]
  },
  {
   "cell_type": "code",
   "execution_count": 92,
   "metadata": {
    "scrolled": false
   },
   "outputs": [
    {
     "name": "stdout",
     "output_type": "stream",
     "text": [
      "A 77\n",
      "B 42\n",
      "*args (11, 22, 33)\n",
      "\t 11\n",
      "\t 22\n",
      "\t 33\n"
     ]
    }
   ],
   "source": [
    "print_everything(77, 42, 11, 22, 33)"
   ]
  },
  {
   "cell_type": "code",
   "execution_count": 96,
   "metadata": {},
   "outputs": [
    {
     "data": {
      "text/plain": [
       "[('A', 'D', 'G'), ('B', 'E', 'H'), ('C', 'F', 'I')]"
      ]
     },
     "execution_count": 96,
     "metadata": {},
     "output_type": "execute_result"
    }
   ],
   "source": [
    "data = ('ABC', 'DEF', 'GHI')\n",
    "list(zip(*data)) # poor persons version of df.transpose()"
   ]
  },
  {
   "cell_type": "code",
   "execution_count": 99,
   "metadata": {},
   "outputs": [],
   "source": [
    "def print_everything(a, b, *args, **kwargs): # **kwargs allows extra keyword arguments\n",
    "    print('A', a)\n",
    "    print('B', b)\n",
    "    print('*args', args)\n",
    "    for x in args:\n",
    "        print('\\t', x)\n",
    "    print('**kwargs', kwargs)\n",
    "    print(kwargs['allspice'])"
   ]
  },
  {
   "cell_type": "code",
   "execution_count": 100,
   "metadata": {},
   "outputs": [
    {
     "name": "stdout",
     "output_type": "stream",
     "text": [
      "A 77\n",
      "B 42\n",
      "*args (11, 22, 33)\n",
      "\t 11\n",
      "\t 22\n",
      "\t 33\n",
      "**kwargs {'allspice': 99, 'thyme': 15}\n",
      "99\n"
     ]
    }
   ],
   "source": [
    "print_everything(77, 42, 11, 22, 33, allspice=99, thyme=15)"
   ]
  },
  {
   "cell_type": "code",
   "execution_count": 102,
   "metadata": {},
   "outputs": [],
   "source": [
    "# contact point with **kwargs: documentation\n",
    "import seaborn as sns\n",
    "df = sns.load_dataset('flights')"
   ]
  },
  {
   "cell_type": "code",
   "execution_count": null,
   "metadata": {},
   "outputs": [],
   "source": [
    "df.plot()"
   ]
  }
 ],
 "metadata": {
  "kernelspec": {
   "display_name": "Python 3",
   "language": "python",
   "name": "python3"
  },
  "language_info": {
   "codemirror_mode": {
    "name": "ipython",
    "version": 3
   },
   "file_extension": ".py",
   "mimetype": "text/x-python",
   "name": "python",
   "nbconvert_exporter": "python",
   "pygments_lexer": "ipython3",
   "version": "3.7.6"
  }
 },
 "nbformat": 4,
 "nbformat_minor": 4
}
