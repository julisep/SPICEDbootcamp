{
 "cells": [
  {
   "cell_type": "code",
   "execution_count": 1,
   "metadata": {},
   "outputs": [],
   "source": [
    "import spacy"
   ]
  },
  {
   "cell_type": "code",
   "execution_count": 2,
   "metadata": {},
   "outputs": [],
   "source": [
    "corpus = [\"I'm a ghost Living in a ghost town I'm a ghost Living in a ghost town You can look for me But I can't be found You can search for me I had to go underground Life was so beautiful Then we all got locked down Feel a like ghost Living in a ghost town Once this place was humming And the air was full of drumming The sound of cymbals crashing Glasses were all smashing Trumpets were all screaming Saxophones were blaring Nobody was caring if it's day or night I'm a ghost Living in a ghost town I'm going nowhere Shut up all alone So much time to lose Just staring at my phone Every night I am dreaming That you'll come and creep in my bed Please let this be over Not stuck in a world without end Preachers were all preaching Charities beseeching Politicians dealing Thieves were happy stealing Widows were all weeping There's no beds for us to sleep in Always had the feeling It will all come tumbling down I'm a ghost Living in a ghost town You can look for me But I can't be found We're all living in a ghost town Living in a ghost town We were so beautiful I was your man about town Living in this ghost town Ain't having any fun If I want a party It's a party of one\",\n",
    "          \"following lyrics contain explicit language: The simulation just went bad, but you're the best I ever had Like hand prints in wet cement, she touch me, it's permanent In my head, in my head, I couldn't hear anything you said, but In my head, in my head, I'm callin' you 'girlfriend,' what the fuck? I don't do fake love, but I'll take some from you tonight I know I've got to go, but I might just miss the flight I can't stay forever, let's play pretend And treat this night like it'll happen again You'll be my bloody valentine tonight I'm overstimulated and I'm sad, I don't expect you to understand There's nothing less than true romance, or am I just makin' a mess? In my head, in my head, I'm lyin' naked with you, yeah In my head, in my head, I'm ready to die holding your hand I don't do fake love, but I'll take some from you tonight (Take some from you tonight) I know I've got to go, but I might just miss the flight I can't stay forever, let's play pretend And treat this night like it'll happen again You'll be my bloody valentine tonight I can't hide how I feel about you Inside, I gave everything up Tonight, if I could just have you Be my, be my, baby I can't hide how I feel about you (I cannot hide these feelings) Inside, I gave everything up (I cannot hide these feelings) Tonight, if I could just have you (I gave up everything for you) Be my, be my (I gave up everything), ayy I don't do fake love, but I'll take some from you tonight (Take some from you tonight) I know I've got to go, but I might just miss the flight I can't stay forever, let's play pretend And treat this night like it'll happen again You'll be my bloody valentine tonight Na-na-na, na-na-na, na-na-na (Just tonight) Na-na-na, na-na-na, na-na-na (Just tonight) Na-na-na, na-na-na, na-na-na (Just tonight) Na-na-na, na-na-na, na-na-na (Just tonight) Were we on two track?\"]"
   ]
  },
  {
   "cell_type": "markdown",
   "metadata": {},
   "source": [
    "'https://course.spacy.io'\n",
    "* check out documentation\n",
    "* "
   ]
  },
  {
   "cell_type": "code",
   "execution_count": 3,
   "metadata": {},
   "outputs": [],
   "source": [
    "model = spacy.load('en_core_web_sm')"
   ]
  },
  {
   "cell_type": "code",
   "execution_count": 5,
   "metadata": {},
   "outputs": [],
   "source": [
    "tokenised_song = model(corpus[0])  \n",
    "#Spacy is a package that parses language (knows which words are nouns, verbs, places)\n",
    "#Weuse it to reduce the number of relevant words in our model"
   ]
  },
  {
   "cell_type": "code",
   "execution_count": 6,
   "metadata": {},
   "outputs": [
    {
     "data": {
      "text/plain": [
       "I'm a ghost Living in a ghost town I'm a ghost Living in a ghost town You can look for me But I can't be found You can search for me I had to go underground Life was so beautiful Then we all got locked down Feel a like ghost Living in a ghost town Once this place was humming And the air was full of drumming The sound of cymbals crashing Glasses were all smashing Trumpets were all screaming Saxophones were blaring Nobody was caring if it's day or night I'm a ghost Living in a ghost town I'm going nowhere Shut up all alone So much time to lose Just staring at my phone Every night I am dreaming That you'll come and creep in my bed Please let this be over Not stuck in a world without end Preachers were all preaching Charities beseeching Politicians dealing Thieves were happy stealing Widows were all weeping There's no beds for us to sleep in Always had the feeling It will all come tumbling down I'm a ghost Living in a ghost town You can look for me But I can't be found We're all living in a ghost town Living in a ghost town We were so beautiful I was your man about town Living in this ghost town Ain't having any fun If I want a party It's a party of one"
      ]
     },
     "execution_count": 6,
     "metadata": {},
     "output_type": "execute_result"
    }
   ],
   "source": [
    "tokenised_song "
   ]
  },
  {
   "cell_type": "code",
   "execution_count": 10,
   "metadata": {},
   "outputs": [
    {
     "name": "stdout",
     "output_type": "stream",
     "text": [
      "I True True -PRON- False\n",
      "'m False True be False\n",
      "a True True a False\n",
      "ghost True False ghost False\n",
      "Living True False live False\n",
      "in True True in False\n",
      "a True True a False\n",
      "ghost True False ghost False\n",
      "town True False town False\n",
      "I True True -PRON- False\n"
     ]
    }
   ],
   "source": [
    "#lemmatize - reduce a word to its root / essential form ... stemming - basically equivalent\n",
    "for word in tokenised_song[:10]:\n",
    "    print(word, word.is_alpha, word.is_stop, word.lemma_, word.is_punct)"
   ]
  },
  {
   "cell_type": "markdown",
   "metadata": {},
   "source": [
    "#### How can we use spacy in this week?\n",
    "* We can reduce the number of words in our corpus, by dropping stopwords, and by lemmatizing the remaining words"
   ]
  },
  {
   "cell_type": "code",
   "execution_count": 21,
   "metadata": {},
   "outputs": [],
   "source": [
    "def clean_my_song(song):\n",
    "    clean_song = []\n",
    "    # parse the song through the spacy model\n",
    "    tok_song = model(song)\n",
    "    # loop through words and drop stopwords, drop punctuation\n",
    "    \n",
    "    for word in tokenised_song:\n",
    "        if not word.is_stop and not word.is_punct:   # loop through words and drop stopwords, drop punctuation\n",
    "            clean_song.append(word.lemma_)  # lemmatize the remaining words\n",
    "    clean_song = ' '.join(clean_song) # return the lemmatized version to the caller as a string\n",
    "    return clean_song"
   ]
  },
  {
   "cell_type": "code",
   "execution_count": 22,
   "metadata": {},
   "outputs": [],
   "source": [
    "song1 = corpus[0]"
   ]
  },
  {
   "cell_type": "code",
   "execution_count": 24,
   "metadata": {},
   "outputs": [],
   "source": [
    "clean_song1 = clean_my_song(song1)"
   ]
  },
  {
   "cell_type": "code",
   "execution_count": null,
   "metadata": {},
   "outputs": [],
   "source": []
  },
  {
   "cell_type": "code",
   "execution_count": null,
   "metadata": {},
   "outputs": [],
   "source": []
  },
  {
   "cell_type": "code",
   "execution_count": null,
   "metadata": {},
   "outputs": [],
   "source": []
  },
  {
   "cell_type": "code",
   "execution_count": 16,
   "metadata": {},
   "outputs": [
    {
     "name": "stdout",
     "output_type": "stream",
     "text": [
      "[('a', 15), ('ghost', 13), ('in', 11), ('town', 9), ('all', 8)]\n"
     ]
    }
   ],
   "source": [
    "from collections import Counter\n",
    "\n",
    "c = Counter(corpus[0].split())\n",
    "print(c.most_common(5))"
   ]
  },
  {
   "cell_type": "code",
   "execution_count": 26,
   "metadata": {},
   "outputs": [
    {
     "name": "stdout",
     "output_type": "stream",
     "text": [
      "[('ghost', 13), ('town', 9), ('live', 8), ('look', 2), ('find', 2)]\n"
     ]
    }
   ],
   "source": [
    "c_clean = Counter(clean_song1.split())\n",
    "print(c_clean.most_common(5))"
   ]
  },
  {
   "cell_type": "code",
   "execution_count": null,
   "metadata": {},
   "outputs": [],
   "source": []
  }
 ],
 "metadata": {
  "kernelspec": {
   "display_name": "Python 3",
   "language": "python",
   "name": "python3"
  },
  "language_info": {
   "codemirror_mode": {
    "name": "ipython",
    "version": 3
   },
   "file_extension": ".py",
   "mimetype": "text/x-python",
   "name": "python",
   "nbconvert_exporter": "python",
   "pygments_lexer": "ipython3",
   "version": "3.7.6"
  }
 },
 "nbformat": 4,
 "nbformat_minor": 4
}
