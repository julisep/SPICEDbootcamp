{
 "cells": [
  {
   "cell_type": "markdown",
   "metadata": {},
   "source": [
    "# Scraping lyrics.com"
   ]
  },
  {
   "cell_type": "code",
   "execution_count": 49,
   "metadata": {},
   "outputs": [],
   "source": [
    "import pandas as pd\n",
    "import requests\n",
    "from bs4 import BeautifulSoup as soup\n",
    "import os\n",
    "import re"
   ]
  },
  {
   "cell_type": "markdown",
   "metadata": {},
   "source": [
    "## Scraping"
   ]
  },
  {
   "cell_type": "markdown",
   "metadata": {},
   "source": [
    "### Prepare functions for scraping lyrics of artists"
   ]
  },
  {
   "cell_type": "markdown",
   "metadata": {},
   "source": [
    "Functions to extract all titles and suffixes on the artist page that lead to lyrics of different songs."
   ]
  },
  {
   "cell_type": "code",
   "execution_count": 50,
   "metadata": {},
   "outputs": [],
   "source": [
    "def get_titles(artist):\n",
    "    titles = []\n",
    "    artist_site = requests.get('https://www.lyrics.com' + artist)\n",
    "    artist_html = soup(artist_site.text, 'html.parser')\n",
    "    all_entries = artist_html.body.find_all('a', attrs={\"href\":re.compile(\"^/lyric\")})\n",
    "    for entry in all_entries:\n",
    "        title = entry.text.lower().replace('(', '[').split(' [', 1)[0]\n",
    "        title = re.sub('[^A-Za-z0-9 ]+', '', title)\n",
    "        if title not in titles:\n",
    "            titles.append(title)\n",
    "    return titles\n",
    "\n",
    "def get_suffixes(artist):\n",
    "    suffixes = []\n",
    "    ttitles = []\n",
    "    artist_site = requests.get('https://www.lyrics.com' + artist)\n",
    "    artist_html = soup(artist_site.text, 'html.parser')\n",
    "    all_entries = artist_html.body.find_all('a', attrs={\"href\":re.compile(\"^/lyric\")})\n",
    "    for entry in all_entries:\n",
    "        ttitle = entry.text.lower().replace('(', '[').split(' [', 1)[0]\n",
    "        ttitle = re.sub('[^A-Za-z0-9 ]+', '', ttitle)\n",
    "        if ttitle not in ttitles:\n",
    "            ttitles.append(ttitle)\n",
    "            suffixes.append(entry.get('href'))\n",
    "    return suffixes"
   ]
  },
  {
   "cell_type": "markdown",
   "metadata": {},
   "source": [
    "Function to extract the lyrics of each song in the suffixes list and store it in one list"
   ]
  },
  {
   "cell_type": "code",
   "execution_count": 51,
   "metadata": {},
   "outputs": [],
   "source": [
    "def get_lyrics(artist, suffixes):\n",
    "    lyrics = []\n",
    "    for i in range(len(suffixes)):\n",
    "        lyrics_site = requests.get('https://www.lyrics.com' + suffixes[i])\n",
    "        lyrics_html = soup(lyrics_site.text, 'html.parser')\n",
    "        text = lyrics_html.body.find(id ='lyric-body-text').text\n",
    "        text = re.sub('[^A-Za-z0-9 ]+', ' ', text)\n",
    "        lyrics.append(text) \n",
    "    return lyrics"
   ]
  },
  {
   "cell_type": "markdown",
   "metadata": {},
   "source": [
    "\n",
    "### Florence and the Machine lyrics"
   ]
  },
  {
   "cell_type": "code",
   "execution_count": 52,
   "metadata": {
    "scrolled": true
   },
   "outputs": [],
   "source": [
    "# Florence and the machine\n",
    "fatm = '/artist.php?name=Florence-%2B-the-Machine&aid=1062562&o=1' # URL of the arstist page (sorted from A-Z, \n",
    "                                                                   # not grouped by album)\n",
    "fatm_titles = get_titles(fatm)\n",
    "fatm_suffixes = get_suffixes(fatm)\n",
    "fatm_lyrics = get_lyrics(fatm, fatm_suffixes)"
   ]
  },
  {
   "cell_type": "code",
   "execution_count": 53,
   "metadata": {},
   "outputs": [],
   "source": [
    "fatm_df = pd.DataFrame({'artist':['Florence and the Machine' for i in range(len(fatm_titles))], 'title':fatm_titles, 'lyrics':fatm_lyrics})\n",
    "fatm_df.to_csv('fatm_df.csv', sep=';', index=False)"
   ]
  },
  {
   "cell_type": "markdown",
   "metadata": {},
   "source": [
    "Count most frequent words"
   ]
  },
  {
   "cell_type": "code",
   "execution_count": 54,
   "metadata": {},
   "outputs": [
    {
     "name": "stdout",
     "output_type": "stream",
     "text": [
      "[('I', 1295), ('the', 998), ('you', 705), ('it', 560), ('to', 559)]\n"
     ]
    }
   ],
   "source": [
    "from collections import Counter\n",
    "\n",
    "c = Counter(' '.join(fatm_lyrics).split())\n",
    "print(c.most_common(5))"
   ]
  },
  {
   "cell_type": "markdown",
   "metadata": {},
   "source": [
    "### Imagine Dragons lyrics"
   ]
  },
  {
   "cell_type": "code",
   "execution_count": 55,
   "metadata": {},
   "outputs": [],
   "source": [
    "# Imagine Dragons\n",
    "imdrag = '/artist.php?name=Imagine-Dragons&aid=1184089&o=1' # URL of the arstist page (sorted from A-Z, \n",
    "                                                                   # not grouped by album)\n",
    "imdrag_titles = get_titles(imdrag)\n",
    "imdrag_suffixes = get_suffixes(imdrag)\n",
    "imdrag_lyrics = get_lyrics(imdrag, imdrag_suffixes)"
   ]
  },
  {
   "cell_type": "code",
   "execution_count": 56,
   "metadata": {},
   "outputs": [],
   "source": [
    "imdrag_df = pd.DataFrame({'artist':['Imagine Dragons' for i in range(len(imdrag_titles))], 'title':imdrag_titles, 'lyrics':imdrag_lyrics})\n",
    "imdrag_df.to_csv('imdrag_df.csv', sep=';', index=False)"
   ]
  },
  {
   "cell_type": "markdown",
   "metadata": {},
   "source": [
    "### Queen"
   ]
  },
  {
   "cell_type": "code",
   "execution_count": 57,
   "metadata": {},
   "outputs": [],
   "source": [
    "# Queen\n",
    "queen = '/artist.php?name=Queen&aid=5205&o=1' # URL of the arstist page (sorted from A-Z, \n",
    "                                                                   # not grouped by album)\n",
    "queen_titles = get_titles(queen)\n",
    "queen_suffixes = get_suffixes(queen)\n",
    "queen_lyrics = get_lyrics(queen, queen_suffixes)"
   ]
  },
  {
   "cell_type": "code",
   "execution_count": 58,
   "metadata": {},
   "outputs": [],
   "source": [
    "queen_df = pd.DataFrame({'artist':['Queen' for i in range(len(queen_titles))], 'title':queen_titles, 'lyrics':queen_lyrics})\n",
    "queen_df.to_csv('queen_df.csv', sep=';', index=False)"
   ]
  },
  {
   "cell_type": "markdown",
   "metadata": {},
   "source": [
    "### ABBA"
   ]
  },
  {
   "cell_type": "code",
   "execution_count": 59,
   "metadata": {},
   "outputs": [],
   "source": [
    "# ABBA\n",
    "abba = '/artist.php?name=ABBA&aid=3492&o=1' # URL of the arstist page (sorted from A-Z, \n",
    "                                                                   # not grouped by album)\n",
    "abba_titles = get_titles(abba)\n",
    "abba_suffixes = get_suffixes(abba)\n",
    "abba_lyrics = get_lyrics(abba, abba_suffixes)"
   ]
  },
  {
   "cell_type": "code",
   "execution_count": 60,
   "metadata": {},
   "outputs": [],
   "source": [
    "abba_df = pd.DataFrame({'artist':['ABBA' for i in range(len(abba_titles))], 'title':abba_titles, 'lyrics':abba_lyrics})\n",
    "abba_df.to_csv('abba_df.csv', sep=';', index=False)"
   ]
  },
  {
   "cell_type": "markdown",
   "metadata": {},
   "source": [
    "## Create one dataframe and save it as .csv"
   ]
  },
  {
   "cell_type": "code",
   "execution_count": 61,
   "metadata": {},
   "outputs": [],
   "source": [
    "# combine dataframes\n",
    "lyrics_df = fatm_df.append(imdrag_df).append(queen_df).append(abba_df)"
   ]
  },
  {
   "cell_type": "code",
   "execution_count": 62,
   "metadata": {},
   "outputs": [],
   "source": [
    "# save it\n",
    "lyrics_df.to_csv('lyrics_df.csv', sep=';', index=False)"
   ]
  },
  {
   "cell_type": "code",
   "execution_count": null,
   "metadata": {},
   "outputs": [],
   "source": []
  },
  {
   "cell_type": "code",
   "execution_count": null,
   "metadata": {},
   "outputs": [],
   "source": []
  },
  {
   "cell_type": "code",
   "execution_count": null,
   "metadata": {},
   "outputs": [],
   "source": []
  },
  {
   "cell_type": "code",
   "execution_count": null,
   "metadata": {},
   "outputs": [],
   "source": []
  },
  {
   "cell_type": "code",
   "execution_count": null,
   "metadata": {},
   "outputs": [],
   "source": []
  },
  {
   "cell_type": "markdown",
   "metadata": {},
   "source": [
    "### Word clouds"
   ]
  },
  {
   "cell_type": "code",
   "execution_count": 38,
   "metadata": {},
   "outputs": [],
   "source": [
    "import numpy as np\n",
    "from matplotlib import pyplot as plt\n",
    "import wordcloud"
   ]
  },
  {
   "cell_type": "code",
   "execution_count": 39,
   "metadata": {
    "scrolled": true
   },
   "outputs": [
    {
     "ename": "TypeError",
     "evalue": "data type not understood",
     "output_type": "error",
     "traceback": [
      "\u001b[0;31m---------------------------------------------------------------------------\u001b[0m",
      "\u001b[0;31mTypeError\u001b[0m                                 Traceback (most recent call last)",
      "\u001b[0;32m<ipython-input-39-a072b9e6e9a6>\u001b[0m in \u001b[0;36m<module>\u001b[0;34m\u001b[0m\n\u001b[0;32m----> 1\u001b[0;31m \u001b[0mmask\u001b[0m \u001b[0;34m=\u001b[0m \u001b[0mnp\u001b[0m\u001b[0;34m.\u001b[0m\u001b[0marray\u001b[0m\u001b[0;34m(\u001b[0m\u001b[0;34m(\u001b[0m\u001b[0;36m500\u001b[0m\u001b[0;34m,\u001b[0m \u001b[0;36m500\u001b[0m\u001b[0;34m,\u001b[0m \u001b[0;36m3\u001b[0m\u001b[0;34m)\u001b[0m\u001b[0;34m,\u001b[0m \u001b[0;36m0\u001b[0m\u001b[0;34m)\u001b[0m\u001b[0;34m\u001b[0m\u001b[0;34m\u001b[0m\u001b[0m\n\u001b[0m\u001b[1;32m      2\u001b[0m \u001b[0mmask\u001b[0m\u001b[0;34m[\u001b[0m\u001b[0;36m150\u001b[0m\u001b[0;34m:\u001b[0m\u001b[0;36m350\u001b[0m\u001b[0;34m,\u001b[0m\u001b[0;36m150\u001b[0m\u001b[0;34m:\u001b[0m\u001b[0;36m350\u001b[0m\u001b[0;34m,\u001b[0m\u001b[0;34m:\u001b[0m\u001b[0;34m]\u001b[0m \u001b[0;34m=\u001b[0m \u001b[0;36m255\u001b[0m  \u001b[0;31m# masked out area\u001b[0m\u001b[0;34m\u001b[0m\u001b[0;34m\u001b[0m\u001b[0m\n",
      "\u001b[0;31mTypeError\u001b[0m: data type not understood"
     ]
    }
   ],
   "source": [
    "mask = np.array((500, 500, 3), 0)\n",
    "mask[150:350,150:350,:] = 255  # masked out area"
   ]
  },
  {
   "cell_type": "code",
   "execution_count": null,
   "metadata": {},
   "outputs": [],
   "source": [
    "cloud = wordcloud.WordCloud(background_color=\"white\",\n",
    "                max_words=50,\n",
    "                mask=mask,\n",
    "                collocations=____,  # calculates frequencies\n",
    "                contour_color='steelblue').____(text)\n",
    "                # stop words are removed!\n",
    "\n",
    "plt.figure(figsize = (40,____))\n",
    "plt.imshow(cloud, interpolation='bilinear')\n",
    "#____.savefig('cloud.png')\n",
    "plt.show()"
   ]
  }
 ],
 "metadata": {
  "kernelspec": {
   "display_name": "Python 3",
   "language": "python",
   "name": "python3"
  },
  "language_info": {
   "codemirror_mode": {
    "name": "ipython",
    "version": 3
   },
   "file_extension": ".py",
   "mimetype": "text/x-python",
   "name": "python",
   "nbconvert_exporter": "python",
   "pygments_lexer": "ipython3",
   "version": "3.7.6"
  }
 },
 "nbformat": 4,
 "nbformat_minor": 4
}
