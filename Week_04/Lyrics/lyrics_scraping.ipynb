{
 "cells": [
  {
   "cell_type": "markdown",
   "metadata": {},
   "source": [
    "# Scraping lyrics.com"
   ]
  },
  {
   "cell_type": "code",
   "execution_count": 2,
   "metadata": {},
   "outputs": [],
   "source": [
    "import requests\n",
    "from bs4 import BeautifulSoup as soup\n",
    "import os\n",
    "import re"
   ]
  },
  {
   "cell_type": "markdown",
   "metadata": {},
   "source": [
    "### Prepare functions for scraping lyrics of artists"
   ]
  },
  {
   "cell_type": "markdown",
   "metadata": {},
   "source": [
    "Functions to extract all titles and suffixes on the artist page that lead to lyrics of different songs."
   ]
  },
  {
   "cell_type": "code",
   "execution_count": 15,
   "metadata": {},
   "outputs": [],
   "source": [
    "def get_titles(artist):\n",
    "    titles = []\n",
    "    artist_site = requests.get('https://www.lyrics.com' + artist)\n",
    "    artist_html = soup(artist_site.text, 'html.parser')\n",
    "    all_entries = artist_html.body.find_all('a', attrs={\"href\":re.compile(\"^/lyric\")})\n",
    "    for entry in all_entries:\n",
    "        title = entry.text.lower().replace('(', '[').split(' [', 1)[0].replace(' ', '_')\n",
    "        if title not in titles:\n",
    "            titles.append(title)\n",
    "    return titles\n",
    "\n",
    "def get_suffixes(artist):\n",
    "    suffixes = []\n",
    "    ttitles = []\n",
    "    artist_site = requests.get('https://www.lyrics.com' + artist)\n",
    "    artist_html = soup(artist_site.text, 'html.parser')\n",
    "    all_entries = artist_html.body.find_all('a', attrs={\"href\":re.compile(\"^/lyric\")})\n",
    "    for entry in all_entries:\n",
    "        ttitle = entry.text.lower().replace('(', '[').split(' [', 1)[0].replace(' ', '_')\n",
    "        if ttitle not in ttitles:\n",
    "            ttitles.append(ttitle)\n",
    "            suffixes.append(entry.get('href'))\n",
    "    return suffixes"
   ]
  },
  {
   "cell_type": "markdown",
   "metadata": {},
   "source": [
    "Function to extract the lyrics of each song in the suffixes list and store it in one list"
   ]
  },
  {
   "cell_type": "code",
   "execution_count": 16,
   "metadata": {},
   "outputs": [],
   "source": [
    "def get_lyrics(artist, suffixes):\n",
    "    lyrics = []\n",
    "    for i in range(len(suffixes)):\n",
    "        lyrics_site = requests.get('https://www.lyrics.com' + suffixes[i])\n",
    "        lyrics_html = soup(lyrics_site.text, 'html.parser')\n",
    "        text = lyrics_html.body.find(id ='lyric-body-text').text.replace('\\n', ' ') \n",
    "        lyrics.append(text) \n",
    "    return lyrics"
   ]
  },
  {
   "cell_type": "markdown",
   "metadata": {},
   "source": [
    "### Florence and the Machine lyrics"
   ]
  },
  {
   "cell_type": "code",
   "execution_count": 19,
   "metadata": {},
   "outputs": [],
   "source": [
    "# Florence and the machine\n",
    "fatm = '/artist.php?name=Florence-%2B-the-Machine&aid=1062562&o=1' # URL of the arstist page (sorted from A-Z, \n",
    "                                                                   # not grouped by album)\n",
    "fatm_titles = get_titles(fatm)\n",
    "fatm_suffixes = get_suffixes(fatm)\n",
    "fatm_lyrics = get_lyrics(fatm, fatm_suffixes)"
   ]
  },
  {
   "cell_type": "markdown",
   "metadata": {},
   "source": [
    "Count most frequent words"
   ]
  },
  {
   "cell_type": "code",
   "execution_count": 21,
   "metadata": {},
   "outputs": [
    {
     "name": "stdout",
     "output_type": "stream",
     "text": [
      "[('the', 1005), ('I', 869), ('you', 562), ('to', 561), ('me', 502)]\n"
     ]
    }
   ],
   "source": [
    "from collections import Counter\n",
    "\n",
    "c = Counter(' '.join(fatm_lyrics).split())\n",
    "print(c.most_common(5))"
   ]
  },
  {
   "cell_type": "markdown",
   "metadata": {},
   "source": [
    "### Imagine Dragons lyrics"
   ]
  },
  {
   "cell_type": "code",
   "execution_count": 23,
   "metadata": {},
   "outputs": [],
   "source": [
    "# Imagine Dragons\n",
    "imdrag = '/artist.php?name=Imagine-Dragons&aid=1184089&o=1' # URL of the arstist page (sorted from A-Z, \n",
    "                                                                   # not grouped by album)\n",
    "imdrag_titles = get_titles(imdrag)\n",
    "imdrag_suffixes = get_suffixes(imdrag)\n",
    "imdrag_lyrics = get_lyrics(imdrag, imdrag_suffixes)"
   ]
  },
  {
   "cell_type": "code",
   "execution_count": null,
   "metadata": {},
   "outputs": [],
   "source": []
  }
 ],
 "metadata": {
  "kernelspec": {
   "display_name": "Python 3",
   "language": "python",
   "name": "python3"
  },
  "language_info": {
   "codemirror_mode": {
    "name": "ipython",
    "version": 3
   },
   "file_extension": ".py",
   "mimetype": "text/x-python",
   "name": "python",
   "nbconvert_exporter": "python",
   "pygments_lexer": "ipython3",
   "version": "3.7.6"
  }
 },
 "nbformat": 4,
 "nbformat_minor": 4
}
