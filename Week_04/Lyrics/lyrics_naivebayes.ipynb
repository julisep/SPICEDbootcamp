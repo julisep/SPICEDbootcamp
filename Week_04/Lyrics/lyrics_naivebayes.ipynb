{
 "cells": [
  {
   "cell_type": "markdown",
   "metadata": {},
   "source": [
    "# Bag of words approach on lyrics_df"
   ]
  },
  {
   "cell_type": "code",
   "execution_count": 1,
   "metadata": {},
   "outputs": [],
   "source": [
    "import pandas as pd"
   ]
  },
  {
   "cell_type": "code",
   "execution_count": 31,
   "metadata": {},
   "outputs": [
    {
     "data": {
      "text/html": [
       "<div>\n",
       "<style scoped>\n",
       "    .dataframe tbody tr th:only-of-type {\n",
       "        vertical-align: middle;\n",
       "    }\n",
       "\n",
       "    .dataframe tbody tr th {\n",
       "        vertical-align: top;\n",
       "    }\n",
       "\n",
       "    .dataframe thead th {\n",
       "        text-align: right;\n",
       "    }\n",
       "</style>\n",
       "<table border=\"1\" class=\"dataframe\">\n",
       "  <thead>\n",
       "    <tr style=\"text-align: right;\">\n",
       "      <th></th>\n",
       "      <th>artist</th>\n",
       "      <th>title</th>\n",
       "      <th>lyrics</th>\n",
       "    </tr>\n",
       "  </thead>\n",
       "  <tbody>\n",
       "    <tr>\n",
       "      <th>0</th>\n",
       "      <td>Florence and the Machine</td>\n",
       "      <td>100 years</td>\n",
       "      <td>I believe in you and in our hearts we know the...</td>\n",
       "    </tr>\n",
       "    <tr>\n",
       "      <th>1</th>\n",
       "      <td>Florence and the Machine</td>\n",
       "      <td>addicted to love</td>\n",
       "      <td>The lights are on  but you re not home Your mi...</td>\n",
       "    </tr>\n",
       "    <tr>\n",
       "      <th>2</th>\n",
       "      <td>Florence and the Machine</td>\n",
       "      <td>all this and heaven too</td>\n",
       "      <td>And the heart is hard to translate It has a la...</td>\n",
       "    </tr>\n",
       "    <tr>\n",
       "      <th>3</th>\n",
       "      <td>Florence and the Machine</td>\n",
       "      <td>are you hurting the one you love</td>\n",
       "      <td>Are you hurting the one you love You say you v...</td>\n",
       "    </tr>\n",
       "    <tr>\n",
       "      <th>4</th>\n",
       "      <td>Florence and the Machine</td>\n",
       "      <td>bedroom hymns</td>\n",
       "      <td>This is as good a place to fall as any We ll b...</td>\n",
       "    </tr>\n",
       "    <tr>\n",
       "      <th>...</th>\n",
       "      <td>...</td>\n",
       "      <td>...</td>\n",
       "      <td>...</td>\n",
       "    </tr>\n",
       "    <tr>\n",
       "      <th>561</th>\n",
       "      <td>ABBA</td>\n",
       "      <td>winner takes it all</td>\n",
       "      <td>I don t wanna talk about things we ve gone thr...</td>\n",
       "    </tr>\n",
       "    <tr>\n",
       "      <th>562</th>\n",
       "      <td>ABBA</td>\n",
       "      <td>wrap your arms around me</td>\n",
       "      <td>When you re so far away At the end of each day...</td>\n",
       "    </tr>\n",
       "    <tr>\n",
       "      <th>563</th>\n",
       "      <td>ABBA</td>\n",
       "      <td>you owe me one</td>\n",
       "      <td>Frida  Now there s a shadow falling over our f...</td>\n",
       "    </tr>\n",
       "    <tr>\n",
       "      <th>564</th>\n",
       "      <td>ABBA</td>\n",
       "      <td>youre there</td>\n",
       "      <td>I tried not to see you Cause I couldn t take t...</td>\n",
       "    </tr>\n",
       "    <tr>\n",
       "      <th>565</th>\n",
       "      <td>ABBA</td>\n",
       "      <td>h vilka tider</td>\n",
       "      <td>The city is a jungle  you better take care Nev...</td>\n",
       "    </tr>\n",
       "  </tbody>\n",
       "</table>\n",
       "<p>566 rows × 3 columns</p>\n",
       "</div>"
      ],
      "text/plain": [
       "                       artist                             title  \\\n",
       "0    Florence and the Machine                         100 years   \n",
       "1    Florence and the Machine                  addicted to love   \n",
       "2    Florence and the Machine           all this and heaven too   \n",
       "3    Florence and the Machine  are you hurting the one you love   \n",
       "4    Florence and the Machine                     bedroom hymns   \n",
       "..                        ...                               ...   \n",
       "561                      ABBA               winner takes it all   \n",
       "562                      ABBA          wrap your arms around me   \n",
       "563                      ABBA                    you owe me one   \n",
       "564                      ABBA                       youre there   \n",
       "565                      ABBA                     h vilka tider   \n",
       "\n",
       "                                                lyrics  \n",
       "0    I believe in you and in our hearts we know the...  \n",
       "1    The lights are on  but you re not home Your mi...  \n",
       "2    And the heart is hard to translate It has a la...  \n",
       "3    Are you hurting the one you love You say you v...  \n",
       "4    This is as good a place to fall as any We ll b...  \n",
       "..                                                 ...  \n",
       "561  I don t wanna talk about things we ve gone thr...  \n",
       "562  When you re so far away At the end of each day...  \n",
       "563  Frida  Now there s a shadow falling over our f...  \n",
       "564  I tried not to see you Cause I couldn t take t...  \n",
       "565  The city is a jungle  you better take care Nev...  \n",
       "\n",
       "[566 rows x 3 columns]"
      ]
     },
     "execution_count": 31,
     "metadata": {},
     "output_type": "execute_result"
    }
   ],
   "source": [
    "corpus = pd.read_csv('lyrics_df.csv', sep=';')\n",
    "corpus"
   ]
  },
  {
   "cell_type": "markdown",
   "metadata": {},
   "source": [
    "## 1 - clean lyrics (Spacy)"
   ]
  },
  {
   "cell_type": "code",
   "execution_count": 30,
   "metadata": {},
   "outputs": [],
   "source": [
    "import spacy\n",
    "model = spacy.load('en_core_web_sm')"
   ]
  },
  {
   "cell_type": "code",
   "execution_count": 68,
   "metadata": {},
   "outputs": [],
   "source": [
    "# Create function that cleans lyrics\n",
    "def clean_lyrics(song):\n",
    "    clean_song = []\n",
    "    \n",
    "    # parse the song through the spacy model\n",
    "    tok_song = model(song)\n",
    "    \n",
    "    # loop through words and drop stopwords, drop punctuation\n",
    "    for word in tok_song:\n",
    "        if word.is_alpha and not word.is_stop:   # loop through words and drop stopwords, drop punctuation\n",
    "            clean_song.append(word.lemma_)           # lemmatize the remaining words\n",
    "    clean_song = ' '.join(clean_song)                # return the lemmatized version to the caller as a string\n",
    "    return clean_song"
   ]
  },
  {
   "cell_type": "code",
   "execution_count": 69,
   "metadata": {},
   "outputs": [],
   "source": [
    "corpus['lyrics_clean'] = corpus['lyrics'].apply(clean_lyrics)"
   ]
  },
  {
   "cell_type": "code",
   "execution_count": 70,
   "metadata": {},
   "outputs": [
    {
     "data": {
      "text/html": [
       "<div>\n",
       "<style scoped>\n",
       "    .dataframe tbody tr th:only-of-type {\n",
       "        vertical-align: middle;\n",
       "    }\n",
       "\n",
       "    .dataframe tbody tr th {\n",
       "        vertical-align: top;\n",
       "    }\n",
       "\n",
       "    .dataframe thead th {\n",
       "        text-align: right;\n",
       "    }\n",
       "</style>\n",
       "<table border=\"1\" class=\"dataframe\">\n",
       "  <thead>\n",
       "    <tr style=\"text-align: right;\">\n",
       "      <th></th>\n",
       "      <th>artist</th>\n",
       "      <th>title</th>\n",
       "      <th>lyrics</th>\n",
       "      <th>lyrics_clean</th>\n",
       "    </tr>\n",
       "  </thead>\n",
       "  <tbody>\n",
       "    <tr>\n",
       "      <th>0</th>\n",
       "      <td>Florence and the Machine</td>\n",
       "      <td>100 years</td>\n",
       "      <td>I believe in you and in our hearts we know the...</td>\n",
       "      <td>believe heart know truth believe love darker g...</td>\n",
       "    </tr>\n",
       "    <tr>\n",
       "      <th>1</th>\n",
       "      <td>Florence and the Machine</td>\n",
       "      <td>addicted to love</td>\n",
       "      <td>The lights are on  but you re not home Your mi...</td>\n",
       "      <td>light home mind heart sweat body shake kiss ta...</td>\n",
       "    </tr>\n",
       "    <tr>\n",
       "      <th>2</th>\n",
       "      <td>Florence and the Machine</td>\n",
       "      <td>all this and heaven too</td>\n",
       "      <td>And the heart is hard to translate It has a la...</td>\n",
       "      <td>heart hard translate language s talk tongue qu...</td>\n",
       "    </tr>\n",
       "    <tr>\n",
       "      <th>3</th>\n",
       "      <td>Florence and the Machine</td>\n",
       "      <td>are you hurting the one you love</td>\n",
       "      <td>Are you hurting the one you love You say you v...</td>\n",
       "      <td>hurt love ve find Heaven t find God hurt love ...</td>\n",
       "    </tr>\n",
       "    <tr>\n",
       "      <th>4</th>\n",
       "      <td>Florence and the Machine</td>\n",
       "      <td>bedroom hymns</td>\n",
       "      <td>This is as good a place to fall as any We ll b...</td>\n",
       "      <td>good place fall will build alter Maria m knee ...</td>\n",
       "    </tr>\n",
       "    <tr>\n",
       "      <th>...</th>\n",
       "      <td>...</td>\n",
       "      <td>...</td>\n",
       "      <td>...</td>\n",
       "      <td>...</td>\n",
       "    </tr>\n",
       "    <tr>\n",
       "      <th>561</th>\n",
       "      <td>ABBA</td>\n",
       "      <td>winner takes it all</td>\n",
       "      <td>I don t wanna talk about things we ve gone thr...</td>\n",
       "      <td>don t wanna talk thing ve go s hurt s history ...</td>\n",
       "    </tr>\n",
       "    <tr>\n",
       "      <th>562</th>\n",
       "      <td>ABBA</td>\n",
       "      <td>wrap your arms around me</td>\n",
       "      <td>When you re so far away At the end of each day...</td>\n",
       "      <td>far away end day count moment till fade away i...</td>\n",
       "    </tr>\n",
       "    <tr>\n",
       "      <th>563</th>\n",
       "      <td>ABBA</td>\n",
       "      <td>you owe me one</td>\n",
       "      <td>Frida  Now there s a shadow falling over our f...</td>\n",
       "      <td>Frida s shadow fall face doubt forever heart w...</td>\n",
       "    </tr>\n",
       "    <tr>\n",
       "      <th>564</th>\n",
       "      <td>ABBA</td>\n",
       "      <td>youre there</td>\n",
       "      <td>I tried not to see you Cause I couldn t take t...</td>\n",
       "      <td>try Cause couldn t heartache past Wouldn t com...</td>\n",
       "    </tr>\n",
       "    <tr>\n",
       "      <th>565</th>\n",
       "      <td>ABBA</td>\n",
       "      <td>h vilka tider</td>\n",
       "      <td>The city is a jungle  you better take care Nev...</td>\n",
       "      <td>city jungle better care walk midnight don t be...</td>\n",
       "    </tr>\n",
       "  </tbody>\n",
       "</table>\n",
       "<p>566 rows × 4 columns</p>\n",
       "</div>"
      ],
      "text/plain": [
       "                       artist                             title  \\\n",
       "0    Florence and the Machine                         100 years   \n",
       "1    Florence and the Machine                  addicted to love   \n",
       "2    Florence and the Machine           all this and heaven too   \n",
       "3    Florence and the Machine  are you hurting the one you love   \n",
       "4    Florence and the Machine                     bedroom hymns   \n",
       "..                        ...                               ...   \n",
       "561                      ABBA               winner takes it all   \n",
       "562                      ABBA          wrap your arms around me   \n",
       "563                      ABBA                    you owe me one   \n",
       "564                      ABBA                       youre there   \n",
       "565                      ABBA                     h vilka tider   \n",
       "\n",
       "                                                lyrics  \\\n",
       "0    I believe in you and in our hearts we know the...   \n",
       "1    The lights are on  but you re not home Your mi...   \n",
       "2    And the heart is hard to translate It has a la...   \n",
       "3    Are you hurting the one you love You say you v...   \n",
       "4    This is as good a place to fall as any We ll b...   \n",
       "..                                                 ...   \n",
       "561  I don t wanna talk about things we ve gone thr...   \n",
       "562  When you re so far away At the end of each day...   \n",
       "563  Frida  Now there s a shadow falling over our f...   \n",
       "564  I tried not to see you Cause I couldn t take t...   \n",
       "565  The city is a jungle  you better take care Nev...   \n",
       "\n",
       "                                          lyrics_clean  \n",
       "0    believe heart know truth believe love darker g...  \n",
       "1    light home mind heart sweat body shake kiss ta...  \n",
       "2    heart hard translate language s talk tongue qu...  \n",
       "3    hurt love ve find Heaven t find God hurt love ...  \n",
       "4    good place fall will build alter Maria m knee ...  \n",
       "..                                                 ...  \n",
       "561  don t wanna talk thing ve go s hurt s history ...  \n",
       "562  far away end day count moment till fade away i...  \n",
       "563  Frida s shadow fall face doubt forever heart w...  \n",
       "564  try Cause couldn t heartache past Wouldn t com...  \n",
       "565  city jungle better care walk midnight don t be...  \n",
       "\n",
       "[566 rows x 4 columns]"
      ]
     },
     "execution_count": 70,
     "metadata": {},
     "output_type": "execute_result"
    }
   ],
   "source": [
    "corpus"
   ]
  },
  {
   "cell_type": "markdown",
   "metadata": {},
   "source": [
    "## 2 - transform your corpus into a matrix (CountVectorizer)"
   ]
  },
  {
   "cell_type": "code",
   "execution_count": 71,
   "metadata": {},
   "outputs": [],
   "source": [
    "from sklearn.feature_extraction.text import CountVectorizer"
   ]
  },
  {
   "cell_type": "code",
   "execution_count": 72,
   "metadata": {},
   "outputs": [
    {
     "data": {
      "text/plain": [
       "CountVectorizer(analyzer='word', binary=False, decode_error='strict',\n",
       "                dtype=<class 'numpy.int64'>, encoding='utf-8', input='content',\n",
       "                lowercase=True, max_df=1.0, max_features=None, min_df=1,\n",
       "                ngram_range=(1, 1), preprocessor=None, stop_words='english',\n",
       "                strip_accents=None, token_pattern='(?u)\\\\b\\\\w\\\\w+\\\\b',\n",
       "                tokenizer=None, vocabulary=None)"
      ]
     },
     "execution_count": 72,
     "metadata": {},
     "output_type": "execute_result"
    }
   ],
   "source": [
    "cv = CountVectorizer(stop_words='english')\n",
    "cv.fit(corpus['lyrics_clean'])"
   ]
  },
  {
   "cell_type": "code",
   "execution_count": 73,
   "metadata": {},
   "outputs": [],
   "source": [
    "lyrics_vec = cv.transform(corpus['lyrics_clean'])"
   ]
  },
  {
   "cell_type": "markdown",
   "metadata": {},
   "source": [
    "## 3 - Normalize the counts (TfidfTransformer)"
   ]
  },
  {
   "cell_type": "code",
   "execution_count": 74,
   "metadata": {},
   "outputs": [],
   "source": [
    "from sklearn.feature_extraction.text import TfidfTransformer"
   ]
  },
  {
   "cell_type": "code",
   "execution_count": 75,
   "metadata": {},
   "outputs": [],
   "source": [
    "tf = TfidfTransformer()\n",
    "lyrics_vec_tf = tf.fit_transform(lyrics_vec)"
   ]
  },
  {
   "cell_type": "code",
   "execution_count": 76,
   "metadata": {},
   "outputs": [],
   "source": [
    "lyrics_df = pd.DataFrame(lyrics_vec_tf.todense().round(2),  columns=cv.get_feature_names(), index=corpus['artist'])"
   ]
  },
  {
   "cell_type": "code",
   "execution_count": null,
   "metadata": {},
   "outputs": [],
   "source": []
  },
  {
   "cell_type": "markdown",
   "metadata": {},
   "source": [
    "## 4 - Classification model (Naive Bayes)"
   ]
  },
  {
   "cell_type": "markdown",
   "metadata": {},
   "source": [
    "**First, add a labels column to your dataframe by factorizing the artist name**"
   ]
  },
  {
   "cell_type": "code",
   "execution_count": 83,
   "metadata": {},
   "outputs": [],
   "source": [
    "# factorize label column\n",
    "lyrics_df['artist_fact'] = pd.factorize(lyrics_df.index)[0]"
   ]
  },
  {
   "cell_type": "code",
   "execution_count": 84,
   "metadata": {},
   "outputs": [
    {
     "data": {
      "text/html": [
       "<div>\n",
       "<style scoped>\n",
       "    .dataframe tbody tr th:only-of-type {\n",
       "        vertical-align: middle;\n",
       "    }\n",
       "\n",
       "    .dataframe tbody tr th {\n",
       "        vertical-align: top;\n",
       "    }\n",
       "\n",
       "    .dataframe thead th {\n",
       "        text-align: right;\n",
       "    }\n",
       "</style>\n",
       "<table border=\"1\" class=\"dataframe\">\n",
       "  <thead>\n",
       "    <tr style=\"text-align: right;\">\n",
       "      <th></th>\n",
       "      <th>aa</th>\n",
       "      <th>aaa</th>\n",
       "      <th>aaaaaaaarghh</th>\n",
       "      <th>aaaah</th>\n",
       "      <th>aaah</th>\n",
       "      <th>aaargh</th>\n",
       "      <th>aah</th>\n",
       "      <th>abandoned</th>\n",
       "      <th>abel</th>\n",
       "      <th>abide</th>\n",
       "      <th>...</th>\n",
       "      <th>youth</th>\n",
       "      <th>yuh</th>\n",
       "      <th>yup</th>\n",
       "      <th>zarkov</th>\n",
       "      <th>zero</th>\n",
       "      <th>zip</th>\n",
       "      <th>zombie</th>\n",
       "      <th>zoo</th>\n",
       "      <th>zoomin</th>\n",
       "      <th>artist_fact</th>\n",
       "    </tr>\n",
       "    <tr>\n",
       "      <th>artist</th>\n",
       "      <th></th>\n",
       "      <th></th>\n",
       "      <th></th>\n",
       "      <th></th>\n",
       "      <th></th>\n",
       "      <th></th>\n",
       "      <th></th>\n",
       "      <th></th>\n",
       "      <th></th>\n",
       "      <th></th>\n",
       "      <th></th>\n",
       "      <th></th>\n",
       "      <th></th>\n",
       "      <th></th>\n",
       "      <th></th>\n",
       "      <th></th>\n",
       "      <th></th>\n",
       "      <th></th>\n",
       "      <th></th>\n",
       "      <th></th>\n",
       "      <th></th>\n",
       "    </tr>\n",
       "  </thead>\n",
       "  <tbody>\n",
       "    <tr>\n",
       "      <th>Florence and the Machine</th>\n",
       "      <td>0.0</td>\n",
       "      <td>0.0</td>\n",
       "      <td>0.0</td>\n",
       "      <td>0.0</td>\n",
       "      <td>0.0</td>\n",
       "      <td>0.0</td>\n",
       "      <td>0.0</td>\n",
       "      <td>0.0</td>\n",
       "      <td>0.0</td>\n",
       "      <td>0.00</td>\n",
       "      <td>...</td>\n",
       "      <td>0.06</td>\n",
       "      <td>0.0</td>\n",
       "      <td>0.0</td>\n",
       "      <td>0.0</td>\n",
       "      <td>0.0</td>\n",
       "      <td>0.0</td>\n",
       "      <td>0.0</td>\n",
       "      <td>0.0</td>\n",
       "      <td>0.0</td>\n",
       "      <td>0</td>\n",
       "    </tr>\n",
       "    <tr>\n",
       "      <th>Florence and the Machine</th>\n",
       "      <td>0.0</td>\n",
       "      <td>0.0</td>\n",
       "      <td>0.0</td>\n",
       "      <td>0.0</td>\n",
       "      <td>0.0</td>\n",
       "      <td>0.0</td>\n",
       "      <td>0.0</td>\n",
       "      <td>0.0</td>\n",
       "      <td>0.0</td>\n",
       "      <td>0.00</td>\n",
       "      <td>...</td>\n",
       "      <td>0.00</td>\n",
       "      <td>0.0</td>\n",
       "      <td>0.0</td>\n",
       "      <td>0.0</td>\n",
       "      <td>0.0</td>\n",
       "      <td>0.0</td>\n",
       "      <td>0.0</td>\n",
       "      <td>0.0</td>\n",
       "      <td>0.0</td>\n",
       "      <td>0</td>\n",
       "    </tr>\n",
       "    <tr>\n",
       "      <th>Florence and the Machine</th>\n",
       "      <td>0.0</td>\n",
       "      <td>0.0</td>\n",
       "      <td>0.0</td>\n",
       "      <td>0.0</td>\n",
       "      <td>0.0</td>\n",
       "      <td>0.0</td>\n",
       "      <td>0.0</td>\n",
       "      <td>0.0</td>\n",
       "      <td>0.0</td>\n",
       "      <td>0.00</td>\n",
       "      <td>...</td>\n",
       "      <td>0.00</td>\n",
       "      <td>0.0</td>\n",
       "      <td>0.0</td>\n",
       "      <td>0.0</td>\n",
       "      <td>0.0</td>\n",
       "      <td>0.0</td>\n",
       "      <td>0.0</td>\n",
       "      <td>0.0</td>\n",
       "      <td>0.0</td>\n",
       "      <td>0</td>\n",
       "    </tr>\n",
       "    <tr>\n",
       "      <th>Florence and the Machine</th>\n",
       "      <td>0.0</td>\n",
       "      <td>0.0</td>\n",
       "      <td>0.0</td>\n",
       "      <td>0.0</td>\n",
       "      <td>0.0</td>\n",
       "      <td>0.0</td>\n",
       "      <td>0.0</td>\n",
       "      <td>0.0</td>\n",
       "      <td>0.0</td>\n",
       "      <td>0.00</td>\n",
       "      <td>...</td>\n",
       "      <td>0.00</td>\n",
       "      <td>0.0</td>\n",
       "      <td>0.0</td>\n",
       "      <td>0.0</td>\n",
       "      <td>0.0</td>\n",
       "      <td>0.0</td>\n",
       "      <td>0.0</td>\n",
       "      <td>0.0</td>\n",
       "      <td>0.0</td>\n",
       "      <td>0</td>\n",
       "    </tr>\n",
       "    <tr>\n",
       "      <th>Florence and the Machine</th>\n",
       "      <td>0.0</td>\n",
       "      <td>0.0</td>\n",
       "      <td>0.0</td>\n",
       "      <td>0.0</td>\n",
       "      <td>0.0</td>\n",
       "      <td>0.0</td>\n",
       "      <td>0.0</td>\n",
       "      <td>0.0</td>\n",
       "      <td>0.0</td>\n",
       "      <td>0.00</td>\n",
       "      <td>...</td>\n",
       "      <td>0.00</td>\n",
       "      <td>0.0</td>\n",
       "      <td>0.0</td>\n",
       "      <td>0.0</td>\n",
       "      <td>0.0</td>\n",
       "      <td>0.0</td>\n",
       "      <td>0.0</td>\n",
       "      <td>0.0</td>\n",
       "      <td>0.0</td>\n",
       "      <td>0</td>\n",
       "    </tr>\n",
       "    <tr>\n",
       "      <th>...</th>\n",
       "      <td>...</td>\n",
       "      <td>...</td>\n",
       "      <td>...</td>\n",
       "      <td>...</td>\n",
       "      <td>...</td>\n",
       "      <td>...</td>\n",
       "      <td>...</td>\n",
       "      <td>...</td>\n",
       "      <td>...</td>\n",
       "      <td>...</td>\n",
       "      <td>...</td>\n",
       "      <td>...</td>\n",
       "      <td>...</td>\n",
       "      <td>...</td>\n",
       "      <td>...</td>\n",
       "      <td>...</td>\n",
       "      <td>...</td>\n",
       "      <td>...</td>\n",
       "      <td>...</td>\n",
       "      <td>...</td>\n",
       "      <td>...</td>\n",
       "    </tr>\n",
       "    <tr>\n",
       "      <th>ABBA</th>\n",
       "      <td>0.0</td>\n",
       "      <td>0.0</td>\n",
       "      <td>0.0</td>\n",
       "      <td>0.0</td>\n",
       "      <td>0.0</td>\n",
       "      <td>0.0</td>\n",
       "      <td>0.0</td>\n",
       "      <td>0.0</td>\n",
       "      <td>0.0</td>\n",
       "      <td>0.11</td>\n",
       "      <td>...</td>\n",
       "      <td>0.00</td>\n",
       "      <td>0.0</td>\n",
       "      <td>0.0</td>\n",
       "      <td>0.0</td>\n",
       "      <td>0.0</td>\n",
       "      <td>0.0</td>\n",
       "      <td>0.0</td>\n",
       "      <td>0.0</td>\n",
       "      <td>0.0</td>\n",
       "      <td>3</td>\n",
       "    </tr>\n",
       "    <tr>\n",
       "      <th>ABBA</th>\n",
       "      <td>0.0</td>\n",
       "      <td>0.0</td>\n",
       "      <td>0.0</td>\n",
       "      <td>0.0</td>\n",
       "      <td>0.0</td>\n",
       "      <td>0.0</td>\n",
       "      <td>0.0</td>\n",
       "      <td>0.0</td>\n",
       "      <td>0.0</td>\n",
       "      <td>0.00</td>\n",
       "      <td>...</td>\n",
       "      <td>0.00</td>\n",
       "      <td>0.0</td>\n",
       "      <td>0.0</td>\n",
       "      <td>0.0</td>\n",
       "      <td>0.0</td>\n",
       "      <td>0.0</td>\n",
       "      <td>0.0</td>\n",
       "      <td>0.0</td>\n",
       "      <td>0.0</td>\n",
       "      <td>3</td>\n",
       "    </tr>\n",
       "    <tr>\n",
       "      <th>ABBA</th>\n",
       "      <td>0.0</td>\n",
       "      <td>0.0</td>\n",
       "      <td>0.0</td>\n",
       "      <td>0.0</td>\n",
       "      <td>0.0</td>\n",
       "      <td>0.0</td>\n",
       "      <td>0.0</td>\n",
       "      <td>0.0</td>\n",
       "      <td>0.0</td>\n",
       "      <td>0.00</td>\n",
       "      <td>...</td>\n",
       "      <td>0.00</td>\n",
       "      <td>0.0</td>\n",
       "      <td>0.0</td>\n",
       "      <td>0.0</td>\n",
       "      <td>0.0</td>\n",
       "      <td>0.0</td>\n",
       "      <td>0.0</td>\n",
       "      <td>0.0</td>\n",
       "      <td>0.0</td>\n",
       "      <td>3</td>\n",
       "    </tr>\n",
       "    <tr>\n",
       "      <th>ABBA</th>\n",
       "      <td>0.0</td>\n",
       "      <td>0.0</td>\n",
       "      <td>0.0</td>\n",
       "      <td>0.0</td>\n",
       "      <td>0.0</td>\n",
       "      <td>0.0</td>\n",
       "      <td>0.0</td>\n",
       "      <td>0.0</td>\n",
       "      <td>0.0</td>\n",
       "      <td>0.00</td>\n",
       "      <td>...</td>\n",
       "      <td>0.00</td>\n",
       "      <td>0.0</td>\n",
       "      <td>0.0</td>\n",
       "      <td>0.0</td>\n",
       "      <td>0.0</td>\n",
       "      <td>0.0</td>\n",
       "      <td>0.0</td>\n",
       "      <td>0.0</td>\n",
       "      <td>0.0</td>\n",
       "      <td>3</td>\n",
       "    </tr>\n",
       "    <tr>\n",
       "      <th>ABBA</th>\n",
       "      <td>0.0</td>\n",
       "      <td>0.0</td>\n",
       "      <td>0.0</td>\n",
       "      <td>0.0</td>\n",
       "      <td>0.0</td>\n",
       "      <td>0.0</td>\n",
       "      <td>0.0</td>\n",
       "      <td>0.0</td>\n",
       "      <td>0.0</td>\n",
       "      <td>0.00</td>\n",
       "      <td>...</td>\n",
       "      <td>0.00</td>\n",
       "      <td>0.0</td>\n",
       "      <td>0.0</td>\n",
       "      <td>0.0</td>\n",
       "      <td>0.0</td>\n",
       "      <td>0.0</td>\n",
       "      <td>0.0</td>\n",
       "      <td>0.0</td>\n",
       "      <td>0.0</td>\n",
       "      <td>3</td>\n",
       "    </tr>\n",
       "  </tbody>\n",
       "</table>\n",
       "<p>566 rows × 4916 columns</p>\n",
       "</div>"
      ],
      "text/plain": [
       "                           aa  aaa  aaaaaaaarghh  aaaah  aaah  aaargh  aah  \\\n",
       "artist                                                                       \n",
       "Florence and the Machine  0.0  0.0           0.0    0.0   0.0     0.0  0.0   \n",
       "Florence and the Machine  0.0  0.0           0.0    0.0   0.0     0.0  0.0   \n",
       "Florence and the Machine  0.0  0.0           0.0    0.0   0.0     0.0  0.0   \n",
       "Florence and the Machine  0.0  0.0           0.0    0.0   0.0     0.0  0.0   \n",
       "Florence and the Machine  0.0  0.0           0.0    0.0   0.0     0.0  0.0   \n",
       "...                       ...  ...           ...    ...   ...     ...  ...   \n",
       "ABBA                      0.0  0.0           0.0    0.0   0.0     0.0  0.0   \n",
       "ABBA                      0.0  0.0           0.0    0.0   0.0     0.0  0.0   \n",
       "ABBA                      0.0  0.0           0.0    0.0   0.0     0.0  0.0   \n",
       "ABBA                      0.0  0.0           0.0    0.0   0.0     0.0  0.0   \n",
       "ABBA                      0.0  0.0           0.0    0.0   0.0     0.0  0.0   \n",
       "\n",
       "                          abandoned  abel  abide  ...  youth  yuh  yup  \\\n",
       "artist                                            ...                    \n",
       "Florence and the Machine        0.0   0.0   0.00  ...   0.06  0.0  0.0   \n",
       "Florence and the Machine        0.0   0.0   0.00  ...   0.00  0.0  0.0   \n",
       "Florence and the Machine        0.0   0.0   0.00  ...   0.00  0.0  0.0   \n",
       "Florence and the Machine        0.0   0.0   0.00  ...   0.00  0.0  0.0   \n",
       "Florence and the Machine        0.0   0.0   0.00  ...   0.00  0.0  0.0   \n",
       "...                             ...   ...    ...  ...    ...  ...  ...   \n",
       "ABBA                            0.0   0.0   0.11  ...   0.00  0.0  0.0   \n",
       "ABBA                            0.0   0.0   0.00  ...   0.00  0.0  0.0   \n",
       "ABBA                            0.0   0.0   0.00  ...   0.00  0.0  0.0   \n",
       "ABBA                            0.0   0.0   0.00  ...   0.00  0.0  0.0   \n",
       "ABBA                            0.0   0.0   0.00  ...   0.00  0.0  0.0   \n",
       "\n",
       "                          zarkov  zero  zip  zombie  zoo  zoomin  artist_fact  \n",
       "artist                                                                         \n",
       "Florence and the Machine     0.0   0.0  0.0     0.0  0.0     0.0            0  \n",
       "Florence and the Machine     0.0   0.0  0.0     0.0  0.0     0.0            0  \n",
       "Florence and the Machine     0.0   0.0  0.0     0.0  0.0     0.0            0  \n",
       "Florence and the Machine     0.0   0.0  0.0     0.0  0.0     0.0            0  \n",
       "Florence and the Machine     0.0   0.0  0.0     0.0  0.0     0.0            0  \n",
       "...                          ...   ...  ...     ...  ...     ...          ...  \n",
       "ABBA                         0.0   0.0  0.0     0.0  0.0     0.0            3  \n",
       "ABBA                         0.0   0.0  0.0     0.0  0.0     0.0            3  \n",
       "ABBA                         0.0   0.0  0.0     0.0  0.0     0.0            3  \n",
       "ABBA                         0.0   0.0  0.0     0.0  0.0     0.0            3  \n",
       "ABBA                         0.0   0.0  0.0     0.0  0.0     0.0            3  \n",
       "\n",
       "[566 rows x 4916 columns]"
      ]
     },
     "execution_count": 84,
     "metadata": {},
     "output_type": "execute_result"
    }
   ],
   "source": [
    "lyrics_df # without spacy 6031 columns"
   ]
  },
  {
   "cell_type": "markdown",
   "metadata": {},
   "source": [
    "**Define model data**"
   ]
  },
  {
   "cell_type": "code",
   "execution_count": 85,
   "metadata": {},
   "outputs": [],
   "source": [
    "# Split the data into X and y\n",
    "y = lyrics_df['artist_fact']\n",
    "X = lyrics_df.drop('artist_fact', axis=1)"
   ]
  },
  {
   "cell_type": "code",
   "execution_count": 86,
   "metadata": {},
   "outputs": [
    {
     "data": {
      "text/plain": [
       "((452, 4915), (114, 4915), (452,), (114,))"
      ]
     },
     "execution_count": 86,
     "metadata": {},
     "output_type": "execute_result"
    }
   ],
   "source": [
    "# Split it in training and test data\n",
    "from sklearn.model_selection import train_test_split\n",
    "X_train, X_val, y_train, y_val = train_test_split(X, y, test_size=0.2, random_state=42)\n",
    "X_train.shape, X_val.shape, y_train.shape, y_val.shape"
   ]
  },
  {
   "cell_type": "markdown",
   "metadata": {},
   "source": [
    "**Create baseline with dummy classifier**"
   ]
  },
  {
   "cell_type": "code",
   "execution_count": 87,
   "metadata": {},
   "outputs": [
    {
     "data": {
      "text/plain": [
       "0.42035398230088494"
      ]
     },
     "execution_count": 87,
     "metadata": {},
     "output_type": "execute_result"
    }
   ],
   "source": [
    "from sklearn.dummy import DummyClassifier\n",
    "dummy_clf = DummyClassifier(strategy='most_frequent')\n",
    "dummy_clf.fit(X_train, y_train)\n",
    "dummy_clf.score(X_train, y_train)\n",
    "# dummy_clf.predict(X_train)"
   ]
  },
  {
   "cell_type": "markdown",
   "metadata": {},
   "source": [
    "**Create naive bayes classifier**"
   ]
  },
  {
   "cell_type": "code",
   "execution_count": 134,
   "metadata": {},
   "outputs": [
    {
     "data": {
      "text/plain": [
       "0.995575221238938"
      ]
     },
     "execution_count": 134,
     "metadata": {},
     "output_type": "execute_result"
    }
   ],
   "source": [
    "from sklearn.naive_bayes import MultinomialNB\n",
    "nb = MultinomialNB(alpha=0.0025)\n",
    "nb.fit(X_train, y_train)\n",
    "nb.score(X_train, y_train)"
   ]
  },
  {
   "cell_type": "markdown",
   "metadata": {},
   "source": [
    "**Cross validation**"
   ]
  },
  {
   "cell_type": "code",
   "execution_count": 135,
   "metadata": {},
   "outputs": [
    {
     "data": {
      "text/plain": [
       "array([0.69026549, 0.53097345, 0.59292035, 0.62831858])"
      ]
     },
     "execution_count": 135,
     "metadata": {},
     "output_type": "execute_result"
    }
   ],
   "source": [
    "from sklearn.model_selection import cross_val_score\n",
    "scores = cross_val_score(nb, X_train, y_train, cv=4, scoring='accuracy')\n",
    "scores"
   ]
  },
  {
   "cell_type": "code",
   "execution_count": 136,
   "metadata": {},
   "outputs": [
    {
     "data": {
      "text/plain": [
       "(0.611, 0.058)"
      ]
     },
     "execution_count": 136,
     "metadata": {},
     "output_type": "execute_result"
    }
   ],
   "source": [
    "scores.mean().round(3), scores.std().round(3)"
   ]
  },
  {
   "cell_type": "markdown",
   "metadata": {},
   "source": [
    "**Hyperparameter Optimization**"
   ]
  },
  {
   "cell_type": "code",
   "execution_count": 122,
   "metadata": {},
   "outputs": [
    {
     "data": {
      "text/html": [
       "<div>\n",
       "<style scoped>\n",
       "    .dataframe tbody tr th:only-of-type {\n",
       "        vertical-align: middle;\n",
       "    }\n",
       "\n",
       "    .dataframe tbody tr th {\n",
       "        vertical-align: top;\n",
       "    }\n",
       "\n",
       "    .dataframe thead th {\n",
       "        text-align: right;\n",
       "    }\n",
       "</style>\n",
       "<table border=\"1\" class=\"dataframe\">\n",
       "  <thead>\n",
       "    <tr style=\"text-align: right;\">\n",
       "      <th></th>\n",
       "      <th>mean_test_score</th>\n",
       "      <th>std_test_score</th>\n",
       "      <th>mean_fit_time</th>\n",
       "      <th>param_alpha</th>\n",
       "      <th>rank_test_score</th>\n",
       "    </tr>\n",
       "  </thead>\n",
       "  <tbody>\n",
       "    <tr>\n",
       "      <th>0</th>\n",
       "      <td>0.619365</td>\n",
       "      <td>0.055150</td>\n",
       "      <td>0.029645</td>\n",
       "      <td>0.0024</td>\n",
       "      <td>1</td>\n",
       "    </tr>\n",
       "    <tr>\n",
       "      <th>6</th>\n",
       "      <td>0.619365</td>\n",
       "      <td>0.055150</td>\n",
       "      <td>0.013337</td>\n",
       "      <td>0.0025</td>\n",
       "      <td>1</td>\n",
       "    </tr>\n",
       "    <tr>\n",
       "      <th>1</th>\n",
       "      <td>0.617143</td>\n",
       "      <td>0.052931</td>\n",
       "      <td>0.013512</td>\n",
       "      <td>0.0023</td>\n",
       "      <td>3</td>\n",
       "    </tr>\n",
       "    <tr>\n",
       "      <th>7</th>\n",
       "      <td>0.617143</td>\n",
       "      <td>0.052462</td>\n",
       "      <td>0.013622</td>\n",
       "      <td>0.0016</td>\n",
       "      <td>3</td>\n",
       "    </tr>\n",
       "    <tr>\n",
       "      <th>2</th>\n",
       "      <td>0.614945</td>\n",
       "      <td>0.054086</td>\n",
       "      <td>0.013898</td>\n",
       "      <td>0.0006</td>\n",
       "      <td>5</td>\n",
       "    </tr>\n",
       "    <tr>\n",
       "      <th>5</th>\n",
       "      <td>0.614945</td>\n",
       "      <td>0.049409</td>\n",
       "      <td>0.013931</td>\n",
       "      <td>0.001</td>\n",
       "      <td>5</td>\n",
       "    </tr>\n",
       "    <tr>\n",
       "      <th>8</th>\n",
       "      <td>0.614945</td>\n",
       "      <td>0.049409</td>\n",
       "      <td>0.013358</td>\n",
       "      <td>0.0008</td>\n",
       "      <td>5</td>\n",
       "    </tr>\n",
       "    <tr>\n",
       "      <th>9</th>\n",
       "      <td>0.614921</td>\n",
       "      <td>0.050517</td>\n",
       "      <td>0.013111</td>\n",
       "      <td>0.0017</td>\n",
       "      <td>8</td>\n",
       "    </tr>\n",
       "    <tr>\n",
       "      <th>3</th>\n",
       "      <td>0.612698</td>\n",
       "      <td>0.052784</td>\n",
       "      <td>0.013364</td>\n",
       "      <td>0.002</td>\n",
       "      <td>9</td>\n",
       "    </tr>\n",
       "    <tr>\n",
       "      <th>4</th>\n",
       "      <td>0.612698</td>\n",
       "      <td>0.052784</td>\n",
       "      <td>0.013645</td>\n",
       "      <td>0.0021</td>\n",
       "      <td>9</td>\n",
       "    </tr>\n",
       "  </tbody>\n",
       "</table>\n",
       "</div>"
      ],
      "text/plain": [
       "   mean_test_score  std_test_score  mean_fit_time param_alpha  rank_test_score\n",
       "0         0.619365        0.055150       0.029645      0.0024                1\n",
       "6         0.619365        0.055150       0.013337      0.0025                1\n",
       "1         0.617143        0.052931       0.013512      0.0023                3\n",
       "7         0.617143        0.052462       0.013622      0.0016                3\n",
       "2         0.614945        0.054086       0.013898      0.0006                5\n",
       "5         0.614945        0.049409       0.013931       0.001                5\n",
       "8         0.614945        0.049409       0.013358      0.0008                5\n",
       "9         0.614921        0.050517       0.013111      0.0017                8\n",
       "3         0.612698        0.052784       0.013364       0.002                9\n",
       "4         0.612698        0.052784       0.013645      0.0021                9"
      ]
     },
     "execution_count": 122,
     "metadata": {},
     "output_type": "execute_result"
    }
   ],
   "source": [
    "from sklearn.model_selection import RandomizedSearchCV\n",
    "param_distributions = {\n",
    "    'alpha' : [x/10000 for x in range(6, 27 , 1)], # it will uniformly sample from that list\n",
    "}\n",
    "randomizedcv = RandomizedSearchCV(nb, param_distributions=param_distributions)\n",
    "randomizedcv.fit(X_train, y_train)\n",
    "random_results = pd.DataFrame(randomizedcv.cv_results_)\n",
    "columns = ['mean_test_score', 'std_test_score', 'mean_fit_time', 'param_alpha', 'rank_test_score']\n",
    "random_results[columns].sort_values('rank_test_score', ascending=True)"
   ]
  },
  {
   "cell_type": "markdown",
   "metadata": {},
   "source": [
    "**Test on validation data**"
   ]
  },
  {
   "cell_type": "code",
   "execution_count": 138,
   "metadata": {},
   "outputs": [
    {
     "data": {
      "text/plain": [
       "0.5877192982456141"
      ]
     },
     "execution_count": 138,
     "metadata": {},
     "output_type": "execute_result"
    }
   ],
   "source": [
    "nb.score(X_val, y_val)"
   ]
  },
  {
   "cell_type": "code",
   "execution_count": 142,
   "metadata": {},
   "outputs": [],
   "source": [
    "artist_pred = nb.predict(X_train)\n",
    "artist_pred_val = nb.predict(X_val)"
   ]
  },
  {
   "cell_type": "code",
   "execution_count": 143,
   "metadata": {},
   "outputs": [
    {
     "data": {
      "text/plain": [
       "array([[ 9,  1,  8,  4],\n",
       "       [ 2,  5,  9,  2],\n",
       "       [ 3,  3, 34,  4],\n",
       "       [ 1,  1,  9, 19]])"
      ]
     },
     "execution_count": 143,
     "metadata": {},
     "output_type": "execute_result"
    }
   ],
   "source": [
    "from sklearn.metrics import confusion_matrix\n",
    "\n",
    "confusion_matrix(y_val, artist_pred_val)\n"
   ]
  },
  {
   "cell_type": "code",
   "execution_count": null,
   "metadata": {},
   "outputs": [],
   "source": []
  }
 ],
 "metadata": {
  "kernelspec": {
   "display_name": "Python 3",
   "language": "python",
   "name": "python3"
  },
  "language_info": {
   "codemirror_mode": {
    "name": "ipython",
    "version": 3
   },
   "file_extension": ".py",
   "mimetype": "text/x-python",
   "name": "python",
   "nbconvert_exporter": "python",
   "pygments_lexer": "ipython3",
   "version": "3.7.6"
  }
 },
 "nbformat": 4,
 "nbformat_minor": 4
}
