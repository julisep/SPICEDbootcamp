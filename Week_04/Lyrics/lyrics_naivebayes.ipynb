{
 "cells": [
  {
   "cell_type": "markdown",
   "metadata": {},
   "source": [
    "# Bag of words approach on lyrics_df"
   ]
  },
  {
   "cell_type": "code",
   "execution_count": 1,
   "metadata": {},
   "outputs": [],
   "source": [
    "import pandas as pd\n",
    "import numpy as np\n",
    "import seaborn as sns\n",
    "import matplotlib.pyplot as plt\n",
    "import spacy\n",
    "from sklearn.model_selection import train_test_split\n",
    "from sklearn.model_selection import cross_val_score\n",
    "from sklearn.model_selection import RandomizedSearchCV\n",
    "from sklearn.feature_extraction.text import CountVectorizer\n",
    "from sklearn.feature_extraction.text import TfidfTransformer\n",
    "from sklearn.dummy import DummyClassifier\n",
    "from sklearn.naive_bayes import MultinomialNB\n",
    "\n",
    "from sklearn.metrics import accuracy_score, precision_score, recall_score, confusion_matrix, f1_score\n",
    "\n",
    "plt.style.use('seaborn-poster')"
   ]
  },
  {
   "cell_type": "code",
   "execution_count": 2,
   "metadata": {},
   "outputs": [
    {
     "data": {
      "text/html": [
       "<div>\n",
       "<style scoped>\n",
       "    .dataframe tbody tr th:only-of-type {\n",
       "        vertical-align: middle;\n",
       "    }\n",
       "\n",
       "    .dataframe tbody tr th {\n",
       "        vertical-align: top;\n",
       "    }\n",
       "\n",
       "    .dataframe thead th {\n",
       "        text-align: right;\n",
       "    }\n",
       "</style>\n",
       "<table border=\"1\" class=\"dataframe\">\n",
       "  <thead>\n",
       "    <tr style=\"text-align: right;\">\n",
       "      <th></th>\n",
       "      <th>artist</th>\n",
       "      <th>title</th>\n",
       "      <th>lyrics</th>\n",
       "    </tr>\n",
       "  </thead>\n",
       "  <tbody>\n",
       "    <tr>\n",
       "      <th>0</th>\n",
       "      <td>Florence and the Machine</td>\n",
       "      <td>100 years</td>\n",
       "      <td>I believe in you and in our hearts we know the...</td>\n",
       "    </tr>\n",
       "    <tr>\n",
       "      <th>1</th>\n",
       "      <td>Florence and the Machine</td>\n",
       "      <td>addicted to love</td>\n",
       "      <td>The lights are on  but you re not home Your mi...</td>\n",
       "    </tr>\n",
       "    <tr>\n",
       "      <th>2</th>\n",
       "      <td>Florence and the Machine</td>\n",
       "      <td>all this and heaven too</td>\n",
       "      <td>And the heart is hard to translate It has a la...</td>\n",
       "    </tr>\n",
       "    <tr>\n",
       "      <th>3</th>\n",
       "      <td>Florence and the Machine</td>\n",
       "      <td>are you hurting the one you love</td>\n",
       "      <td>Are you hurting the one you love You say you v...</td>\n",
       "    </tr>\n",
       "    <tr>\n",
       "      <th>4</th>\n",
       "      <td>Florence and the Machine</td>\n",
       "      <td>bedroom hymns</td>\n",
       "      <td>This is as good a place to fall as any We ll b...</td>\n",
       "    </tr>\n",
       "    <tr>\n",
       "      <th>...</th>\n",
       "      <td>...</td>\n",
       "      <td>...</td>\n",
       "      <td>...</td>\n",
       "    </tr>\n",
       "    <tr>\n",
       "      <th>561</th>\n",
       "      <td>ABBA</td>\n",
       "      <td>winner takes it all</td>\n",
       "      <td>I don t wanna talk about things we ve gone thr...</td>\n",
       "    </tr>\n",
       "    <tr>\n",
       "      <th>562</th>\n",
       "      <td>ABBA</td>\n",
       "      <td>wrap your arms around me</td>\n",
       "      <td>When you re so far away At the end of each day...</td>\n",
       "    </tr>\n",
       "    <tr>\n",
       "      <th>563</th>\n",
       "      <td>ABBA</td>\n",
       "      <td>you owe me one</td>\n",
       "      <td>Frida  Now there s a shadow falling over our f...</td>\n",
       "    </tr>\n",
       "    <tr>\n",
       "      <th>564</th>\n",
       "      <td>ABBA</td>\n",
       "      <td>youre there</td>\n",
       "      <td>I tried not to see you Cause I couldn t take t...</td>\n",
       "    </tr>\n",
       "    <tr>\n",
       "      <th>565</th>\n",
       "      <td>ABBA</td>\n",
       "      <td>h vilka tider</td>\n",
       "      <td>The city is a jungle  you better take care Nev...</td>\n",
       "    </tr>\n",
       "  </tbody>\n",
       "</table>\n",
       "<p>566 rows × 3 columns</p>\n",
       "</div>"
      ],
      "text/plain": [
       "                       artist                             title  \\\n",
       "0    Florence and the Machine                         100 years   \n",
       "1    Florence and the Machine                  addicted to love   \n",
       "2    Florence and the Machine           all this and heaven too   \n",
       "3    Florence and the Machine  are you hurting the one you love   \n",
       "4    Florence and the Machine                     bedroom hymns   \n",
       "..                        ...                               ...   \n",
       "561                      ABBA               winner takes it all   \n",
       "562                      ABBA          wrap your arms around me   \n",
       "563                      ABBA                    you owe me one   \n",
       "564                      ABBA                       youre there   \n",
       "565                      ABBA                     h vilka tider   \n",
       "\n",
       "                                                lyrics  \n",
       "0    I believe in you and in our hearts we know the...  \n",
       "1    The lights are on  but you re not home Your mi...  \n",
       "2    And the heart is hard to translate It has a la...  \n",
       "3    Are you hurting the one you love You say you v...  \n",
       "4    This is as good a place to fall as any We ll b...  \n",
       "..                                                 ...  \n",
       "561  I don t wanna talk about things we ve gone thr...  \n",
       "562  When you re so far away At the end of each day...  \n",
       "563  Frida  Now there s a shadow falling over our f...  \n",
       "564  I tried not to see you Cause I couldn t take t...  \n",
       "565  The city is a jungle  you better take care Nev...  \n",
       "\n",
       "[566 rows x 3 columns]"
      ]
     },
     "execution_count": 2,
     "metadata": {},
     "output_type": "execute_result"
    }
   ],
   "source": [
    "corpus = pd.read_csv('lyrics_df.csv', sep=';')\n",
    "artists = ['Florence and the Machine', 'Imagine Dragons', 'Queen', 'ABBA']\n",
    "corpus"
   ]
  },
  {
   "cell_type": "markdown",
   "metadata": {},
   "source": [
    "## 1 - clean lyrics (Spacy)"
   ]
  },
  {
   "cell_type": "code",
   "execution_count": 3,
   "metadata": {},
   "outputs": [],
   "source": [
    "\n",
    "model = spacy.load('en_core_web_sm')"
   ]
  },
  {
   "cell_type": "code",
   "execution_count": 4,
   "metadata": {},
   "outputs": [],
   "source": [
    "# Create function that cleans lyrics\n",
    "def clean_lyrics(song):\n",
    "    clean_song = []\n",
    "    \n",
    "    # parse the song through the spacy model\n",
    "    tok_song = model(song)\n",
    "    \n",
    "    # loop through words and drop stopwords, drop punctuation\n",
    "    for word in tok_song:\n",
    "        if word.is_alpha and not word.is_stop:   # loop through words and drop stopwords, drop punctuation\n",
    "            clean_song.append(word.lemma_)           # lemmatize the remaining words\n",
    "    clean_song = ' '.join(clean_song)                # return the lemmatized version to the caller as a string\n",
    "    return clean_song"
   ]
  },
  {
   "cell_type": "code",
   "execution_count": 5,
   "metadata": {},
   "outputs": [],
   "source": [
    "corpus['lyrics_clean'] = corpus['lyrics'].apply(clean_lyrics)"
   ]
  },
  {
   "cell_type": "code",
   "execution_count": 6,
   "metadata": {},
   "outputs": [
    {
     "data": {
      "text/html": [
       "<div>\n",
       "<style scoped>\n",
       "    .dataframe tbody tr th:only-of-type {\n",
       "        vertical-align: middle;\n",
       "    }\n",
       "\n",
       "    .dataframe tbody tr th {\n",
       "        vertical-align: top;\n",
       "    }\n",
       "\n",
       "    .dataframe thead th {\n",
       "        text-align: right;\n",
       "    }\n",
       "</style>\n",
       "<table border=\"1\" class=\"dataframe\">\n",
       "  <thead>\n",
       "    <tr style=\"text-align: right;\">\n",
       "      <th></th>\n",
       "      <th>artist</th>\n",
       "      <th>title</th>\n",
       "      <th>lyrics</th>\n",
       "      <th>lyrics_clean</th>\n",
       "    </tr>\n",
       "  </thead>\n",
       "  <tbody>\n",
       "    <tr>\n",
       "      <th>0</th>\n",
       "      <td>Florence and the Machine</td>\n",
       "      <td>100 years</td>\n",
       "      <td>I believe in you and in our hearts we know the...</td>\n",
       "      <td>believe heart know truth believe love darker g...</td>\n",
       "    </tr>\n",
       "    <tr>\n",
       "      <th>1</th>\n",
       "      <td>Florence and the Machine</td>\n",
       "      <td>addicted to love</td>\n",
       "      <td>The lights are on  but you re not home Your mi...</td>\n",
       "      <td>light home mind heart sweat body shake kiss ta...</td>\n",
       "    </tr>\n",
       "    <tr>\n",
       "      <th>2</th>\n",
       "      <td>Florence and the Machine</td>\n",
       "      <td>all this and heaven too</td>\n",
       "      <td>And the heart is hard to translate It has a la...</td>\n",
       "      <td>heart hard translate language s talk tongue qu...</td>\n",
       "    </tr>\n",
       "    <tr>\n",
       "      <th>3</th>\n",
       "      <td>Florence and the Machine</td>\n",
       "      <td>are you hurting the one you love</td>\n",
       "      <td>Are you hurting the one you love You say you v...</td>\n",
       "      <td>hurt love ve find Heaven t find God hurt love ...</td>\n",
       "    </tr>\n",
       "    <tr>\n",
       "      <th>4</th>\n",
       "      <td>Florence and the Machine</td>\n",
       "      <td>bedroom hymns</td>\n",
       "      <td>This is as good a place to fall as any We ll b...</td>\n",
       "      <td>good place fall will build alter Maria m knee ...</td>\n",
       "    </tr>\n",
       "    <tr>\n",
       "      <th>...</th>\n",
       "      <td>...</td>\n",
       "      <td>...</td>\n",
       "      <td>...</td>\n",
       "      <td>...</td>\n",
       "    </tr>\n",
       "    <tr>\n",
       "      <th>561</th>\n",
       "      <td>ABBA</td>\n",
       "      <td>winner takes it all</td>\n",
       "      <td>I don t wanna talk about things we ve gone thr...</td>\n",
       "      <td>don t wanna talk thing ve go s hurt s history ...</td>\n",
       "    </tr>\n",
       "    <tr>\n",
       "      <th>562</th>\n",
       "      <td>ABBA</td>\n",
       "      <td>wrap your arms around me</td>\n",
       "      <td>When you re so far away At the end of each day...</td>\n",
       "      <td>far away end day count moment till fade away i...</td>\n",
       "    </tr>\n",
       "    <tr>\n",
       "      <th>563</th>\n",
       "      <td>ABBA</td>\n",
       "      <td>you owe me one</td>\n",
       "      <td>Frida  Now there s a shadow falling over our f...</td>\n",
       "      <td>Frida s shadow fall face doubt forever heart w...</td>\n",
       "    </tr>\n",
       "    <tr>\n",
       "      <th>564</th>\n",
       "      <td>ABBA</td>\n",
       "      <td>youre there</td>\n",
       "      <td>I tried not to see you Cause I couldn t take t...</td>\n",
       "      <td>try Cause couldn t heartache past Wouldn t com...</td>\n",
       "    </tr>\n",
       "    <tr>\n",
       "      <th>565</th>\n",
       "      <td>ABBA</td>\n",
       "      <td>h vilka tider</td>\n",
       "      <td>The city is a jungle  you better take care Nev...</td>\n",
       "      <td>city jungle better care walk midnight don t be...</td>\n",
       "    </tr>\n",
       "  </tbody>\n",
       "</table>\n",
       "<p>566 rows × 4 columns</p>\n",
       "</div>"
      ],
      "text/plain": [
       "                       artist                             title  \\\n",
       "0    Florence and the Machine                         100 years   \n",
       "1    Florence and the Machine                  addicted to love   \n",
       "2    Florence and the Machine           all this and heaven too   \n",
       "3    Florence and the Machine  are you hurting the one you love   \n",
       "4    Florence and the Machine                     bedroom hymns   \n",
       "..                        ...                               ...   \n",
       "561                      ABBA               winner takes it all   \n",
       "562                      ABBA          wrap your arms around me   \n",
       "563                      ABBA                    you owe me one   \n",
       "564                      ABBA                       youre there   \n",
       "565                      ABBA                     h vilka tider   \n",
       "\n",
       "                                                lyrics  \\\n",
       "0    I believe in you and in our hearts we know the...   \n",
       "1    The lights are on  but you re not home Your mi...   \n",
       "2    And the heart is hard to translate It has a la...   \n",
       "3    Are you hurting the one you love You say you v...   \n",
       "4    This is as good a place to fall as any We ll b...   \n",
       "..                                                 ...   \n",
       "561  I don t wanna talk about things we ve gone thr...   \n",
       "562  When you re so far away At the end of each day...   \n",
       "563  Frida  Now there s a shadow falling over our f...   \n",
       "564  I tried not to see you Cause I couldn t take t...   \n",
       "565  The city is a jungle  you better take care Nev...   \n",
       "\n",
       "                                          lyrics_clean  \n",
       "0    believe heart know truth believe love darker g...  \n",
       "1    light home mind heart sweat body shake kiss ta...  \n",
       "2    heart hard translate language s talk tongue qu...  \n",
       "3    hurt love ve find Heaven t find God hurt love ...  \n",
       "4    good place fall will build alter Maria m knee ...  \n",
       "..                                                 ...  \n",
       "561  don t wanna talk thing ve go s hurt s history ...  \n",
       "562  far away end day count moment till fade away i...  \n",
       "563  Frida s shadow fall face doubt forever heart w...  \n",
       "564  try Cause couldn t heartache past Wouldn t com...  \n",
       "565  city jungle better care walk midnight don t be...  \n",
       "\n",
       "[566 rows x 4 columns]"
      ]
     },
     "execution_count": 6,
     "metadata": {},
     "output_type": "execute_result"
    }
   ],
   "source": [
    "corpus"
   ]
  },
  {
   "cell_type": "markdown",
   "metadata": {},
   "source": [
    "## 2 - transform your corpus into a matrix (CountVectorizer)"
   ]
  },
  {
   "cell_type": "code",
   "execution_count": 7,
   "metadata": {},
   "outputs": [],
   "source": []
  },
  {
   "cell_type": "code",
   "execution_count": 8,
   "metadata": {},
   "outputs": [
    {
     "data": {
      "text/plain": [
       "pandas.core.series.Series"
      ]
     },
     "execution_count": 8,
     "metadata": {},
     "output_type": "execute_result"
    }
   ],
   "source": [
    "type(corpus['lyrics'])"
   ]
  },
  {
   "cell_type": "code",
   "execution_count": 9,
   "metadata": {},
   "outputs": [
    {
     "data": {
      "text/plain": [
       "CountVectorizer(stop_words='english')"
      ]
     },
     "execution_count": 9,
     "metadata": {},
     "output_type": "execute_result"
    }
   ],
   "source": [
    "cv = CountVectorizer(stop_words='english')\n",
    "cv.fit(corpus['lyrics_clean'])"
   ]
  },
  {
   "cell_type": "code",
   "execution_count": 10,
   "metadata": {},
   "outputs": [],
   "source": [
    "lyrics_vec = cv.transform(corpus['lyrics_clean'])"
   ]
  },
  {
   "cell_type": "markdown",
   "metadata": {},
   "source": [
    "## 3 - Normalize the counts (TfidfTransformer)"
   ]
  },
  {
   "cell_type": "code",
   "execution_count": 11,
   "metadata": {},
   "outputs": [],
   "source": []
  },
  {
   "cell_type": "code",
   "execution_count": 12,
   "metadata": {},
   "outputs": [],
   "source": [
    "tf = TfidfTransformer()\n",
    "lyrics_vec_tf = tf.fit_transform(lyrics_vec)"
   ]
  },
  {
   "cell_type": "code",
   "execution_count": 13,
   "metadata": {},
   "outputs": [],
   "source": [
    "lyrics_df = pd.DataFrame(lyrics_vec_tf.todense().round(2),  columns=cv.get_feature_names(), index=corpus['artist'])"
   ]
  },
  {
   "cell_type": "markdown",
   "metadata": {},
   "source": [
    "## 4 - Classification model (Naive Bayes)"
   ]
  },
  {
   "cell_type": "markdown",
   "metadata": {},
   "source": [
    "**First, add a labels column to your dataframe by factorizing the artist name**"
   ]
  },
  {
   "cell_type": "code",
   "execution_count": 14,
   "metadata": {},
   "outputs": [],
   "source": [
    "# factorize label column\n",
    "lyrics_df['artist_fact'] = pd.factorize(lyrics_df.index)[0]"
   ]
  },
  {
   "cell_type": "code",
   "execution_count": 15,
   "metadata": {},
   "outputs": [
    {
     "data": {
      "text/html": [
       "<div>\n",
       "<style scoped>\n",
       "    .dataframe tbody tr th:only-of-type {\n",
       "        vertical-align: middle;\n",
       "    }\n",
       "\n",
       "    .dataframe tbody tr th {\n",
       "        vertical-align: top;\n",
       "    }\n",
       "\n",
       "    .dataframe thead th {\n",
       "        text-align: right;\n",
       "    }\n",
       "</style>\n",
       "<table border=\"1\" class=\"dataframe\">\n",
       "  <thead>\n",
       "    <tr style=\"text-align: right;\">\n",
       "      <th></th>\n",
       "      <th>abandoned</th>\n",
       "      <th>abel</th>\n",
       "      <th>abide</th>\n",
       "      <th>ablaze</th>\n",
       "      <th>able</th>\n",
       "      <th>abre</th>\n",
       "      <th>absent</th>\n",
       "      <th>absolutely</th>\n",
       "      <th>absolution</th>\n",
       "      <th>aburrida</th>\n",
       "      <th>...</th>\n",
       "      <th>youth</th>\n",
       "      <th>yuh</th>\n",
       "      <th>yup</th>\n",
       "      <th>zarkov</th>\n",
       "      <th>zero</th>\n",
       "      <th>zip</th>\n",
       "      <th>zombie</th>\n",
       "      <th>zoo</th>\n",
       "      <th>zoomin</th>\n",
       "      <th>artist_fact</th>\n",
       "    </tr>\n",
       "    <tr>\n",
       "      <th>artist</th>\n",
       "      <th></th>\n",
       "      <th></th>\n",
       "      <th></th>\n",
       "      <th></th>\n",
       "      <th></th>\n",
       "      <th></th>\n",
       "      <th></th>\n",
       "      <th></th>\n",
       "      <th></th>\n",
       "      <th></th>\n",
       "      <th></th>\n",
       "      <th></th>\n",
       "      <th></th>\n",
       "      <th></th>\n",
       "      <th></th>\n",
       "      <th></th>\n",
       "      <th></th>\n",
       "      <th></th>\n",
       "      <th></th>\n",
       "      <th></th>\n",
       "      <th></th>\n",
       "    </tr>\n",
       "  </thead>\n",
       "  <tbody>\n",
       "    <tr>\n",
       "      <th>Florence and the Machine</th>\n",
       "      <td>0.0</td>\n",
       "      <td>0.0</td>\n",
       "      <td>0.00</td>\n",
       "      <td>0.0</td>\n",
       "      <td>0.0</td>\n",
       "      <td>0.0</td>\n",
       "      <td>0.0</td>\n",
       "      <td>0.0</td>\n",
       "      <td>0.00</td>\n",
       "      <td>0.0</td>\n",
       "      <td>...</td>\n",
       "      <td>0.06</td>\n",
       "      <td>0.0</td>\n",
       "      <td>0.0</td>\n",
       "      <td>0.0</td>\n",
       "      <td>0.0</td>\n",
       "      <td>0.0</td>\n",
       "      <td>0.0</td>\n",
       "      <td>0.0</td>\n",
       "      <td>0.0</td>\n",
       "      <td>0</td>\n",
       "    </tr>\n",
       "    <tr>\n",
       "      <th>Florence and the Machine</th>\n",
       "      <td>0.0</td>\n",
       "      <td>0.0</td>\n",
       "      <td>0.00</td>\n",
       "      <td>0.0</td>\n",
       "      <td>0.0</td>\n",
       "      <td>0.0</td>\n",
       "      <td>0.0</td>\n",
       "      <td>0.0</td>\n",
       "      <td>0.00</td>\n",
       "      <td>0.0</td>\n",
       "      <td>...</td>\n",
       "      <td>0.00</td>\n",
       "      <td>0.0</td>\n",
       "      <td>0.0</td>\n",
       "      <td>0.0</td>\n",
       "      <td>0.0</td>\n",
       "      <td>0.0</td>\n",
       "      <td>0.0</td>\n",
       "      <td>0.0</td>\n",
       "      <td>0.0</td>\n",
       "      <td>0</td>\n",
       "    </tr>\n",
       "    <tr>\n",
       "      <th>Florence and the Machine</th>\n",
       "      <td>0.0</td>\n",
       "      <td>0.0</td>\n",
       "      <td>0.00</td>\n",
       "      <td>0.0</td>\n",
       "      <td>0.0</td>\n",
       "      <td>0.0</td>\n",
       "      <td>0.0</td>\n",
       "      <td>0.0</td>\n",
       "      <td>0.00</td>\n",
       "      <td>0.0</td>\n",
       "      <td>...</td>\n",
       "      <td>0.00</td>\n",
       "      <td>0.0</td>\n",
       "      <td>0.0</td>\n",
       "      <td>0.0</td>\n",
       "      <td>0.0</td>\n",
       "      <td>0.0</td>\n",
       "      <td>0.0</td>\n",
       "      <td>0.0</td>\n",
       "      <td>0.0</td>\n",
       "      <td>0</td>\n",
       "    </tr>\n",
       "    <tr>\n",
       "      <th>Florence and the Machine</th>\n",
       "      <td>0.0</td>\n",
       "      <td>0.0</td>\n",
       "      <td>0.00</td>\n",
       "      <td>0.0</td>\n",
       "      <td>0.0</td>\n",
       "      <td>0.0</td>\n",
       "      <td>0.0</td>\n",
       "      <td>0.0</td>\n",
       "      <td>0.00</td>\n",
       "      <td>0.0</td>\n",
       "      <td>...</td>\n",
       "      <td>0.00</td>\n",
       "      <td>0.0</td>\n",
       "      <td>0.0</td>\n",
       "      <td>0.0</td>\n",
       "      <td>0.0</td>\n",
       "      <td>0.0</td>\n",
       "      <td>0.0</td>\n",
       "      <td>0.0</td>\n",
       "      <td>0.0</td>\n",
       "      <td>0</td>\n",
       "    </tr>\n",
       "    <tr>\n",
       "      <th>Florence and the Machine</th>\n",
       "      <td>0.0</td>\n",
       "      <td>0.0</td>\n",
       "      <td>0.00</td>\n",
       "      <td>0.0</td>\n",
       "      <td>0.0</td>\n",
       "      <td>0.0</td>\n",
       "      <td>0.0</td>\n",
       "      <td>0.0</td>\n",
       "      <td>0.26</td>\n",
       "      <td>0.0</td>\n",
       "      <td>...</td>\n",
       "      <td>0.00</td>\n",
       "      <td>0.0</td>\n",
       "      <td>0.0</td>\n",
       "      <td>0.0</td>\n",
       "      <td>0.0</td>\n",
       "      <td>0.0</td>\n",
       "      <td>0.0</td>\n",
       "      <td>0.0</td>\n",
       "      <td>0.0</td>\n",
       "      <td>0</td>\n",
       "    </tr>\n",
       "    <tr>\n",
       "      <th>...</th>\n",
       "      <td>...</td>\n",
       "      <td>...</td>\n",
       "      <td>...</td>\n",
       "      <td>...</td>\n",
       "      <td>...</td>\n",
       "      <td>...</td>\n",
       "      <td>...</td>\n",
       "      <td>...</td>\n",
       "      <td>...</td>\n",
       "      <td>...</td>\n",
       "      <td>...</td>\n",
       "      <td>...</td>\n",
       "      <td>...</td>\n",
       "      <td>...</td>\n",
       "      <td>...</td>\n",
       "      <td>...</td>\n",
       "      <td>...</td>\n",
       "      <td>...</td>\n",
       "      <td>...</td>\n",
       "      <td>...</td>\n",
       "      <td>...</td>\n",
       "    </tr>\n",
       "    <tr>\n",
       "      <th>ABBA</th>\n",
       "      <td>0.0</td>\n",
       "      <td>0.0</td>\n",
       "      <td>0.11</td>\n",
       "      <td>0.0</td>\n",
       "      <td>0.0</td>\n",
       "      <td>0.0</td>\n",
       "      <td>0.0</td>\n",
       "      <td>0.0</td>\n",
       "      <td>0.00</td>\n",
       "      <td>0.0</td>\n",
       "      <td>...</td>\n",
       "      <td>0.00</td>\n",
       "      <td>0.0</td>\n",
       "      <td>0.0</td>\n",
       "      <td>0.0</td>\n",
       "      <td>0.0</td>\n",
       "      <td>0.0</td>\n",
       "      <td>0.0</td>\n",
       "      <td>0.0</td>\n",
       "      <td>0.0</td>\n",
       "      <td>3</td>\n",
       "    </tr>\n",
       "    <tr>\n",
       "      <th>ABBA</th>\n",
       "      <td>0.0</td>\n",
       "      <td>0.0</td>\n",
       "      <td>0.00</td>\n",
       "      <td>0.0</td>\n",
       "      <td>0.0</td>\n",
       "      <td>0.0</td>\n",
       "      <td>0.0</td>\n",
       "      <td>0.0</td>\n",
       "      <td>0.00</td>\n",
       "      <td>0.0</td>\n",
       "      <td>...</td>\n",
       "      <td>0.00</td>\n",
       "      <td>0.0</td>\n",
       "      <td>0.0</td>\n",
       "      <td>0.0</td>\n",
       "      <td>0.0</td>\n",
       "      <td>0.0</td>\n",
       "      <td>0.0</td>\n",
       "      <td>0.0</td>\n",
       "      <td>0.0</td>\n",
       "      <td>3</td>\n",
       "    </tr>\n",
       "    <tr>\n",
       "      <th>ABBA</th>\n",
       "      <td>0.0</td>\n",
       "      <td>0.0</td>\n",
       "      <td>0.00</td>\n",
       "      <td>0.0</td>\n",
       "      <td>0.0</td>\n",
       "      <td>0.0</td>\n",
       "      <td>0.0</td>\n",
       "      <td>0.0</td>\n",
       "      <td>0.00</td>\n",
       "      <td>0.0</td>\n",
       "      <td>...</td>\n",
       "      <td>0.00</td>\n",
       "      <td>0.0</td>\n",
       "      <td>0.0</td>\n",
       "      <td>0.0</td>\n",
       "      <td>0.0</td>\n",
       "      <td>0.0</td>\n",
       "      <td>0.0</td>\n",
       "      <td>0.0</td>\n",
       "      <td>0.0</td>\n",
       "      <td>3</td>\n",
       "    </tr>\n",
       "    <tr>\n",
       "      <th>ABBA</th>\n",
       "      <td>0.0</td>\n",
       "      <td>0.0</td>\n",
       "      <td>0.00</td>\n",
       "      <td>0.0</td>\n",
       "      <td>0.0</td>\n",
       "      <td>0.0</td>\n",
       "      <td>0.0</td>\n",
       "      <td>0.0</td>\n",
       "      <td>0.00</td>\n",
       "      <td>0.0</td>\n",
       "      <td>...</td>\n",
       "      <td>0.00</td>\n",
       "      <td>0.0</td>\n",
       "      <td>0.0</td>\n",
       "      <td>0.0</td>\n",
       "      <td>0.0</td>\n",
       "      <td>0.0</td>\n",
       "      <td>0.0</td>\n",
       "      <td>0.0</td>\n",
       "      <td>0.0</td>\n",
       "      <td>3</td>\n",
       "    </tr>\n",
       "    <tr>\n",
       "      <th>ABBA</th>\n",
       "      <td>0.0</td>\n",
       "      <td>0.0</td>\n",
       "      <td>0.00</td>\n",
       "      <td>0.0</td>\n",
       "      <td>0.0</td>\n",
       "      <td>0.0</td>\n",
       "      <td>0.0</td>\n",
       "      <td>0.0</td>\n",
       "      <td>0.00</td>\n",
       "      <td>0.0</td>\n",
       "      <td>...</td>\n",
       "      <td>0.00</td>\n",
       "      <td>0.0</td>\n",
       "      <td>0.0</td>\n",
       "      <td>0.0</td>\n",
       "      <td>0.0</td>\n",
       "      <td>0.0</td>\n",
       "      <td>0.0</td>\n",
       "      <td>0.0</td>\n",
       "      <td>0.0</td>\n",
       "      <td>3</td>\n",
       "    </tr>\n",
       "  </tbody>\n",
       "</table>\n",
       "<p>566 rows × 4909 columns</p>\n",
       "</div>"
      ],
      "text/plain": [
       "                          abandoned  abel  abide  ablaze  able  abre  absent  \\\n",
       "artist                                                                         \n",
       "Florence and the Machine        0.0   0.0   0.00     0.0   0.0   0.0     0.0   \n",
       "Florence and the Machine        0.0   0.0   0.00     0.0   0.0   0.0     0.0   \n",
       "Florence and the Machine        0.0   0.0   0.00     0.0   0.0   0.0     0.0   \n",
       "Florence and the Machine        0.0   0.0   0.00     0.0   0.0   0.0     0.0   \n",
       "Florence and the Machine        0.0   0.0   0.00     0.0   0.0   0.0     0.0   \n",
       "...                             ...   ...    ...     ...   ...   ...     ...   \n",
       "ABBA                            0.0   0.0   0.11     0.0   0.0   0.0     0.0   \n",
       "ABBA                            0.0   0.0   0.00     0.0   0.0   0.0     0.0   \n",
       "ABBA                            0.0   0.0   0.00     0.0   0.0   0.0     0.0   \n",
       "ABBA                            0.0   0.0   0.00     0.0   0.0   0.0     0.0   \n",
       "ABBA                            0.0   0.0   0.00     0.0   0.0   0.0     0.0   \n",
       "\n",
       "                          absolutely  absolution  aburrida  ...  youth  yuh  \\\n",
       "artist                                                      ...               \n",
       "Florence and the Machine         0.0        0.00       0.0  ...   0.06  0.0   \n",
       "Florence and the Machine         0.0        0.00       0.0  ...   0.00  0.0   \n",
       "Florence and the Machine         0.0        0.00       0.0  ...   0.00  0.0   \n",
       "Florence and the Machine         0.0        0.00       0.0  ...   0.00  0.0   \n",
       "Florence and the Machine         0.0        0.26       0.0  ...   0.00  0.0   \n",
       "...                              ...         ...       ...  ...    ...  ...   \n",
       "ABBA                             0.0        0.00       0.0  ...   0.00  0.0   \n",
       "ABBA                             0.0        0.00       0.0  ...   0.00  0.0   \n",
       "ABBA                             0.0        0.00       0.0  ...   0.00  0.0   \n",
       "ABBA                             0.0        0.00       0.0  ...   0.00  0.0   \n",
       "ABBA                             0.0        0.00       0.0  ...   0.00  0.0   \n",
       "\n",
       "                          yup  zarkov  zero  zip  zombie  zoo  zoomin  \\\n",
       "artist                                                                  \n",
       "Florence and the Machine  0.0     0.0   0.0  0.0     0.0  0.0     0.0   \n",
       "Florence and the Machine  0.0     0.0   0.0  0.0     0.0  0.0     0.0   \n",
       "Florence and the Machine  0.0     0.0   0.0  0.0     0.0  0.0     0.0   \n",
       "Florence and the Machine  0.0     0.0   0.0  0.0     0.0  0.0     0.0   \n",
       "Florence and the Machine  0.0     0.0   0.0  0.0     0.0  0.0     0.0   \n",
       "...                       ...     ...   ...  ...     ...  ...     ...   \n",
       "ABBA                      0.0     0.0   0.0  0.0     0.0  0.0     0.0   \n",
       "ABBA                      0.0     0.0   0.0  0.0     0.0  0.0     0.0   \n",
       "ABBA                      0.0     0.0   0.0  0.0     0.0  0.0     0.0   \n",
       "ABBA                      0.0     0.0   0.0  0.0     0.0  0.0     0.0   \n",
       "ABBA                      0.0     0.0   0.0  0.0     0.0  0.0     0.0   \n",
       "\n",
       "                          artist_fact  \n",
       "artist                                 \n",
       "Florence and the Machine            0  \n",
       "Florence and the Machine            0  \n",
       "Florence and the Machine            0  \n",
       "Florence and the Machine            0  \n",
       "Florence and the Machine            0  \n",
       "...                               ...  \n",
       "ABBA                                3  \n",
       "ABBA                                3  \n",
       "ABBA                                3  \n",
       "ABBA                                3  \n",
       "ABBA                                3  \n",
       "\n",
       "[566 rows x 4909 columns]"
      ]
     },
     "execution_count": 15,
     "metadata": {},
     "output_type": "execute_result"
    }
   ],
   "source": [
    "lyrics_df = lyrics_df.drop(list(lyrics_df.filter(regex='^aa')), axis=1) # without spacy 6031 columns\n",
    "lyrics_df"
   ]
  },
  {
   "cell_type": "markdown",
   "metadata": {},
   "source": [
    "**Define model data**"
   ]
  },
  {
   "cell_type": "code",
   "execution_count": 16,
   "metadata": {},
   "outputs": [
    {
     "data": {
      "text/html": [
       "<div>\n",
       "<style scoped>\n",
       "    .dataframe tbody tr th:only-of-type {\n",
       "        vertical-align: middle;\n",
       "    }\n",
       "\n",
       "    .dataframe tbody tr th {\n",
       "        vertical-align: top;\n",
       "    }\n",
       "\n",
       "    .dataframe thead th {\n",
       "        text-align: right;\n",
       "    }\n",
       "</style>\n",
       "<table border=\"1\" class=\"dataframe\">\n",
       "  <thead>\n",
       "    <tr style=\"text-align: right;\">\n",
       "      <th></th>\n",
       "      <th>abandoned</th>\n",
       "      <th>abel</th>\n",
       "      <th>abide</th>\n",
       "      <th>ablaze</th>\n",
       "      <th>able</th>\n",
       "      <th>abre</th>\n",
       "      <th>absent</th>\n",
       "      <th>absolutely</th>\n",
       "      <th>absolution</th>\n",
       "      <th>aburrida</th>\n",
       "      <th>...</th>\n",
       "      <th>youngster</th>\n",
       "      <th>youth</th>\n",
       "      <th>yuh</th>\n",
       "      <th>yup</th>\n",
       "      <th>zarkov</th>\n",
       "      <th>zero</th>\n",
       "      <th>zip</th>\n",
       "      <th>zombie</th>\n",
       "      <th>zoo</th>\n",
       "      <th>zoomin</th>\n",
       "    </tr>\n",
       "  </thead>\n",
       "  <tbody>\n",
       "    <tr>\n",
       "      <th>0</th>\n",
       "      <td>0.0</td>\n",
       "      <td>0.0</td>\n",
       "      <td>0.00</td>\n",
       "      <td>0.0</td>\n",
       "      <td>0.0</td>\n",
       "      <td>0.0</td>\n",
       "      <td>0.0</td>\n",
       "      <td>0.0</td>\n",
       "      <td>0.00</td>\n",
       "      <td>0.0</td>\n",
       "      <td>...</td>\n",
       "      <td>0.0</td>\n",
       "      <td>0.06</td>\n",
       "      <td>0.0</td>\n",
       "      <td>0.0</td>\n",
       "      <td>0.0</td>\n",
       "      <td>0.0</td>\n",
       "      <td>0.0</td>\n",
       "      <td>0.0</td>\n",
       "      <td>0.0</td>\n",
       "      <td>0.0</td>\n",
       "    </tr>\n",
       "    <tr>\n",
       "      <th>1</th>\n",
       "      <td>0.0</td>\n",
       "      <td>0.0</td>\n",
       "      <td>0.00</td>\n",
       "      <td>0.0</td>\n",
       "      <td>0.0</td>\n",
       "      <td>0.0</td>\n",
       "      <td>0.0</td>\n",
       "      <td>0.0</td>\n",
       "      <td>0.00</td>\n",
       "      <td>0.0</td>\n",
       "      <td>...</td>\n",
       "      <td>0.0</td>\n",
       "      <td>0.00</td>\n",
       "      <td>0.0</td>\n",
       "      <td>0.0</td>\n",
       "      <td>0.0</td>\n",
       "      <td>0.0</td>\n",
       "      <td>0.0</td>\n",
       "      <td>0.0</td>\n",
       "      <td>0.0</td>\n",
       "      <td>0.0</td>\n",
       "    </tr>\n",
       "    <tr>\n",
       "      <th>2</th>\n",
       "      <td>0.0</td>\n",
       "      <td>0.0</td>\n",
       "      <td>0.00</td>\n",
       "      <td>0.0</td>\n",
       "      <td>0.0</td>\n",
       "      <td>0.0</td>\n",
       "      <td>0.0</td>\n",
       "      <td>0.0</td>\n",
       "      <td>0.00</td>\n",
       "      <td>0.0</td>\n",
       "      <td>...</td>\n",
       "      <td>0.0</td>\n",
       "      <td>0.00</td>\n",
       "      <td>0.0</td>\n",
       "      <td>0.0</td>\n",
       "      <td>0.0</td>\n",
       "      <td>0.0</td>\n",
       "      <td>0.0</td>\n",
       "      <td>0.0</td>\n",
       "      <td>0.0</td>\n",
       "      <td>0.0</td>\n",
       "    </tr>\n",
       "    <tr>\n",
       "      <th>3</th>\n",
       "      <td>0.0</td>\n",
       "      <td>0.0</td>\n",
       "      <td>0.00</td>\n",
       "      <td>0.0</td>\n",
       "      <td>0.0</td>\n",
       "      <td>0.0</td>\n",
       "      <td>0.0</td>\n",
       "      <td>0.0</td>\n",
       "      <td>0.00</td>\n",
       "      <td>0.0</td>\n",
       "      <td>...</td>\n",
       "      <td>0.0</td>\n",
       "      <td>0.00</td>\n",
       "      <td>0.0</td>\n",
       "      <td>0.0</td>\n",
       "      <td>0.0</td>\n",
       "      <td>0.0</td>\n",
       "      <td>0.0</td>\n",
       "      <td>0.0</td>\n",
       "      <td>0.0</td>\n",
       "      <td>0.0</td>\n",
       "    </tr>\n",
       "    <tr>\n",
       "      <th>4</th>\n",
       "      <td>0.0</td>\n",
       "      <td>0.0</td>\n",
       "      <td>0.00</td>\n",
       "      <td>0.0</td>\n",
       "      <td>0.0</td>\n",
       "      <td>0.0</td>\n",
       "      <td>0.0</td>\n",
       "      <td>0.0</td>\n",
       "      <td>0.26</td>\n",
       "      <td>0.0</td>\n",
       "      <td>...</td>\n",
       "      <td>0.0</td>\n",
       "      <td>0.00</td>\n",
       "      <td>0.0</td>\n",
       "      <td>0.0</td>\n",
       "      <td>0.0</td>\n",
       "      <td>0.0</td>\n",
       "      <td>0.0</td>\n",
       "      <td>0.0</td>\n",
       "      <td>0.0</td>\n",
       "      <td>0.0</td>\n",
       "    </tr>\n",
       "    <tr>\n",
       "      <th>...</th>\n",
       "      <td>...</td>\n",
       "      <td>...</td>\n",
       "      <td>...</td>\n",
       "      <td>...</td>\n",
       "      <td>...</td>\n",
       "      <td>...</td>\n",
       "      <td>...</td>\n",
       "      <td>...</td>\n",
       "      <td>...</td>\n",
       "      <td>...</td>\n",
       "      <td>...</td>\n",
       "      <td>...</td>\n",
       "      <td>...</td>\n",
       "      <td>...</td>\n",
       "      <td>...</td>\n",
       "      <td>...</td>\n",
       "      <td>...</td>\n",
       "      <td>...</td>\n",
       "      <td>...</td>\n",
       "      <td>...</td>\n",
       "      <td>...</td>\n",
       "    </tr>\n",
       "    <tr>\n",
       "      <th>561</th>\n",
       "      <td>0.0</td>\n",
       "      <td>0.0</td>\n",
       "      <td>0.11</td>\n",
       "      <td>0.0</td>\n",
       "      <td>0.0</td>\n",
       "      <td>0.0</td>\n",
       "      <td>0.0</td>\n",
       "      <td>0.0</td>\n",
       "      <td>0.00</td>\n",
       "      <td>0.0</td>\n",
       "      <td>...</td>\n",
       "      <td>0.0</td>\n",
       "      <td>0.00</td>\n",
       "      <td>0.0</td>\n",
       "      <td>0.0</td>\n",
       "      <td>0.0</td>\n",
       "      <td>0.0</td>\n",
       "      <td>0.0</td>\n",
       "      <td>0.0</td>\n",
       "      <td>0.0</td>\n",
       "      <td>0.0</td>\n",
       "    </tr>\n",
       "    <tr>\n",
       "      <th>562</th>\n",
       "      <td>0.0</td>\n",
       "      <td>0.0</td>\n",
       "      <td>0.00</td>\n",
       "      <td>0.0</td>\n",
       "      <td>0.0</td>\n",
       "      <td>0.0</td>\n",
       "      <td>0.0</td>\n",
       "      <td>0.0</td>\n",
       "      <td>0.00</td>\n",
       "      <td>0.0</td>\n",
       "      <td>...</td>\n",
       "      <td>0.0</td>\n",
       "      <td>0.00</td>\n",
       "      <td>0.0</td>\n",
       "      <td>0.0</td>\n",
       "      <td>0.0</td>\n",
       "      <td>0.0</td>\n",
       "      <td>0.0</td>\n",
       "      <td>0.0</td>\n",
       "      <td>0.0</td>\n",
       "      <td>0.0</td>\n",
       "    </tr>\n",
       "    <tr>\n",
       "      <th>563</th>\n",
       "      <td>0.0</td>\n",
       "      <td>0.0</td>\n",
       "      <td>0.00</td>\n",
       "      <td>0.0</td>\n",
       "      <td>0.0</td>\n",
       "      <td>0.0</td>\n",
       "      <td>0.0</td>\n",
       "      <td>0.0</td>\n",
       "      <td>0.00</td>\n",
       "      <td>0.0</td>\n",
       "      <td>...</td>\n",
       "      <td>0.0</td>\n",
       "      <td>0.00</td>\n",
       "      <td>0.0</td>\n",
       "      <td>0.0</td>\n",
       "      <td>0.0</td>\n",
       "      <td>0.0</td>\n",
       "      <td>0.0</td>\n",
       "      <td>0.0</td>\n",
       "      <td>0.0</td>\n",
       "      <td>0.0</td>\n",
       "    </tr>\n",
       "    <tr>\n",
       "      <th>564</th>\n",
       "      <td>0.0</td>\n",
       "      <td>0.0</td>\n",
       "      <td>0.00</td>\n",
       "      <td>0.0</td>\n",
       "      <td>0.0</td>\n",
       "      <td>0.0</td>\n",
       "      <td>0.0</td>\n",
       "      <td>0.0</td>\n",
       "      <td>0.00</td>\n",
       "      <td>0.0</td>\n",
       "      <td>...</td>\n",
       "      <td>0.0</td>\n",
       "      <td>0.00</td>\n",
       "      <td>0.0</td>\n",
       "      <td>0.0</td>\n",
       "      <td>0.0</td>\n",
       "      <td>0.0</td>\n",
       "      <td>0.0</td>\n",
       "      <td>0.0</td>\n",
       "      <td>0.0</td>\n",
       "      <td>0.0</td>\n",
       "    </tr>\n",
       "    <tr>\n",
       "      <th>565</th>\n",
       "      <td>0.0</td>\n",
       "      <td>0.0</td>\n",
       "      <td>0.00</td>\n",
       "      <td>0.0</td>\n",
       "      <td>0.0</td>\n",
       "      <td>0.0</td>\n",
       "      <td>0.0</td>\n",
       "      <td>0.0</td>\n",
       "      <td>0.00</td>\n",
       "      <td>0.0</td>\n",
       "      <td>...</td>\n",
       "      <td>0.0</td>\n",
       "      <td>0.00</td>\n",
       "      <td>0.0</td>\n",
       "      <td>0.0</td>\n",
       "      <td>0.0</td>\n",
       "      <td>0.0</td>\n",
       "      <td>0.0</td>\n",
       "      <td>0.0</td>\n",
       "      <td>0.0</td>\n",
       "      <td>0.0</td>\n",
       "    </tr>\n",
       "  </tbody>\n",
       "</table>\n",
       "<p>566 rows × 4908 columns</p>\n",
       "</div>"
      ],
      "text/plain": [
       "     abandoned  abel  abide  ablaze  able  abre  absent  absolutely  \\\n",
       "0          0.0   0.0   0.00     0.0   0.0   0.0     0.0         0.0   \n",
       "1          0.0   0.0   0.00     0.0   0.0   0.0     0.0         0.0   \n",
       "2          0.0   0.0   0.00     0.0   0.0   0.0     0.0         0.0   \n",
       "3          0.0   0.0   0.00     0.0   0.0   0.0     0.0         0.0   \n",
       "4          0.0   0.0   0.00     0.0   0.0   0.0     0.0         0.0   \n",
       "..         ...   ...    ...     ...   ...   ...     ...         ...   \n",
       "561        0.0   0.0   0.11     0.0   0.0   0.0     0.0         0.0   \n",
       "562        0.0   0.0   0.00     0.0   0.0   0.0     0.0         0.0   \n",
       "563        0.0   0.0   0.00     0.0   0.0   0.0     0.0         0.0   \n",
       "564        0.0   0.0   0.00     0.0   0.0   0.0     0.0         0.0   \n",
       "565        0.0   0.0   0.00     0.0   0.0   0.0     0.0         0.0   \n",
       "\n",
       "     absolution  aburrida  ...  youngster  youth  yuh  yup  zarkov  zero  zip  \\\n",
       "0          0.00       0.0  ...        0.0   0.06  0.0  0.0     0.0   0.0  0.0   \n",
       "1          0.00       0.0  ...        0.0   0.00  0.0  0.0     0.0   0.0  0.0   \n",
       "2          0.00       0.0  ...        0.0   0.00  0.0  0.0     0.0   0.0  0.0   \n",
       "3          0.00       0.0  ...        0.0   0.00  0.0  0.0     0.0   0.0  0.0   \n",
       "4          0.26       0.0  ...        0.0   0.00  0.0  0.0     0.0   0.0  0.0   \n",
       "..          ...       ...  ...        ...    ...  ...  ...     ...   ...  ...   \n",
       "561        0.00       0.0  ...        0.0   0.00  0.0  0.0     0.0   0.0  0.0   \n",
       "562        0.00       0.0  ...        0.0   0.00  0.0  0.0     0.0   0.0  0.0   \n",
       "563        0.00       0.0  ...        0.0   0.00  0.0  0.0     0.0   0.0  0.0   \n",
       "564        0.00       0.0  ...        0.0   0.00  0.0  0.0     0.0   0.0  0.0   \n",
       "565        0.00       0.0  ...        0.0   0.00  0.0  0.0     0.0   0.0  0.0   \n",
       "\n",
       "     zombie  zoo  zoomin  \n",
       "0       0.0  0.0     0.0  \n",
       "1       0.0  0.0     0.0  \n",
       "2       0.0  0.0     0.0  \n",
       "3       0.0  0.0     0.0  \n",
       "4       0.0  0.0     0.0  \n",
       "..      ...  ...     ...  \n",
       "561     0.0  0.0     0.0  \n",
       "562     0.0  0.0     0.0  \n",
       "563     0.0  0.0     0.0  \n",
       "564     0.0  0.0     0.0  \n",
       "565     0.0  0.0     0.0  \n",
       "\n",
       "[566 rows x 4908 columns]"
      ]
     },
     "execution_count": 16,
     "metadata": {},
     "output_type": "execute_result"
    }
   ],
   "source": [
    "# Split the data into X and y\n",
    "y = lyrics_df['artist_fact']\n",
    "X = lyrics_df.reset_index(drop=True).drop(['artist_fact'], axis=1)"
   ]
  },
  {
   "cell_type": "code",
   "execution_count": 17,
   "metadata": {},
   "outputs": [
    {
     "data": {
      "text/plain": [
       "((452, 4908), (114, 4908), (452,), (114,))"
      ]
     },
     "execution_count": 17,
     "metadata": {},
     "output_type": "execute_result"
    }
   ],
   "source": [
    "# Split it in training and test data\n",
    "\n",
    "X_train, X_val, y_train, y_val = train_test_split(X, y, test_size=0.2, random_state=42)\n",
    "X_train.shape, X_val.shape, y_train.shape, y_val.shape"
   ]
  },
  {
   "cell_type": "markdown",
   "metadata": {},
   "source": [
    "**Create baseline with dummy classifier**"
   ]
  },
  {
   "cell_type": "code",
   "execution_count": 18,
   "metadata": {},
   "outputs": [
    {
     "data": {
      "text/plain": [
       "0.42035398230088494"
      ]
     },
     "execution_count": 18,
     "metadata": {},
     "output_type": "execute_result"
    }
   ],
   "source": [
    "\n",
    "dummy_clf = DummyClassifier(strategy='most_frequent')\n",
    "dummy_clf.fit(X_train, y_train)\n",
    "dummy_clf.score(X_train, y_train)\n",
    "# dummy_clf.predict(X_train)"
   ]
  },
  {
   "cell_type": "markdown",
   "metadata": {},
   "source": [
    "**Create naive bayes classifier**"
   ]
  },
  {
   "cell_type": "code",
   "execution_count": 19,
   "metadata": {},
   "outputs": [
    {
     "data": {
      "text/plain": [
       "0.995575221238938"
      ]
     },
     "execution_count": 19,
     "metadata": {},
     "output_type": "execute_result"
    }
   ],
   "source": [
    "\n",
    "nb = MultinomialNB(alpha=0.0025)\n",
    "nb.fit(X_train, y_train)\n",
    "nb.score(X_train, y_train)"
   ]
  },
  {
   "cell_type": "markdown",
   "metadata": {},
   "source": [
    "**Cross validation**"
   ]
  },
  {
   "cell_type": "code",
   "execution_count": 20,
   "metadata": {},
   "outputs": [
    {
     "data": {
      "text/plain": [
       "array([0.69026549, 0.53097345, 0.59292035, 0.62831858])"
      ]
     },
     "execution_count": 20,
     "metadata": {},
     "output_type": "execute_result"
    }
   ],
   "source": [
    "\n",
    "scores = cross_val_score(nb, X_train, y_train, cv=4, scoring='accuracy')\n",
    "scores"
   ]
  },
  {
   "cell_type": "code",
   "execution_count": 21,
   "metadata": {},
   "outputs": [
    {
     "data": {
      "text/plain": [
       "(0.611, 0.058)"
      ]
     },
     "execution_count": 21,
     "metadata": {},
     "output_type": "execute_result"
    }
   ],
   "source": [
    "scores.mean().round(3), scores.std().round(3)"
   ]
  },
  {
   "cell_type": "markdown",
   "metadata": {},
   "source": [
    "**Hyperparameter Optimization**"
   ]
  },
  {
   "cell_type": "code",
   "execution_count": 22,
   "metadata": {},
   "outputs": [
    {
     "data": {
      "text/html": [
       "<div>\n",
       "<style scoped>\n",
       "    .dataframe tbody tr th:only-of-type {\n",
       "        vertical-align: middle;\n",
       "    }\n",
       "\n",
       "    .dataframe tbody tr th {\n",
       "        vertical-align: top;\n",
       "    }\n",
       "\n",
       "    .dataframe thead th {\n",
       "        text-align: right;\n",
       "    }\n",
       "</style>\n",
       "<table border=\"1\" class=\"dataframe\">\n",
       "  <thead>\n",
       "    <tr style=\"text-align: right;\">\n",
       "      <th></th>\n",
       "      <th>mean_test_score</th>\n",
       "      <th>std_test_score</th>\n",
       "      <th>mean_fit_time</th>\n",
       "      <th>param_alpha</th>\n",
       "      <th>rank_test_score</th>\n",
       "    </tr>\n",
       "  </thead>\n",
       "  <tbody>\n",
       "    <tr>\n",
       "      <th>8</th>\n",
       "      <td>0.619365</td>\n",
       "      <td>0.055150</td>\n",
       "      <td>0.039650</td>\n",
       "      <td>0.0024</td>\n",
       "      <td>1</td>\n",
       "    </tr>\n",
       "    <tr>\n",
       "      <th>0</th>\n",
       "      <td>0.617143</td>\n",
       "      <td>0.052931</td>\n",
       "      <td>0.047966</td>\n",
       "      <td>0.0026</td>\n",
       "      <td>2</td>\n",
       "    </tr>\n",
       "    <tr>\n",
       "      <th>2</th>\n",
       "      <td>0.617143</td>\n",
       "      <td>0.052931</td>\n",
       "      <td>0.040173</td>\n",
       "      <td>0.0023</td>\n",
       "      <td>2</td>\n",
       "    </tr>\n",
       "    <tr>\n",
       "      <th>7</th>\n",
       "      <td>0.617143</td>\n",
       "      <td>0.052931</td>\n",
       "      <td>0.039201</td>\n",
       "      <td>0.0022</td>\n",
       "      <td>2</td>\n",
       "    </tr>\n",
       "    <tr>\n",
       "      <th>5</th>\n",
       "      <td>0.614945</td>\n",
       "      <td>0.049409</td>\n",
       "      <td>0.039288</td>\n",
       "      <td>0.0013</td>\n",
       "      <td>5</td>\n",
       "    </tr>\n",
       "    <tr>\n",
       "      <th>9</th>\n",
       "      <td>0.614945</td>\n",
       "      <td>0.049409</td>\n",
       "      <td>0.039610</td>\n",
       "      <td>0.0009</td>\n",
       "      <td>5</td>\n",
       "    </tr>\n",
       "    <tr>\n",
       "      <th>1</th>\n",
       "      <td>0.614921</td>\n",
       "      <td>0.050517</td>\n",
       "      <td>0.039448</td>\n",
       "      <td>0.0019</td>\n",
       "      <td>7</td>\n",
       "    </tr>\n",
       "    <tr>\n",
       "      <th>3</th>\n",
       "      <td>0.614921</td>\n",
       "      <td>0.050517</td>\n",
       "      <td>0.039677</td>\n",
       "      <td>0.0017</td>\n",
       "      <td>7</td>\n",
       "    </tr>\n",
       "    <tr>\n",
       "      <th>6</th>\n",
       "      <td>0.614921</td>\n",
       "      <td>0.050517</td>\n",
       "      <td>0.039563</td>\n",
       "      <td>0.0018</td>\n",
       "      <td>7</td>\n",
       "    </tr>\n",
       "    <tr>\n",
       "      <th>4</th>\n",
       "      <td>0.612723</td>\n",
       "      <td>0.047754</td>\n",
       "      <td>0.039315</td>\n",
       "      <td>0.0007</td>\n",
       "      <td>10</td>\n",
       "    </tr>\n",
       "  </tbody>\n",
       "</table>\n",
       "</div>"
      ],
      "text/plain": [
       "   mean_test_score  std_test_score  mean_fit_time param_alpha  rank_test_score\n",
       "8         0.619365        0.055150       0.039650      0.0024                1\n",
       "0         0.617143        0.052931       0.047966      0.0026                2\n",
       "2         0.617143        0.052931       0.040173      0.0023                2\n",
       "7         0.617143        0.052931       0.039201      0.0022                2\n",
       "5         0.614945        0.049409       0.039288      0.0013                5\n",
       "9         0.614945        0.049409       0.039610      0.0009                5\n",
       "1         0.614921        0.050517       0.039448      0.0019                7\n",
       "3         0.614921        0.050517       0.039677      0.0017                7\n",
       "6         0.614921        0.050517       0.039563      0.0018                7\n",
       "4         0.612723        0.047754       0.039315      0.0007               10"
      ]
     },
     "execution_count": 22,
     "metadata": {},
     "output_type": "execute_result"
    }
   ],
   "source": [
    "\n",
    "param_distributions = {\n",
    "    'alpha' : [x/10000 for x in range(6, 27 , 1)], # it will uniformly sample from that list\n",
    "}\n",
    "randomizedcv = RandomizedSearchCV(nb, param_distributions=param_distributions)\n",
    "randomizedcv.fit(X_train, y_train)\n",
    "random_results = pd.DataFrame(randomizedcv.cv_results_)\n",
    "columns = ['mean_test_score', 'std_test_score', 'mean_fit_time', 'param_alpha', 'rank_test_score']\n",
    "random_results[columns].sort_values('rank_test_score', ascending=True)"
   ]
  },
  {
   "cell_type": "markdown",
   "metadata": {},
   "source": [
    "**Test on validation data**"
   ]
  },
  {
   "cell_type": "code",
   "execution_count": 23,
   "metadata": {},
   "outputs": [
    {
     "data": {
      "text/plain": [
       "0.5877192982456141"
      ]
     },
     "execution_count": 23,
     "metadata": {},
     "output_type": "execute_result"
    }
   ],
   "source": [
    "nb.score(X_val, y_val)"
   ]
  },
  {
   "cell_type": "code",
   "execution_count": 24,
   "metadata": {},
   "outputs": [],
   "source": [
    "artist_pred = nb.predict(X_train)\n",
    "artist_pred_val = nb.predict(X_val)"
   ]
  },
  {
   "cell_type": "code",
   "execution_count": 25,
   "metadata": {},
   "outputs": [],
   "source": [
    "\n",
    "\n",
    "def print_evaluations(ytrue, ypred, model):\n",
    "    print(f'How does model {model} score:')\n",
    "    print(f'The accuracy of the model is: {round(accuracy_score(ytrue, ypred), 3)}')\n",
    "    print(f'The precision of the model is: {round(precision_score(ytrue, ypred, average=\"weighted\"), 3)}')\n",
    "    print(f'The recall of the model is: {round(recall_score(ytrue, ypred, average=\"weighted\"), 3)}')\n",
    "    print(f'The f1-score of the model is: {round(f1_score(ytrue, ypred, average=\"weighted\"), 3)}')\n",
    "    \n",
    "    #print confusion matrix\n",
    "    fig = plt.figure(figsize=(10, 8))\n",
    "    cm = confusion_matrix(ytrue, ypred)\n",
    "    print(cm)\n",
    "    \n",
    "    #plot the heatmap\n",
    "    ax = plt.subplot()\n",
    "    sns.heatmap(cm, annot=True, annot_kws={\"size\": 14}, ax = ax); #annot=True to annotate cells\n",
    "    # labels, title and ticks\n",
    "    ax.set_xlabel('Predicted labels', fontweight='bold');\n",
    "    ax.set_ylabel('True labels', fontweight='bold'); \n",
    "    ax.set_title('Confusion Matrix - ' + model, fontsize=20, fontweight='bold', pad = 20); \n",
    "    ax.xaxis.set_ticklabels(artists, rotation=25, ha='right'); \n",
    "    ax.yaxis.set_ticklabels(artists, rotation=0)"
   ]
  },
  {
   "cell_type": "code",
   "execution_count": 26,
   "metadata": {},
   "outputs": [
    {
     "name": "stdout",
     "output_type": "stream",
     "text": [
      "How does model Naive Bayes score:\n",
      "The accuracy of the model is: 0.588\n",
      "The precision of the model is: 0.586\n",
      "The recall of the model is: 0.588\n",
      "The f1-score of the model is: 0.572\n",
      "[[ 9  1  8  4]\n",
      " [ 2  5  9  2]\n",
      " [ 3  3 34  4]\n",
      " [ 1  1  9 19]]\n"
     ]
    },
    {
     "data": {
      "image/png": "[encoded data removed]",
      "text/plain": [
       "<Figure size 720x576 with 2 Axes>"
      ]
     },
     "metadata": {
      "needs_background": "light"
     },
     "output_type": "display_data"
    }
   ],
   "source": [
    "print_evaluations(y_val, artist_pred_val, 'Naive Bayes')"
   ]
  },
  {
   "cell_type": "markdown",
   "metadata": {},
   "source": [
    "## 5 - Reduce class imbalance (Undersampling, Oversampling)"
   ]
  },
  {
   "cell_type": "markdown",
   "metadata": {},
   "source": [
    "**Investigate training set for class imbalance**"
   ]
  },
  {
   "cell_type": "code",
   "execution_count": 38,
   "metadata": {},
   "outputs": [
    {
     "data": {
      "text/plain": [
       "0     62\n",
       "1     66\n",
       "2    190\n",
       "3    134\n",
       "Name: artist_fact, dtype: int64"
      ]
     },
     "execution_count": 38,
     "metadata": {},
     "output_type": "execute_result"
    }
   ],
   "source": [
    "y_train.value_counts(sort=False)"
   ]
  },
  {
   "cell_type": "markdown",
   "metadata": {},
   "source": [
    "**Create new training sets using undersampling and oversampling techniques**"
   ]
  },
  {
   "cell_type": "code",
   "execution_count": 28,
   "metadata": {},
   "outputs": [],
   "source": [
    "from imblearn.under_sampling import RandomUnderSampler, NearMiss\n",
    "from imblearn.over_sampling import RandomOverSampler, SMOTE"
   ]
  },
  {
   "cell_type": "code",
   "execution_count": 29,
   "metadata": {},
   "outputs": [],
   "source": [
    "rus = RandomUnderSampler(random_state=42) #sampling_strategy={0: 2000} \n",
    "nms = NearMiss()\n",
    "ros = RandomOverSampler(random_state=42)\n",
    "sms = SMOTE(random_state=42)"
   ]
  },
  {
   "cell_type": "code",
   "execution_count": 30,
   "metadata": {},
   "outputs": [],
   "source": [
    "Xtrain_rus, ytrain_rus = rus.fit_resample(X_train, y_train)\n",
    "Xtrain_nms, ytrain_nms = nms.fit_resample(X_train, y_train)\n",
    "Xtrain_ros, ytrain_ros = ros.fit_resample(X_train, y_train)\n",
    "Xtrain_sms, ytrain_sms = sms.fit_resample(X_train, y_train)"
   ]
  },
  {
   "cell_type": "code",
   "execution_count": 43,
   "metadata": {},
   "outputs": [
    {
     "data": {
      "text/html": [
       "<div>\n",
       "<style scoped>\n",
       "    .dataframe tbody tr th:only-of-type {\n",
       "        vertical-align: middle;\n",
       "    }\n",
       "\n",
       "    .dataframe tbody tr th {\n",
       "        vertical-align: top;\n",
       "    }\n",
       "\n",
       "    .dataframe thead th {\n",
       "        text-align: right;\n",
       "    }\n",
       "</style>\n",
       "<table border=\"1\" class=\"dataframe\">\n",
       "  <thead>\n",
       "    <tr style=\"text-align: right;\">\n",
       "      <th></th>\n",
       "      <th>rus</th>\n",
       "      <th>nms</th>\n",
       "      <th>ros</th>\n",
       "      <th>sms</th>\n",
       "    </tr>\n",
       "  </thead>\n",
       "  <tbody>\n",
       "    <tr>\n",
       "      <th>0</th>\n",
       "      <td>62</td>\n",
       "      <td>62</td>\n",
       "      <td>190</td>\n",
       "      <td>190</td>\n",
       "    </tr>\n",
       "    <tr>\n",
       "      <th>1</th>\n",
       "      <td>62</td>\n",
       "      <td>62</td>\n",
       "      <td>190</td>\n",
       "      <td>190</td>\n",
       "    </tr>\n",
       "    <tr>\n",
       "      <th>2</th>\n",
       "      <td>62</td>\n",
       "      <td>62</td>\n",
       "      <td>190</td>\n",
       "      <td>190</td>\n",
       "    </tr>\n",
       "    <tr>\n",
       "      <th>3</th>\n",
       "      <td>62</td>\n",
       "      <td>62</td>\n",
       "      <td>190</td>\n",
       "      <td>190</td>\n",
       "    </tr>\n",
       "  </tbody>\n",
       "</table>\n",
       "</div>"
      ],
      "text/plain": [
       "   rus  nms  ros  sms\n",
       "0   62   62  190  190\n",
       "1   62   62  190  190\n",
       "2   62   62  190  190\n",
       "3   62   62  190  190"
      ]
     },
     "execution_count": 43,
     "metadata": {},
     "output_type": "execute_result"
    }
   ],
   "source": [
    "pd.DataFrame({'rus': ytrain_rus.value_counts(sort=False), 'nms': ytrain_nms.value_counts(sort=False), 'ros': ytrain_ros.value_counts(sort=False), 'sms': ytrain_sms.value_counts(sort=False)})"
   ]
  },
  {
   "cell_type": "code",
   "execution_count": 49,
   "metadata": {},
   "outputs": [
    {
     "name": "stdout",
     "output_type": "stream",
     "text": [
      "How does model Naive Bayes with RandomUndersampler score:\n",
      "The accuracy of the model is: 0.588\n",
      "The precision of the model is: 0.627\n",
      "The recall of the model is: 0.588\n",
      "The f1-score of the model is: 0.596\n",
      "[[14  2  4  2]\n",
      " [ 5 11  1  1]\n",
      " [ 7  8 26  3]\n",
      " [ 6  3  5 16]]\n"
     ]
    },
    {
     "data": {
      "image/png": "[encoded data removed]",
      "text/plain": [
       "<Figure size 720x576 with 2 Axes>"
      ]
     },
     "metadata": {
      "needs_background": "light"
     },
     "output_type": "display_data"
    }
   ],
   "source": [
    "nb.fit(Xtrain_rus, ytrain_rus)\n",
    "ypred_rus = nb.predict(X_val)\n",
    "print_evaluations(y_val, ypred_rus, 'Naive Bayes with RandomUndersampler')"
   ]
  },
  {
   "cell_type": "code",
   "execution_count": 47,
   "metadata": {},
   "outputs": [
    {
     "name": "stdout",
     "output_type": "stream",
     "text": [
      "How does model Naive Bayes with NearMissSampler score:\n",
      "The accuracy of the model is: 0.518\n",
      "The precision of the model is: 0.538\n",
      "The recall of the model is: 0.518\n",
      "The f1-score of the model is: 0.519\n",
      "[[13  1  4  4]\n",
      " [ 4 10  2  2]\n",
      " [ 5 11 20  8]\n",
      " [ 5  3  6 16]]\n"
     ]
    },
    {
     "data": {
      "image/png": "[encoded data removed]",
      "text/plain": [
       "<Figure size 720x576 with 2 Axes>"
      ]
     },
     "metadata": {
      "needs_background": "light"
     },
     "output_type": "display_data"
    }
   ],
   "source": [
    "nb.fit(Xtrain_nms, ytrain_rus)\n",
    "ypred_nms = nb.predict(X_val)\n",
    "print_evaluations(y_val, ypred_nms, 'Naive Bayes with NearMissSampler')"
   ]
  },
  {
   "cell_type": "code",
   "execution_count": 48,
   "metadata": {},
   "outputs": [
    {
     "name": "stdout",
     "output_type": "stream",
     "text": [
      "How does model Naive Bayes with RandomUnderSampler score:\n",
      "The accuracy of the model is: 0.588\n",
      "The precision of the model is: 0.613\n",
      "The recall of the model is: 0.588\n",
      "The f1-score of the model is: 0.567\n",
      "[[ 6  1 12  3]\n",
      " [ 1  6 10  1]\n",
      " [ 2  3 35  4]\n",
      " [ 0  0 10 20]]\n"
     ]
    },
    {
     "data": {
      "image/png": "[encoded data removed]",
      "text/plain": [
       "<Figure size 720x576 with 2 Axes>"
      ]
     },
     "metadata": {
      "needs_background": "light"
     },
     "output_type": "display_data"
    }
   ],
   "source": [
    "nb.fit(Xtrain_ros, ytrain_ros)\n",
    "ypred_ros = nb.predict(X_val)\n",
    "print_evaluations(y_val, ypred_ros, 'Naive Bayes with RandomOversampler')"
   ]
  },
  {
   "cell_type": "code",
   "execution_count": 51,
   "metadata": {},
   "outputs": [
    {
     "name": "stdout",
     "output_type": "stream",
     "text": [
      "How does model Naive Bayes with SMOTE score:\n",
      "The accuracy of the model is: 0.579\n",
      "The precision of the model is: 0.596\n",
      "The recall of the model is: 0.579\n",
      "The f1-score of the model is: 0.554\n",
      "[[ 5  0 13  4]\n",
      " [ 2  6  9  1]\n",
      " [ 2  3 35  4]\n",
      " [ 0  0 10 20]]\n"
     ]
    },
    {
     "data": {
      "image/png": "[encoded data removed]",
      "text/plain": [
       "<Figure size 720x576 with 2 Axes>"
      ]
     },
     "metadata": {
      "needs_background": "light"
     },
     "output_type": "display_data"
    }
   ],
   "source": [
    "nb.fit(Xtrain_sms, ytrain_sms)\n",
    "ypred_sms = nb.predict(X_val)\n",
    "print_evaluations(y_val, ypred_sms, 'Naive Bayes with SMOTE')"
   ]
  },
  {
   "cell_type": "code",
   "execution_count": null,
   "metadata": {},
   "outputs": [],
   "source": []
  }
 ],
 "metadata": {
  "kernelspec": {
   "display_name": "Python 3",
   "language": "python",
   "name": "python3"
  },
  "language_info": {
   "codemirror_mode": {
    "name": "ipython",
    "version": 3
   },
   "file_extension": ".py",
   "mimetype": "text/x-python",
   "name": "python",
   "nbconvert_exporter": "python",
   "pygments_lexer": "ipython3",
   "version": "3.7.6"
  }
 },
 "nbformat": 4,
 "nbformat_minor": 4
}
