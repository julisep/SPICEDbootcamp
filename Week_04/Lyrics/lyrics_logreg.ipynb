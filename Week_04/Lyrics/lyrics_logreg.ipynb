{
 "cells": [
  {
   "cell_type": "markdown",
   "metadata": {},
   "source": [
    "# Bag of words approach on lyrics_df"
   ]
  },
  {
   "cell_type": "code",
   "execution_count": 1,
   "metadata": {},
   "outputs": [],
   "source": [
    "import pandas as pd"
   ]
  },
  {
   "cell_type": "code",
   "execution_count": 2,
   "metadata": {},
   "outputs": [
    {
     "data": {
      "text/html": [
       "<div>\n",
       "<style scoped>\n",
       "    .dataframe tbody tr th:only-of-type {\n",
       "        vertical-align: middle;\n",
       "    }\n",
       "\n",
       "    .dataframe tbody tr th {\n",
       "        vertical-align: top;\n",
       "    }\n",
       "\n",
       "    .dataframe thead th {\n",
       "        text-align: right;\n",
       "    }\n",
       "</style>\n",
       "<table border=\"1\" class=\"dataframe\">\n",
       "  <thead>\n",
       "    <tr style=\"text-align: right;\">\n",
       "      <th></th>\n",
       "      <th>artist</th>\n",
       "      <th>title</th>\n",
       "      <th>lyrics</th>\n",
       "    </tr>\n",
       "  </thead>\n",
       "  <tbody>\n",
       "    <tr>\n",
       "      <th>0</th>\n",
       "      <td>Florence and the Machine</td>\n",
       "      <td>100 years</td>\n",
       "      <td>I believe in you and in our hearts we know the...</td>\n",
       "    </tr>\n",
       "    <tr>\n",
       "      <th>1</th>\n",
       "      <td>Florence and the Machine</td>\n",
       "      <td>addicted to love</td>\n",
       "      <td>The lights are on but youre not homeYour mind ...</td>\n",
       "    </tr>\n",
       "    <tr>\n",
       "      <th>2</th>\n",
       "      <td>Florence and the Machine</td>\n",
       "      <td>all this and heaven too</td>\n",
       "      <td>And the heart is hard to translateIt has a lan...</td>\n",
       "    </tr>\n",
       "    <tr>\n",
       "      <th>3</th>\n",
       "      <td>Florence and the Machine</td>\n",
       "      <td>are you hurting the one you love</td>\n",
       "      <td>Are you hurting the one you loveYou say youve ...</td>\n",
       "    </tr>\n",
       "    <tr>\n",
       "      <th>4</th>\n",
       "      <td>Florence and the Machine</td>\n",
       "      <td>bedroom hymns</td>\n",
       "      <td>This is as good a place to fall as anyWell bui...</td>\n",
       "    </tr>\n",
       "    <tr>\n",
       "      <th>...</th>\n",
       "      <td>...</td>\n",
       "      <td>...</td>\n",
       "      <td>...</td>\n",
       "    </tr>\n",
       "    <tr>\n",
       "      <th>561</th>\n",
       "      <td>ABBA</td>\n",
       "      <td>winner takes it all</td>\n",
       "      <td>I dont wanna talk about things weve gone throu...</td>\n",
       "    </tr>\n",
       "    <tr>\n",
       "      <th>562</th>\n",
       "      <td>ABBA</td>\n",
       "      <td>wrap your arms around me</td>\n",
       "      <td>When youre so far awayAt the end of each dayCo...</td>\n",
       "    </tr>\n",
       "    <tr>\n",
       "      <th>563</th>\n",
       "      <td>ABBA</td>\n",
       "      <td>you owe me one</td>\n",
       "      <td>Frida  Now theres a shadow falling over our fa...</td>\n",
       "    </tr>\n",
       "    <tr>\n",
       "      <th>564</th>\n",
       "      <td>ABBA</td>\n",
       "      <td>youre there</td>\n",
       "      <td>I tried not to see youCause I couldnt take the...</td>\n",
       "    </tr>\n",
       "    <tr>\n",
       "      <th>565</th>\n",
       "      <td>ABBA</td>\n",
       "      <td>h vilka tider</td>\n",
       "      <td>The city is a jungle you better take careNever...</td>\n",
       "    </tr>\n",
       "  </tbody>\n",
       "</table>\n",
       "<p>566 rows × 3 columns</p>\n",
       "</div>"
      ],
      "text/plain": [
       "                       artist                             title  \\\n",
       "0    Florence and the Machine                         100 years   \n",
       "1    Florence and the Machine                  addicted to love   \n",
       "2    Florence and the Machine           all this and heaven too   \n",
       "3    Florence and the Machine  are you hurting the one you love   \n",
       "4    Florence and the Machine                     bedroom hymns   \n",
       "..                        ...                               ...   \n",
       "561                      ABBA               winner takes it all   \n",
       "562                      ABBA          wrap your arms around me   \n",
       "563                      ABBA                    you owe me one   \n",
       "564                      ABBA                       youre there   \n",
       "565                      ABBA                     h vilka tider   \n",
       "\n",
       "                                                lyrics  \n",
       "0    I believe in you and in our hearts we know the...  \n",
       "1    The lights are on but youre not homeYour mind ...  \n",
       "2    And the heart is hard to translateIt has a lan...  \n",
       "3    Are you hurting the one you loveYou say youve ...  \n",
       "4    This is as good a place to fall as anyWell bui...  \n",
       "..                                                 ...  \n",
       "561  I dont wanna talk about things weve gone throu...  \n",
       "562  When youre so far awayAt the end of each dayCo...  \n",
       "563  Frida  Now theres a shadow falling over our fa...  \n",
       "564  I tried not to see youCause I couldnt take the...  \n",
       "565  The city is a jungle you better take careNever...  \n",
       "\n",
       "[566 rows x 3 columns]"
      ]
     },
     "execution_count": 2,
     "metadata": {},
     "output_type": "execute_result"
    }
   ],
   "source": [
    "corpus = pd.read_csv('lyrics_df.csv', sep=';')\n",
    "corpus"
   ]
  },
  {
   "cell_type": "markdown",
   "metadata": {},
   "source": [
    "## 1 - clean lyrics (Spacy)"
   ]
  },
  {
   "cell_type": "code",
   "execution_count": 3,
   "metadata": {},
   "outputs": [],
   "source": [
    "import spacy\n",
    "model = spacy.load('en_core_web_sm')"
   ]
  },
  {
   "cell_type": "code",
   "execution_count": 4,
   "metadata": {},
   "outputs": [],
   "source": [
    "# Create function that cleans lyrics\n",
    "def clean_lyrics(song):\n",
    "    clean_song = []\n",
    "    \n",
    "    # parse the song through the spacy model\n",
    "    tok_song = model(song)\n",
    "    \n",
    "    # loop through words and drop stopwords, drop punctuation\n",
    "    for word in tok_song:\n",
    "        if word.is_alpha and not word.is_stop:   # loop through words and drop stopwords, drop punctuation\n",
    "            clean_song.append(word.lemma_)           # lemmatize the remaining words\n",
    "    clean_song = ' '.join(clean_song)                # return the lemmatized version to the caller as a string\n",
    "    return clean_song"
   ]
  },
  {
   "cell_type": "code",
   "execution_count": 5,
   "metadata": {},
   "outputs": [],
   "source": [
    "corpus['lyrics_clean'] = corpus['lyrics'].apply(clean_lyrics)"
   ]
  },
  {
   "cell_type": "code",
   "execution_count": 6,
   "metadata": {},
   "outputs": [
    {
     "data": {
      "text/html": [
       "<div>\n",
       "<style scoped>\n",
       "    .dataframe tbody tr th:only-of-type {\n",
       "        vertical-align: middle;\n",
       "    }\n",
       "\n",
       "    .dataframe tbody tr th {\n",
       "        vertical-align: top;\n",
       "    }\n",
       "\n",
       "    .dataframe thead th {\n",
       "        text-align: right;\n",
       "    }\n",
       "</style>\n",
       "<table border=\"1\" class=\"dataframe\">\n",
       "  <thead>\n",
       "    <tr style=\"text-align: right;\">\n",
       "      <th></th>\n",
       "      <th>artist</th>\n",
       "      <th>title</th>\n",
       "      <th>lyrics</th>\n",
       "      <th>lyrics_clean</th>\n",
       "    </tr>\n",
       "  </thead>\n",
       "  <tbody>\n",
       "    <tr>\n",
       "      <th>0</th>\n",
       "      <td>Florence and the Machine</td>\n",
       "      <td>100 years</td>\n",
       "      <td>I believe in you and in our hearts we know the...</td>\n",
       "      <td>believe heart know truth andI believe love dar...</td>\n",
       "    </tr>\n",
       "    <tr>\n",
       "      <th>1</th>\n",
       "      <td>Florence and the Machine</td>\n",
       "      <td>addicted to love</td>\n",
       "      <td>The lights are on but youre not homeYour mind ...</td>\n",
       "      <td>light homeYour mind ownYour heart sweat body s...</td>\n",
       "    </tr>\n",
       "    <tr>\n",
       "      <th>2</th>\n",
       "      <td>Florence and the Machine</td>\n",
       "      <td>all this and heaven too</td>\n",
       "      <td>And the heart is hard to translateIt has a lan...</td>\n",
       "      <td>heart hard translateit language ownit talk ton...</td>\n",
       "    </tr>\n",
       "    <tr>\n",
       "      <th>3</th>\n",
       "      <td>Florence and the Machine</td>\n",
       "      <td>are you hurting the one you love</td>\n",
       "      <td>Are you hurting the one you loveYou say youve ...</td>\n",
       "      <td>hurt loveYou have find Heaven not find GodAre ...</td>\n",
       "    </tr>\n",
       "    <tr>\n",
       "      <th>4</th>\n",
       "      <td>Florence and the Machine</td>\n",
       "      <td>bedroom hymns</td>\n",
       "      <td>This is as good a place to fall as anyWell bui...</td>\n",
       "      <td>good place fall anyWell build alter hereMake m...</td>\n",
       "    </tr>\n",
       "    <tr>\n",
       "      <th>...</th>\n",
       "      <td>...</td>\n",
       "      <td>...</td>\n",
       "      <td>...</td>\n",
       "      <td>...</td>\n",
       "    </tr>\n",
       "    <tr>\n",
       "      <th>561</th>\n",
       "      <td>ABBA</td>\n",
       "      <td>winner takes it all</td>\n",
       "      <td>I dont wanna talk about things weve gone throu...</td>\n",
       "      <td>not wanna talk thing have go throughthough hur...</td>\n",
       "    </tr>\n",
       "    <tr>\n",
       "      <th>562</th>\n",
       "      <td>ABBA</td>\n",
       "      <td>wrap your arms around me</td>\n",
       "      <td>When youre so far awayAt the end of each dayCo...</td>\n",
       "      <td>far awayat end daycounting moment till fade aw...</td>\n",
       "    </tr>\n",
       "    <tr>\n",
       "      <th>563</th>\n",
       "      <td>ABBA</td>\n",
       "      <td>you owe me one</td>\n",
       "      <td>Frida  Now theres a shadow falling over our fa...</td>\n",
       "      <td>Frida s shadow fall facesdoubt forever heartsA...</td>\n",
       "    </tr>\n",
       "    <tr>\n",
       "      <th>564</th>\n",
       "      <td>ABBA</td>\n",
       "      <td>youre there</td>\n",
       "      <td>I tried not to see youCause I couldnt take the...</td>\n",
       "      <td>try youcause not heartache againThe past meWou...</td>\n",
       "    </tr>\n",
       "    <tr>\n",
       "      <th>565</th>\n",
       "      <td>ABBA</td>\n",
       "      <td>h vilka tider</td>\n",
       "      <td>The city is a jungle you better take careNever...</td>\n",
       "      <td>city jungle better carenever walk midnightif n...</td>\n",
       "    </tr>\n",
       "  </tbody>\n",
       "</table>\n",
       "<p>566 rows × 4 columns</p>\n",
       "</div>"
      ],
      "text/plain": [
       "                       artist                             title  \\\n",
       "0    Florence and the Machine                         100 years   \n",
       "1    Florence and the Machine                  addicted to love   \n",
       "2    Florence and the Machine           all this and heaven too   \n",
       "3    Florence and the Machine  are you hurting the one you love   \n",
       "4    Florence and the Machine                     bedroom hymns   \n",
       "..                        ...                               ...   \n",
       "561                      ABBA               winner takes it all   \n",
       "562                      ABBA          wrap your arms around me   \n",
       "563                      ABBA                    you owe me one   \n",
       "564                      ABBA                       youre there   \n",
       "565                      ABBA                     h vilka tider   \n",
       "\n",
       "                                                lyrics  \\\n",
       "0    I believe in you and in our hearts we know the...   \n",
       "1    The lights are on but youre not homeYour mind ...   \n",
       "2    And the heart is hard to translateIt has a lan...   \n",
       "3    Are you hurting the one you loveYou say youve ...   \n",
       "4    This is as good a place to fall as anyWell bui...   \n",
       "..                                                 ...   \n",
       "561  I dont wanna talk about things weve gone throu...   \n",
       "562  When youre so far awayAt the end of each dayCo...   \n",
       "563  Frida  Now theres a shadow falling over our fa...   \n",
       "564  I tried not to see youCause I couldnt take the...   \n",
       "565  The city is a jungle you better take careNever...   \n",
       "\n",
       "                                          lyrics_clean  \n",
       "0    believe heart know truth andI believe love dar...  \n",
       "1    light homeYour mind ownYour heart sweat body s...  \n",
       "2    heart hard translateit language ownit talk ton...  \n",
       "3    hurt loveYou have find Heaven not find GodAre ...  \n",
       "4    good place fall anyWell build alter hereMake m...  \n",
       "..                                                 ...  \n",
       "561  not wanna talk thing have go throughthough hur...  \n",
       "562  far awayat end daycounting moment till fade aw...  \n",
       "563  Frida s shadow fall facesdoubt forever heartsA...  \n",
       "564  try youcause not heartache againThe past meWou...  \n",
       "565  city jungle better carenever walk midnightif n...  \n",
       "\n",
       "[566 rows x 4 columns]"
      ]
     },
     "execution_count": 6,
     "metadata": {},
     "output_type": "execute_result"
    }
   ],
   "source": [
    "corpus"
   ]
  },
  {
   "cell_type": "markdown",
   "metadata": {},
   "source": [
    "## 2 - transform your corpus into a matrix (CountVectorizer)"
   ]
  },
  {
   "cell_type": "code",
   "execution_count": 7,
   "metadata": {},
   "outputs": [],
   "source": [
    "from sklearn.feature_extraction.text import CountVectorizer"
   ]
  },
  {
   "cell_type": "code",
   "execution_count": 8,
   "metadata": {},
   "outputs": [
    {
     "data": {
      "text/plain": [
       "CountVectorizer(analyzer='word', binary=False, decode_error='strict',\n",
       "                dtype=<class 'numpy.int64'>, encoding='utf-8', input='content',\n",
       "                lowercase=True, max_df=1.0, max_features=None, min_df=1,\n",
       "                ngram_range=(1, 1), preprocessor=None, stop_words='english',\n",
       "                strip_accents=None, token_pattern='(?u)\\\\b\\\\w\\\\w+\\\\b',\n",
       "                tokenizer=None, vocabulary=None)"
      ]
     },
     "execution_count": 8,
     "metadata": {},
     "output_type": "execute_result"
    }
   ],
   "source": [
    "cv = CountVectorizer(stop_words='english')\n",
    "cv.fit(corpus['lyrics_clean'])"
   ]
  },
  {
   "cell_type": "code",
   "execution_count": 9,
   "metadata": {},
   "outputs": [],
   "source": [
    "lyrics_vec = cv.transform(corpus['lyrics_clean'])"
   ]
  },
  {
   "cell_type": "markdown",
   "metadata": {},
   "source": [
    "## 3 - Normalize the counts (TfidfTransformer)"
   ]
  },
  {
   "cell_type": "code",
   "execution_count": 10,
   "metadata": {},
   "outputs": [],
   "source": [
    "from sklearn.feature_extraction.text import TfidfTransformer"
   ]
  },
  {
   "cell_type": "code",
   "execution_count": 11,
   "metadata": {},
   "outputs": [],
   "source": [
    "tf = TfidfTransformer()\n",
    "lyrics_vec_tf = tf.fit_transform(lyrics_vec)"
   ]
  },
  {
   "cell_type": "code",
   "execution_count": 12,
   "metadata": {},
   "outputs": [],
   "source": [
    "lyrics_df = pd.DataFrame(lyrics_vec_tf.todense().round(2),  columns=cv.get_feature_names(), index=corpus['artist'])"
   ]
  },
  {
   "cell_type": "markdown",
   "metadata": {},
   "source": [
    "## 4 - Classification model (LogisticRegression)"
   ]
  },
  {
   "cell_type": "markdown",
   "metadata": {},
   "source": [
    "**First, add a labels column to your dataframe by factorizing the artist name**"
   ]
  },
  {
   "cell_type": "code",
   "execution_count": 13,
   "metadata": {},
   "outputs": [],
   "source": [
    "# factorize label column\n",
    "lyrics_df['artist_fact'] = pd.factorize(lyrics_df.index)[0]"
   ]
  },
  {
   "cell_type": "code",
   "execution_count": 14,
   "metadata": {},
   "outputs": [
    {
     "data": {
      "text/html": [
       "<div>\n",
       "<style scoped>\n",
       "    .dataframe tbody tr th:only-of-type {\n",
       "        vertical-align: middle;\n",
       "    }\n",
       "\n",
       "    .dataframe tbody tr th {\n",
       "        vertical-align: top;\n",
       "    }\n",
       "\n",
       "    .dataframe thead th {\n",
       "        text-align: right;\n",
       "    }\n",
       "</style>\n",
       "<table border=\"1\" class=\"dataframe\">\n",
       "  <thead>\n",
       "    <tr style=\"text-align: right;\">\n",
       "      <th></th>\n",
       "      <th>aaaahlast</th>\n",
       "      <th>aaaahsometime</th>\n",
       "      <th>aaah</th>\n",
       "      <th>aaahyoure</th>\n",
       "      <th>aaaooh</th>\n",
       "      <th>aah</th>\n",
       "      <th>aahbody</th>\n",
       "      <th>aahfight</th>\n",
       "      <th>aahgo</th>\n",
       "      <th>aahin</th>\n",
       "      <th>...</th>\n",
       "      <th>zero</th>\n",
       "      <th>zeroand</th>\n",
       "      <th>zerolet</th>\n",
       "      <th>zip</th>\n",
       "      <th>zombieim</th>\n",
       "      <th>zoo</th>\n",
       "      <th>zooi</th>\n",
       "      <th>zoomin</th>\n",
       "      <th>zootheyll</th>\n",
       "      <th>artist_fact</th>\n",
       "    </tr>\n",
       "    <tr>\n",
       "      <th>artist</th>\n",
       "      <th></th>\n",
       "      <th></th>\n",
       "      <th></th>\n",
       "      <th></th>\n",
       "      <th></th>\n",
       "      <th></th>\n",
       "      <th></th>\n",
       "      <th></th>\n",
       "      <th></th>\n",
       "      <th></th>\n",
       "      <th></th>\n",
       "      <th></th>\n",
       "      <th></th>\n",
       "      <th></th>\n",
       "      <th></th>\n",
       "      <th></th>\n",
       "      <th></th>\n",
       "      <th></th>\n",
       "      <th></th>\n",
       "      <th></th>\n",
       "      <th></th>\n",
       "    </tr>\n",
       "  </thead>\n",
       "  <tbody>\n",
       "    <tr>\n",
       "      <th>Florence and the Machine</th>\n",
       "      <td>0.0</td>\n",
       "      <td>0.0</td>\n",
       "      <td>0.0</td>\n",
       "      <td>0.0</td>\n",
       "      <td>0.0</td>\n",
       "      <td>0.0</td>\n",
       "      <td>0.0</td>\n",
       "      <td>0.0</td>\n",
       "      <td>0.0</td>\n",
       "      <td>0.0</td>\n",
       "      <td>...</td>\n",
       "      <td>0.0</td>\n",
       "      <td>0.0</td>\n",
       "      <td>0.0</td>\n",
       "      <td>0.0</td>\n",
       "      <td>0.0</td>\n",
       "      <td>0.0</td>\n",
       "      <td>0.0</td>\n",
       "      <td>0.0</td>\n",
       "      <td>0.0</td>\n",
       "      <td>0</td>\n",
       "    </tr>\n",
       "    <tr>\n",
       "      <th>Florence and the Machine</th>\n",
       "      <td>0.0</td>\n",
       "      <td>0.0</td>\n",
       "      <td>0.0</td>\n",
       "      <td>0.0</td>\n",
       "      <td>0.0</td>\n",
       "      <td>0.0</td>\n",
       "      <td>0.0</td>\n",
       "      <td>0.0</td>\n",
       "      <td>0.0</td>\n",
       "      <td>0.0</td>\n",
       "      <td>...</td>\n",
       "      <td>0.0</td>\n",
       "      <td>0.0</td>\n",
       "      <td>0.0</td>\n",
       "      <td>0.0</td>\n",
       "      <td>0.0</td>\n",
       "      <td>0.0</td>\n",
       "      <td>0.0</td>\n",
       "      <td>0.0</td>\n",
       "      <td>0.0</td>\n",
       "      <td>0</td>\n",
       "    </tr>\n",
       "    <tr>\n",
       "      <th>Florence and the Machine</th>\n",
       "      <td>0.0</td>\n",
       "      <td>0.0</td>\n",
       "      <td>0.0</td>\n",
       "      <td>0.0</td>\n",
       "      <td>0.0</td>\n",
       "      <td>0.0</td>\n",
       "      <td>0.0</td>\n",
       "      <td>0.0</td>\n",
       "      <td>0.0</td>\n",
       "      <td>0.0</td>\n",
       "      <td>...</td>\n",
       "      <td>0.0</td>\n",
       "      <td>0.0</td>\n",
       "      <td>0.0</td>\n",
       "      <td>0.0</td>\n",
       "      <td>0.0</td>\n",
       "      <td>0.0</td>\n",
       "      <td>0.0</td>\n",
       "      <td>0.0</td>\n",
       "      <td>0.0</td>\n",
       "      <td>0</td>\n",
       "    </tr>\n",
       "    <tr>\n",
       "      <th>Florence and the Machine</th>\n",
       "      <td>0.0</td>\n",
       "      <td>0.0</td>\n",
       "      <td>0.0</td>\n",
       "      <td>0.0</td>\n",
       "      <td>0.0</td>\n",
       "      <td>0.0</td>\n",
       "      <td>0.0</td>\n",
       "      <td>0.0</td>\n",
       "      <td>0.0</td>\n",
       "      <td>0.0</td>\n",
       "      <td>...</td>\n",
       "      <td>0.0</td>\n",
       "      <td>0.0</td>\n",
       "      <td>0.0</td>\n",
       "      <td>0.0</td>\n",
       "      <td>0.0</td>\n",
       "      <td>0.0</td>\n",
       "      <td>0.0</td>\n",
       "      <td>0.0</td>\n",
       "      <td>0.0</td>\n",
       "      <td>0</td>\n",
       "    </tr>\n",
       "    <tr>\n",
       "      <th>Florence and the Machine</th>\n",
       "      <td>0.0</td>\n",
       "      <td>0.0</td>\n",
       "      <td>0.0</td>\n",
       "      <td>0.0</td>\n",
       "      <td>0.0</td>\n",
       "      <td>0.0</td>\n",
       "      <td>0.0</td>\n",
       "      <td>0.0</td>\n",
       "      <td>0.0</td>\n",
       "      <td>0.0</td>\n",
       "      <td>...</td>\n",
       "      <td>0.0</td>\n",
       "      <td>0.0</td>\n",
       "      <td>0.0</td>\n",
       "      <td>0.0</td>\n",
       "      <td>0.0</td>\n",
       "      <td>0.0</td>\n",
       "      <td>0.0</td>\n",
       "      <td>0.0</td>\n",
       "      <td>0.0</td>\n",
       "      <td>0</td>\n",
       "    </tr>\n",
       "    <tr>\n",
       "      <th>...</th>\n",
       "      <td>...</td>\n",
       "      <td>...</td>\n",
       "      <td>...</td>\n",
       "      <td>...</td>\n",
       "      <td>...</td>\n",
       "      <td>...</td>\n",
       "      <td>...</td>\n",
       "      <td>...</td>\n",
       "      <td>...</td>\n",
       "      <td>...</td>\n",
       "      <td>...</td>\n",
       "      <td>...</td>\n",
       "      <td>...</td>\n",
       "      <td>...</td>\n",
       "      <td>...</td>\n",
       "      <td>...</td>\n",
       "      <td>...</td>\n",
       "      <td>...</td>\n",
       "      <td>...</td>\n",
       "      <td>...</td>\n",
       "      <td>...</td>\n",
       "    </tr>\n",
       "    <tr>\n",
       "      <th>ABBA</th>\n",
       "      <td>0.0</td>\n",
       "      <td>0.0</td>\n",
       "      <td>0.0</td>\n",
       "      <td>0.0</td>\n",
       "      <td>0.0</td>\n",
       "      <td>0.0</td>\n",
       "      <td>0.0</td>\n",
       "      <td>0.0</td>\n",
       "      <td>0.0</td>\n",
       "      <td>0.0</td>\n",
       "      <td>...</td>\n",
       "      <td>0.0</td>\n",
       "      <td>0.0</td>\n",
       "      <td>0.0</td>\n",
       "      <td>0.0</td>\n",
       "      <td>0.0</td>\n",
       "      <td>0.0</td>\n",
       "      <td>0.0</td>\n",
       "      <td>0.0</td>\n",
       "      <td>0.0</td>\n",
       "      <td>3</td>\n",
       "    </tr>\n",
       "    <tr>\n",
       "      <th>ABBA</th>\n",
       "      <td>0.0</td>\n",
       "      <td>0.0</td>\n",
       "      <td>0.0</td>\n",
       "      <td>0.0</td>\n",
       "      <td>0.0</td>\n",
       "      <td>0.0</td>\n",
       "      <td>0.0</td>\n",
       "      <td>0.0</td>\n",
       "      <td>0.0</td>\n",
       "      <td>0.0</td>\n",
       "      <td>...</td>\n",
       "      <td>0.0</td>\n",
       "      <td>0.0</td>\n",
       "      <td>0.0</td>\n",
       "      <td>0.0</td>\n",
       "      <td>0.0</td>\n",
       "      <td>0.0</td>\n",
       "      <td>0.0</td>\n",
       "      <td>0.0</td>\n",
       "      <td>0.0</td>\n",
       "      <td>3</td>\n",
       "    </tr>\n",
       "    <tr>\n",
       "      <th>ABBA</th>\n",
       "      <td>0.0</td>\n",
       "      <td>0.0</td>\n",
       "      <td>0.0</td>\n",
       "      <td>0.0</td>\n",
       "      <td>0.0</td>\n",
       "      <td>0.0</td>\n",
       "      <td>0.0</td>\n",
       "      <td>0.0</td>\n",
       "      <td>0.0</td>\n",
       "      <td>0.0</td>\n",
       "      <td>...</td>\n",
       "      <td>0.0</td>\n",
       "      <td>0.0</td>\n",
       "      <td>0.0</td>\n",
       "      <td>0.0</td>\n",
       "      <td>0.0</td>\n",
       "      <td>0.0</td>\n",
       "      <td>0.0</td>\n",
       "      <td>0.0</td>\n",
       "      <td>0.0</td>\n",
       "      <td>3</td>\n",
       "    </tr>\n",
       "    <tr>\n",
       "      <th>ABBA</th>\n",
       "      <td>0.0</td>\n",
       "      <td>0.0</td>\n",
       "      <td>0.0</td>\n",
       "      <td>0.0</td>\n",
       "      <td>0.0</td>\n",
       "      <td>0.0</td>\n",
       "      <td>0.0</td>\n",
       "      <td>0.0</td>\n",
       "      <td>0.0</td>\n",
       "      <td>0.0</td>\n",
       "      <td>...</td>\n",
       "      <td>0.0</td>\n",
       "      <td>0.0</td>\n",
       "      <td>0.0</td>\n",
       "      <td>0.0</td>\n",
       "      <td>0.0</td>\n",
       "      <td>0.0</td>\n",
       "      <td>0.0</td>\n",
       "      <td>0.0</td>\n",
       "      <td>0.0</td>\n",
       "      <td>3</td>\n",
       "    </tr>\n",
       "    <tr>\n",
       "      <th>ABBA</th>\n",
       "      <td>0.0</td>\n",
       "      <td>0.0</td>\n",
       "      <td>0.0</td>\n",
       "      <td>0.0</td>\n",
       "      <td>0.0</td>\n",
       "      <td>0.0</td>\n",
       "      <td>0.0</td>\n",
       "      <td>0.0</td>\n",
       "      <td>0.0</td>\n",
       "      <td>0.0</td>\n",
       "      <td>...</td>\n",
       "      <td>0.0</td>\n",
       "      <td>0.0</td>\n",
       "      <td>0.0</td>\n",
       "      <td>0.0</td>\n",
       "      <td>0.0</td>\n",
       "      <td>0.0</td>\n",
       "      <td>0.0</td>\n",
       "      <td>0.0</td>\n",
       "      <td>0.0</td>\n",
       "      <td>3</td>\n",
       "    </tr>\n",
       "  </tbody>\n",
       "</table>\n",
       "<p>566 rows × 14572 columns</p>\n",
       "</div>"
      ],
      "text/plain": [
       "                          aaaahlast  aaaahsometime  aaah  aaahyoure  aaaooh  \\\n",
       "artist                                                                        \n",
       "Florence and the Machine        0.0            0.0   0.0        0.0     0.0   \n",
       "Florence and the Machine        0.0            0.0   0.0        0.0     0.0   \n",
       "Florence and the Machine        0.0            0.0   0.0        0.0     0.0   \n",
       "Florence and the Machine        0.0            0.0   0.0        0.0     0.0   \n",
       "Florence and the Machine        0.0            0.0   0.0        0.0     0.0   \n",
       "...                             ...            ...   ...        ...     ...   \n",
       "ABBA                            0.0            0.0   0.0        0.0     0.0   \n",
       "ABBA                            0.0            0.0   0.0        0.0     0.0   \n",
       "ABBA                            0.0            0.0   0.0        0.0     0.0   \n",
       "ABBA                            0.0            0.0   0.0        0.0     0.0   \n",
       "ABBA                            0.0            0.0   0.0        0.0     0.0   \n",
       "\n",
       "                          aah  aahbody  aahfight  aahgo  aahin  ...  zero  \\\n",
       "artist                                                          ...         \n",
       "Florence and the Machine  0.0      0.0       0.0    0.0    0.0  ...   0.0   \n",
       "Florence and the Machine  0.0      0.0       0.0    0.0    0.0  ...   0.0   \n",
       "Florence and the Machine  0.0      0.0       0.0    0.0    0.0  ...   0.0   \n",
       "Florence and the Machine  0.0      0.0       0.0    0.0    0.0  ...   0.0   \n",
       "Florence and the Machine  0.0      0.0       0.0    0.0    0.0  ...   0.0   \n",
       "...                       ...      ...       ...    ...    ...  ...   ...   \n",
       "ABBA                      0.0      0.0       0.0    0.0    0.0  ...   0.0   \n",
       "ABBA                      0.0      0.0       0.0    0.0    0.0  ...   0.0   \n",
       "ABBA                      0.0      0.0       0.0    0.0    0.0  ...   0.0   \n",
       "ABBA                      0.0      0.0       0.0    0.0    0.0  ...   0.0   \n",
       "ABBA                      0.0      0.0       0.0    0.0    0.0  ...   0.0   \n",
       "\n",
       "                          zeroand  zerolet  zip  zombieim  zoo  zooi  zoomin  \\\n",
       "artist                                                                         \n",
       "Florence and the Machine      0.0      0.0  0.0       0.0  0.0   0.0     0.0   \n",
       "Florence and the Machine      0.0      0.0  0.0       0.0  0.0   0.0     0.0   \n",
       "Florence and the Machine      0.0      0.0  0.0       0.0  0.0   0.0     0.0   \n",
       "Florence and the Machine      0.0      0.0  0.0       0.0  0.0   0.0     0.0   \n",
       "Florence and the Machine      0.0      0.0  0.0       0.0  0.0   0.0     0.0   \n",
       "...                           ...      ...  ...       ...  ...   ...     ...   \n",
       "ABBA                          0.0      0.0  0.0       0.0  0.0   0.0     0.0   \n",
       "ABBA                          0.0      0.0  0.0       0.0  0.0   0.0     0.0   \n",
       "ABBA                          0.0      0.0  0.0       0.0  0.0   0.0     0.0   \n",
       "ABBA                          0.0      0.0  0.0       0.0  0.0   0.0     0.0   \n",
       "ABBA                          0.0      0.0  0.0       0.0  0.0   0.0     0.0   \n",
       "\n",
       "                          zootheyll  artist_fact  \n",
       "artist                                            \n",
       "Florence and the Machine        0.0            0  \n",
       "Florence and the Machine        0.0            0  \n",
       "Florence and the Machine        0.0            0  \n",
       "Florence and the Machine        0.0            0  \n",
       "Florence and the Machine        0.0            0  \n",
       "...                             ...          ...  \n",
       "ABBA                            0.0            3  \n",
       "ABBA                            0.0            3  \n",
       "ABBA                            0.0            3  \n",
       "ABBA                            0.0            3  \n",
       "ABBA                            0.0            3  \n",
       "\n",
       "[566 rows x 14572 columns]"
      ]
     },
     "execution_count": 14,
     "metadata": {},
     "output_type": "execute_result"
    }
   ],
   "source": [
    "lyrics_df # without spacy 6031 columns"
   ]
  },
  {
   "cell_type": "markdown",
   "metadata": {},
   "source": [
    "**Define model data**"
   ]
  },
  {
   "cell_type": "code",
   "execution_count": 51,
   "metadata": {},
   "outputs": [],
   "source": [
    "# Split the data into X and y\n",
    "y = lyrics_df['artist_fact']\n",
    "X = lyrics_df.drop('artist_fact', axis=1)"
   ]
  },
  {
   "cell_type": "code",
   "execution_count": 52,
   "metadata": {},
   "outputs": [
    {
     "data": {
      "text/plain": [
       "((452, 6030), (114, 6030), (452,), (114,))"
      ]
     },
     "execution_count": 52,
     "metadata": {},
     "output_type": "execute_result"
    }
   ],
   "source": [
    "# Split it in training and test data\n",
    "from sklearn.model_selection import train_test_split\n",
    "X_train, X_val, y_train, y_val = train_test_split(X, y, test_size=0.2, random_state=42)\n",
    "X_train.shape, X_val.shape, y_train.shape, y_val.shape"
   ]
  },
  {
   "cell_type": "markdown",
   "metadata": {},
   "source": [
    "**Create baseline with dummy classifier**"
   ]
  },
  {
   "cell_type": "code",
   "execution_count": 55,
   "metadata": {},
   "outputs": [
    {
     "data": {
      "text/plain": [
       "0.42035398230088494"
      ]
     },
     "execution_count": 55,
     "metadata": {},
     "output_type": "execute_result"
    }
   ],
   "source": [
    "from sklearn.dummy import DummyClassifier\n",
    "dummy_clf = DummyClassifier(strategy='most_frequent')\n",
    "dummy_clf.fit(X_train, y_train)\n",
    "dummy_clf.score(X_train, y_train)\n",
    "# dummy_clf.predict(X_train)"
   ]
  },
  {
   "cell_type": "markdown",
   "metadata": {},
   "source": [
    "**Create logisitc regression classifier**"
   ]
  },
  {
   "cell_type": "code",
   "execution_count": 56,
   "metadata": {},
   "outputs": [
    {
     "data": {
      "text/plain": [
       "0.9933628318584071"
      ]
     },
     "execution_count": 56,
     "metadata": {},
     "output_type": "execute_result"
    }
   ],
   "source": [
    "from sklearn.linear_model import LogisticRegression\n",
    "lr = LogisticRegression(C=4)\n",
    "lr.fit(X_train, y_train)\n",
    "lr.score(X_train, y_train) "
   ]
  },
  {
   "cell_type": "markdown",
   "metadata": {},
   "source": [
    "**Cross validation**"
   ]
  },
  {
   "cell_type": "code",
   "execution_count": 57,
   "metadata": {},
   "outputs": [
    {
     "data": {
      "text/plain": [
       "array([0.63716814, 0.51327434, 0.5840708 , 0.5840708 ])"
      ]
     },
     "execution_count": 57,
     "metadata": {},
     "output_type": "execute_result"
    }
   ],
   "source": [
    "from sklearn.model_selection import cross_val_score\n",
    "scores = cross_val_score(lr, X_train, y_train, cv=4, scoring='accuracy')\n",
    "scores"
   ]
  },
  {
   "cell_type": "code",
   "execution_count": 58,
   "metadata": {},
   "outputs": [
    {
     "data": {
      "text/plain": [
       "(0.58, 0.044)"
      ]
     },
     "execution_count": 58,
     "metadata": {},
     "output_type": "execute_result"
    }
   ],
   "source": [
    "scores.mean().round(3), scores.std().round(3)"
   ]
  },
  {
   "cell_type": "markdown",
   "metadata": {},
   "source": [
    "**Hyperparameter Optimization**"
   ]
  },
  {
   "cell_type": "code",
   "execution_count": 59,
   "metadata": {},
   "outputs": [
    {
     "name": "stderr",
     "output_type": "stream",
     "text": [
      "/Users/julia/opt/anaconda3/lib/python3.7/site-packages/sklearn/model_selection/_search.py:281: UserWarning: The total space of parameters 4 is smaller than n_iter=10. Running 4 iterations. For exhaustive searches, use GridSearchCV.\n",
      "  % (grid_size, self.n_iter, grid_size), UserWarning)\n"
     ]
    },
    {
     "data": {
      "text/html": [
       "<div>\n",
       "<style scoped>\n",
       "    .dataframe tbody tr th:only-of-type {\n",
       "        vertical-align: middle;\n",
       "    }\n",
       "\n",
       "    .dataframe tbody tr th {\n",
       "        vertical-align: top;\n",
       "    }\n",
       "\n",
       "    .dataframe thead th {\n",
       "        text-align: right;\n",
       "    }\n",
       "</style>\n",
       "<table border=\"1\" class=\"dataframe\">\n",
       "  <thead>\n",
       "    <tr style=\"text-align: right;\">\n",
       "      <th></th>\n",
       "      <th>mean_test_score</th>\n",
       "      <th>std_test_score</th>\n",
       "      <th>mean_fit_time</th>\n",
       "      <th>param_C</th>\n",
       "    </tr>\n",
       "  </thead>\n",
       "  <tbody>\n",
       "    <tr>\n",
       "      <th>2</th>\n",
       "      <td>0.577436</td>\n",
       "      <td>0.045721</td>\n",
       "      <td>0.290575</td>\n",
       "      <td>3</td>\n",
       "    </tr>\n",
       "    <tr>\n",
       "      <th>3</th>\n",
       "      <td>0.577436</td>\n",
       "      <td>0.046788</td>\n",
       "      <td>0.308000</td>\n",
       "      <td>4</td>\n",
       "    </tr>\n",
       "    <tr>\n",
       "      <th>1</th>\n",
       "      <td>0.575189</td>\n",
       "      <td>0.038805</td>\n",
       "      <td>0.251352</td>\n",
       "      <td>2</td>\n",
       "    </tr>\n",
       "    <tr>\n",
       "      <th>0</th>\n",
       "      <td>0.559707</td>\n",
       "      <td>0.028550</td>\n",
       "      <td>0.231535</td>\n",
       "      <td>1</td>\n",
       "    </tr>\n",
       "  </tbody>\n",
       "</table>\n",
       "</div>"
      ],
      "text/plain": [
       "   mean_test_score  std_test_score  mean_fit_time param_C\n",
       "2         0.577436        0.045721       0.290575       3\n",
       "3         0.577436        0.046788       0.308000       4\n",
       "1         0.575189        0.038805       0.251352       2\n",
       "0         0.559707        0.028550       0.231535       1"
      ]
     },
     "execution_count": 59,
     "metadata": {},
     "output_type": "execute_result"
    }
   ],
   "source": [
    "from sklearn.model_selection import RandomizedSearchCV\n",
    "param_distributions = {\n",
    "    'C' : list(range(1, 5, 1)), # it will uniformly sample from that list\n",
    "}\n",
    "randomizedcv = RandomizedSearchCV(lr, param_distributions=param_distributions)\n",
    "randomizedcv.fit(X_train, y_train)\n",
    "random_results = pd.DataFrame(randomizedcv.cv_results_)\n",
    "columns = ['mean_test_score', 'std_test_score', 'mean_fit_time', 'param_C']\n",
    "random_results[columns].sort_values('mean_test_score', ascending=False)"
   ]
  },
  {
   "cell_type": "markdown",
   "metadata": {},
   "source": [
    "**Test on validation data**"
   ]
  },
  {
   "cell_type": "code",
   "execution_count": 60,
   "metadata": {},
   "outputs": [
    {
     "data": {
      "text/plain": [
       "0.6052631578947368"
      ]
     },
     "execution_count": 60,
     "metadata": {},
     "output_type": "execute_result"
    }
   ],
   "source": [
    "lr.score(X_val, y_val)"
   ]
  },
  {
   "cell_type": "code",
   "execution_count": null,
   "metadata": {},
   "outputs": [],
   "source": []
  }
 ],
 "metadata": {
  "kernelspec": {
   "display_name": "Python 3",
   "language": "python",
   "name": "python3"
  },
  "language_info": {
   "codemirror_mode": {
    "name": "ipython",
    "version": 3
   },
   "file_extension": ".py",
   "mimetype": "text/x-python",
   "name": "python",
   "nbconvert_exporter": "python",
   "pygments_lexer": "ipython3",
   "version": "3.7.6"
  }
 },
 "nbformat": 4,
 "nbformat_minor": 4
}
