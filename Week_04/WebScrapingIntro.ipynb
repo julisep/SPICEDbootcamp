{
 "cells": [
  {
   "cell_type": "markdown",
   "metadata": {},
   "source": [
    "### Web Scraping"
   ]
  },
  {
   "cell_type": "markdown",
   "metadata": {},
   "source": [
    "- When we visit a website (i.e. literally paste the link and hit enter):\n",
    "    - We (client) are making a request to a server (e.g. some remote computer).\n",
    "    - Assuming all goes well, we get back the web page. Comes back in HTML format.\n",
    "    - This transaction / interaction is following the HTTP protocol.\n",
    "    - `requests` abstracts all this low-level HTTP exchange away from us.\n",
    "    "
   ]
  },
  {
   "cell_type": "code",
   "execution_count": 1,
   "metadata": {},
   "outputs": [],
   "source": [
    "import requests"
   ]
  },
  {
   "cell_type": "code",
   "execution_count": 10,
   "metadata": {},
   "outputs": [],
   "source": [
    "response = requests.get('http://www.spiced-academy.com/en/program/data-science')\n",
    "#python equivalent of typing in the url in the web browers and hitting enter."
   ]
  },
  {
   "cell_type": "code",
   "execution_count": 12,
   "metadata": {},
   "outputs": [
    {
     "data": {
      "text/plain": [
       "<Response [200]>"
      ]
     },
     "execution_count": 12,
     "metadata": {},
     "output_type": "execute_result"
    }
   ],
   "source": [
    "response\n",
    "\n",
    "# HTTP 200 - OK, successful\n",
    "# HTTP 404 - Not Found\n",
    "\n",
    "# HTTP 200-range: Success\n",
    "# HTTP 300-range: Re-routing\n",
    "# HTTP 400-ranges: Client-side error\n",
    "# HTTP 500-ranges: Server-side error"
   ]
  },
  {
   "cell_type": "code",
   "execution_count": 19,
   "metadata": {},
   "outputs": [],
   "source": [
    "html_string = response.text"
   ]
  },
  {
   "cell_type": "code",
   "execution_count": 25,
   "metadata": {},
   "outputs": [],
   "source": [
    "start = html_string.find('Know your language at glance')"
   ]
  },
  {
   "cell_type": "code",
   "execution_count": 32,
   "metadata": {},
   "outputs": [
    {
     "data": {
      "text/plain": [
       "'Know your language at glance:</h3>\\n        </div>\\n    \\n        <div class=\"curriculum-middle\">\\n     '"
      ]
     },
     "execution_count": 32,
     "metadata": {},
     "output_type": "execute_result"
    }
   ],
   "source": [
    "html_string[start:start+100]"
   ]
  },
  {
   "cell_type": "markdown",
   "metadata": {},
   "source": [
    "### Raw string manipulation won't get us very far.\n",
    "\n",
    "Much better alternatives:\n",
    "   - regular expressions (HARD)\n",
    "   - BeautifulSoup (Easier alternative)"
   ]
  },
  {
   "cell_type": "markdown",
   "metadata": {},
   "source": [
    "---"
   ]
  },
  {
   "cell_type": "markdown",
   "metadata": {},
   "source": [
    "Logging in to a password-protected site:"
   ]
  },
  {
   "cell_type": "code",
   "execution_count": 35,
   "metadata": {},
   "outputs": [
    {
     "data": {
      "text/plain": [
       "<Response [200]>"
      ]
     },
     "execution_count": 35,
     "metadata": {},
     "output_type": "execute_result"
    }
   ],
   "source": [
    "requests.get('http://krspiced.pythonanywhere.com/', auth=('spiced', 'titanic99'))"
   ]
  },
  {
   "cell_type": "markdown",
   "metadata": {},
   "source": [
    "Try downloading text / lyrics from a lyrics site:"
   ]
  },
  {
   "cell_type": "markdown",
   "metadata": {},
   "source": [
    "**lyrics.com**\n",
    "\n",
    "**metrolyrics.com**"
   ]
  }
 ],
 "metadata": {
  "kernelspec": {
   "display_name": "Python 3",
   "language": "python",
   "name": "python3"
  },
  "language_info": {
   "codemirror_mode": {
    "name": "ipython",
    "version": 3
   },
   "file_extension": ".py",
   "mimetype": "text/x-python",
   "name": "python",
   "nbconvert_exporter": "python",
   "pygments_lexer": "ipython3",
   "version": "3.6.10"
  }
 },
 "nbformat": 4,
 "nbformat_minor": 4
}
