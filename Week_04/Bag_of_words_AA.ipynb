{
 "cells": [
  {
   "cell_type": "markdown",
   "metadata": {},
   "source": [
    "## Bag of Words:\n",
    "* The first attempt at creating word vectors. \n",
    "* The common approach for word vectorisation until 2013 (Mikolov et al)\n",
    "\n",
    "#### Pros\n",
    "* Works for any text\n",
    "* Easy and fast to do\n",
    "* Does not require a language model (just the corpus)\n",
    "\n",
    "#### Cons\n",
    "* Does not apply language knowledge (stopwords EN only)\n",
    "* All words are equally similar / disimliar (discrete, orthogonal vectors)\n",
    "* Order of words is ignored"
   ]
  },
  {
   "cell_type": "code",
   "execution_count": 1,
   "metadata": {},
   "outputs": [
    {
     "name": "stderr",
     "output_type": "stream",
     "text": [
      "/Users/julia/opt/anaconda3/lib/python3.7/importlib/_bootstrap.py:219: RuntimeWarning: numpy.ufunc size changed, may indicate binary incompatibility. Expected 192 from C header, got 216 from PyObject\n",
      "  return f(*args, **kwds)\n"
     ]
    }
   ],
   "source": [
    "from sklearn.feature_extraction.text import CountVectorizer"
   ]
  },
  {
   "cell_type": "code",
   "execution_count": 5,
   "metadata": {},
   "outputs": [],
   "source": [
    "corpus = [\"I'm a ghost Living in a ghost town I'm a ghost Living in a ghost town You can look for me But I can't be found You can search for me I had to go underground Life was so beautiful Then we all got locked down Feel a like ghost Living in a ghost town Once this place was humming And the air was full of drumming The sound of cymbals crashing Glasses were all smashing Trumpets were all screaming Saxophones were blaring Nobody was caring if it's day or night I'm a ghost Living in a ghost town I'm going nowhere Shut up all alone So much time to lose Just staring at my phone Every night I am dreaming That you'll come and creep in my bed Please let this be over Not stuck in a world without end Preachers were all preaching Charities beseeching Politicians dealing Thieves were happy stealing Widows were all weeping There's no beds for us to sleep in Always had the feeling It will all come tumbling down I'm a ghost Living in a ghost town You can look for me But I can't be found We're all living in a ghost town Living in a ghost town We were so beautiful I was your man about town Living in this ghost town Ain't having any fun If I want a party It's a party of one\",\n",
    "          \"following lyrics contain explicit language: The simulation just went bad, but you're the best I ever had Like hand prints in wet cement, she touch me, it's permanent In my head, in my head, I couldn't hear anything you said, but In my head, in my head, I'm callin' you 'girlfriend,' what the fuck? I don't do fake love, but I'll take some from you tonight I know I've got to go, but I might just miss the flight I can't stay forever, let's play pretend And treat this night like it'll happen again You'll be my bloody valentine tonight I'm overstimulated and I'm sad, I don't expect you to understand There's nothing less than true romance, or am I just makin' a mess? In my head, in my head, I'm lyin' naked with you, yeah In my head, in my head, I'm ready to die holding your hand I don't do fake love, but I'll take some from you tonight (Take some from you tonight) I know I've got to go, but I might just miss the flight I can't stay forever, let's play pretend And treat this night like it'll happen again You'll be my bloody valentine tonight I can't hide how I feel about you Inside, I gave everything up Tonight, if I could just have you Be my, be my, baby I can't hide how I feel about you (I cannot hide these feelings) Inside, I gave everything up (I cannot hide these feelings) Tonight, if I could just have you (I gave up everything for you) Be my, be my (I gave up everything), ayy I don't do fake love, but I'll take some from you tonight (Take some from you tonight) I know I've got to go, but I might just miss the flight I can't stay forever, let's play pretend And treat this night like it'll happen again You'll be my bloody valentine tonight Na-na-na, na-na-na, na-na-na (Just tonight) Na-na-na, na-na-na, na-na-na (Just tonight) Na-na-na, na-na-na, na-na-na (Just tonight) Na-na-na, na-na-na, na-na-na (Just tonight) Were we on two track?\"]"
   ]
  },
  {
   "cell_type": "code",
   "execution_count": 6,
   "metadata": {},
   "outputs": [],
   "source": [
    "quotes = ['this quote marks handle normal text',\n",
    "         \"double quotes handle text that has 'quotes in it'\"]"
   ]
  },
  {
   "cell_type": "markdown",
   "metadata": {},
   "source": [
    "---"
   ]
  },
  {
   "cell_type": "markdown",
   "metadata": {},
   "source": [
    "### The Count Vectorizer:\n",
    "#### Steps to build\n",
    "* Create a corpus\n",
    "* Fit a CV on it\n",
    "* Transform the corpus into a sparse, then dense, matrix"
   ]
  },
  {
   "cell_type": "code",
   "execution_count": 7,
   "metadata": {},
   "outputs": [],
   "source": [
    "cv = CountVectorizer()"
   ]
  },
  {
   "cell_type": "code",
   "execution_count": 8,
   "metadata": {},
   "outputs": [
    {
     "data": {
      "text/plain": [
       "CountVectorizer(analyzer='word', binary=False, decode_error='strict',\n",
       "                dtype=<class 'numpy.int64'>, encoding='utf-8', input='content',\n",
       "                lowercase=True, max_df=1.0, max_features=None, min_df=1,\n",
       "                ngram_range=(1, 1), preprocessor=None, stop_words=None,\n",
       "                strip_accents=None, token_pattern='(?u)\\\\b\\\\w\\\\w+\\\\b',\n",
       "                tokenizer=None, vocabulary=None)"
      ]
     },
     "execution_count": 8,
     "metadata": {},
     "output_type": "execute_result"
    }
   ],
   "source": [
    "cv"
   ]
  },
  {
   "cell_type": "code",
   "execution_count": 9,
   "metadata": {},
   "outputs": [
    {
     "data": {
      "text/plain": [
       "CountVectorizer(analyzer='word', binary=False, decode_error='strict',\n",
       "                dtype=<class 'numpy.int64'>, encoding='utf-8', input='content',\n",
       "                lowercase=True, max_df=1.0, max_features=None, min_df=1,\n",
       "                ngram_range=(1, 1), preprocessor=None, stop_words=None,\n",
       "                strip_accents=None, token_pattern='(?u)\\\\b\\\\w\\\\w+\\\\b',\n",
       "                tokenizer=None, vocabulary=None)"
      ]
     },
     "execution_count": 9,
     "metadata": {},
     "output_type": "execute_result"
    }
   ],
   "source": [
    "cv.fit(corpus)"
   ]
  },
  {
   "cell_type": "code",
   "execution_count": 10,
   "metadata": {},
   "outputs": [],
   "source": [
    "corpus_vecs = cv.transform(corpus)"
   ]
  },
  {
   "cell_type": "markdown",
   "metadata": {},
   "source": [
    "#### Sparse Matrix\n",
    "Most of our matrix consists of zeroes. A Sparse Matrix only stores the non-zero values to save memory. We need to convert it into a **dense** matrix to view it effectively."
   ]
  },
  {
   "cell_type": "code",
   "execution_count": 13,
   "metadata": {
    "scrolled": false
   },
   "outputs": [
    {
     "data": {
      "text/plain": [
       "matrix([[ 1,  0,  1,  1,  8,  1,  1,  1,  2,  1,  0,  1,  0,  0,  0,  3,\n",
       "          2,  1,  1,  1,  0,  1,  0,  2,  0,  5,  0,  1,  0,  1,  2,  0,\n",
       "          0,  0,  1,  1,  1,  1,  1,  0,  0,  0,  2,  1,  1,  1,  0,  1,\n",
       "          0,  0,  0,  0,  1,  1,  0,  0,  0,  4,  0,  2,  0,  0,  1,  1,\n",
       "          0, 13,  0,  1,  1,  1,  1,  2,  0,  0,  1,  0,  1,  0,  0,  0,\n",
       "          0,  0,  1,  2, 11,  0,  3,  1,  0,  0,  0,  1,  1,  1,  8,  1,\n",
       "          1,  2,  1,  0,  0,  0,  0,  1,  3,  0,  0,  0,  1,  2,  0,  0,\n",
       "          2,  1,  1,  1,  0,  1,  3,  0,  1,  1,  1,  1,  0,  2,  0,  1,\n",
       "          1,  0,  1,  1,  1,  1,  0,  0,  1,  0,  0,  0,  0,  1,  1,  1,\n",
       "          0,  1,  0,  1,  1,  3,  0,  1,  1,  0,  1,  1,  0,  0,  1,  3,\n",
       "          1,  1,  0,  1,  3,  1,  3,  0,  0,  9,  0,  0,  0,  1,  1,  0,\n",
       "          1,  0,  1,  1,  0,  0,  1,  5,  3,  1,  0,  7,  0,  0,  1,  1,\n",
       "          0,  1,  1,  0,  4,  1],\n",
       "        [ 2,  3,  0,  0,  0,  0,  0,  1,  4,  0,  1,  0,  1,  1,  1,  7,\n",
       "          0,  0,  0,  0,  1,  0,  3,  8,  1,  5,  2,  0,  1,  0,  0,  1,\n",
       "          2,  1,  0,  0,  0,  0,  0,  1,  3,  4,  0,  0,  0,  0,  1,  0,\n",
       "          4,  1,  1,  3,  2,  0,  2,  3,  1,  1,  3,  0,  5,  1,  0,  0,\n",
       "          4,  0,  1,  0,  3,  0,  3,  1,  2,  3,  0,  2,  0,  8,  1,  4,\n",
       "          1,  2,  0,  2,  9,  2,  4, 11,  3,  1,  1,  3,  0,  4,  0,  9,\n",
       "          0,  0,  0,  3,  1,  1,  1,  0,  1,  1,  3,  3,  0, 15, 36,  1,\n",
       "          3,  0,  0,  0,  1,  0,  0,  1,  0,  0,  1,  0,  1,  0,  1,  0,\n",
       "          0,  3,  0,  0,  0,  0,  3,  1,  1,  1,  1,  1,  1,  0,  0,  0,\n",
       "          1,  0,  1,  0,  0,  0,  5,  0,  0,  3,  0,  0,  5,  1,  0,  6,\n",
       "          0,  1,  2,  0,  3,  0,  5, 14,  1,  0,  1,  3,  1,  0,  0,  1,\n",
       "          0,  1,  4,  0,  3,  3,  0,  0,  1,  0,  1,  1,  1,  1,  0,  0,\n",
       "          1,  0,  0,  1, 18,  1]])"
      ]
     },
     "execution_count": 13,
     "metadata": {},
     "output_type": "execute_result"
    }
   ],
   "source": [
    "corpus_vecs.todense()"
   ]
  },
  {
   "cell_type": "code",
   "execution_count": 14,
   "metadata": {},
   "outputs": [
    {
     "name": "stderr",
     "output_type": "stream",
     "text": [
      "/Users/julia/opt/anaconda3/lib/python3.7/importlib/_bootstrap.py:219: RuntimeWarning: numpy.ufunc size changed, may indicate binary incompatibility. Expected 192 from C header, got 216 from PyObject\n",
      "  return f(*args, **kwds)\n"
     ]
    }
   ],
   "source": [
    "import pandas as pd"
   ]
  },
  {
   "cell_type": "code",
   "execution_count": 18,
   "metadata": {},
   "outputs": [
    {
     "data": {
      "text/html": [
       "<div>\n",
       "<style scoped>\n",
       "    .dataframe tbody tr th:only-of-type {\n",
       "        vertical-align: middle;\n",
       "    }\n",
       "\n",
       "    .dataframe tbody tr th {\n",
       "        vertical-align: top;\n",
       "    }\n",
       "\n",
       "    .dataframe thead th {\n",
       "        text-align: right;\n",
       "    }\n",
       "</style>\n",
       "<table border=\"1\" class=\"dataframe\">\n",
       "  <thead>\n",
       "    <tr style=\"text-align: right;\">\n",
       "      <th></th>\n",
       "      <th>about</th>\n",
       "      <th>again</th>\n",
       "      <th>ain</th>\n",
       "      <th>air</th>\n",
       "      <th>all</th>\n",
       "      <th>alone</th>\n",
       "      <th>always</th>\n",
       "      <th>am</th>\n",
       "      <th>and</th>\n",
       "      <th>any</th>\n",
       "      <th>...</th>\n",
       "      <th>wet</th>\n",
       "      <th>what</th>\n",
       "      <th>widows</th>\n",
       "      <th>will</th>\n",
       "      <th>with</th>\n",
       "      <th>without</th>\n",
       "      <th>world</th>\n",
       "      <th>yeah</th>\n",
       "      <th>you</th>\n",
       "      <th>your</th>\n",
       "    </tr>\n",
       "  </thead>\n",
       "  <tbody>\n",
       "    <tr>\n",
       "      <th>eminem</th>\n",
       "      <td>1</td>\n",
       "      <td>0</td>\n",
       "      <td>1</td>\n",
       "      <td>1</td>\n",
       "      <td>8</td>\n",
       "      <td>1</td>\n",
       "      <td>1</td>\n",
       "      <td>1</td>\n",
       "      <td>2</td>\n",
       "      <td>1</td>\n",
       "      <td>...</td>\n",
       "      <td>0</td>\n",
       "      <td>0</td>\n",
       "      <td>1</td>\n",
       "      <td>1</td>\n",
       "      <td>0</td>\n",
       "      <td>1</td>\n",
       "      <td>1</td>\n",
       "      <td>0</td>\n",
       "      <td>4</td>\n",
       "      <td>1</td>\n",
       "    </tr>\n",
       "    <tr>\n",
       "      <th>aretha franklin</th>\n",
       "      <td>2</td>\n",
       "      <td>3</td>\n",
       "      <td>0</td>\n",
       "      <td>0</td>\n",
       "      <td>0</td>\n",
       "      <td>0</td>\n",
       "      <td>0</td>\n",
       "      <td>1</td>\n",
       "      <td>4</td>\n",
       "      <td>0</td>\n",
       "      <td>...</td>\n",
       "      <td>1</td>\n",
       "      <td>1</td>\n",
       "      <td>0</td>\n",
       "      <td>0</td>\n",
       "      <td>1</td>\n",
       "      <td>0</td>\n",
       "      <td>0</td>\n",
       "      <td>1</td>\n",
       "      <td>18</td>\n",
       "      <td>1</td>\n",
       "    </tr>\n",
       "  </tbody>\n",
       "</table>\n",
       "<p>2 rows × 198 columns</p>\n",
       "</div>"
      ],
      "text/plain": [
       "                 about  again  ain  air  all  alone  always  am  and  any  \\\n",
       "eminem               1      0    1    1    8      1       1   1    2    1   \n",
       "aretha franklin      2      3    0    0    0      0       0   1    4    0   \n",
       "\n",
       "                 ...  wet  what  widows  will  with  without  world  yeah  \\\n",
       "eminem           ...    0     0       1     1     0        1      1     0   \n",
       "aretha franklin  ...    1     1       0     0     1        0      0     1   \n",
       "\n",
       "                 you  your  \n",
       "eminem             4     1  \n",
       "aretha franklin   18     1  \n",
       "\n",
       "[2 rows x 198 columns]"
      ]
     },
     "execution_count": 18,
     "metadata": {},
     "output_type": "execute_result"
    }
   ],
   "source": [
    "df = pd.DataFrame(corpus_vecs.todense(), columns=cv.get_feature_names(), index=['eminem', 'aretha franklin'])\n",
    "df"
   ]
  },
  {
   "cell_type": "code",
   "execution_count": 16,
   "metadata": {},
   "outputs": [],
   "source": [
    "#document vectors"
   ]
  },
  {
   "cell_type": "markdown",
   "metadata": {},
   "source": [
    "### Downsides:\n",
    "* order isn't important\n",
    "* each is equally important - 'the' is as important as 'death'\n",
    "* it's inefficient! - many many many columns, mostly the vectors are sparse - \"curse of dimensionality\"\n",
    "* vectors are orthogonal - cat is as similar to dog, as cat is to widow"
   ]
  },
  {
   "cell_type": "markdown",
   "metadata": {},
   "source": [
    "**A downside of the Count Vectorizer is that the uniqueness of words is not taken into consideration. This is where TF-IDF comes in.**"
   ]
  },
  {
   "cell_type": "markdown",
   "metadata": {},
   "source": [
    "---"
   ]
  },
  {
   "cell_type": "markdown",
   "metadata": {},
   "source": [
    "### The Tf-Idf Transformer:\n",
    "\n",
    "* TF - Term Frequency (count of a word w in doc d)\n",
    "* IDF - Inverse Document Frequency\n",
    "\n",
    "$TFIDF = TF(w,d) * IDF(w)$\n",
    "\n",
    "$IDF(w) = log(\\frac{1+ no.documents}{1 + no.documents containing word w})+1$\n",
    "\n",
    "##### The steps for calculating TFIDF are:\n",
    "* For each vector:\n",
    "    * Calculate the term frequency for each term in the vector\n",
    "    * Calculate the inverse doc frequency for each term in the vector\n",
    "    * Multiply the two for each term in the vector\n",
    "* Then normalise each vector by the Euclidean norm (numpy.linalg.norm)\n",
    "    * $norm = \\frac{v}{||v||^2}$"
   ]
  },
  {
   "cell_type": "markdown",
   "metadata": {},
   "source": [
    "Check out the math behind TFIDF:\n",
    "* https://scikit-learn.org/stable/modules/generated/sklearn.feature_extraction.text.TfidfTransformer.html#sklearn.feature_extraction.text.TfidfTransformer"
   ]
  },
  {
   "cell_type": "code",
   "execution_count": 19,
   "metadata": {},
   "outputs": [],
   "source": [
    "from sklearn.feature_extraction.text import TfidfTransformer"
   ]
  },
  {
   "cell_type": "code",
   "execution_count": 20,
   "metadata": {},
   "outputs": [],
   "source": [
    "tf = TfidfTransformer()"
   ]
  },
  {
   "cell_type": "code",
   "execution_count": 21,
   "metadata": {},
   "outputs": [],
   "source": [
    "tf_vec = tf.fit_transform(corpus_vecs)"
   ]
  },
  {
   "cell_type": "code",
   "execution_count": 30,
   "metadata": {},
   "outputs": [],
   "source": [
    "df2 = pd.DataFrame(tf_vec.todense().round(2), columns=cv.get_feature_names(), index=['eminem', 'aretha franklin'])"
   ]
  },
  {
   "cell_type": "code",
   "execution_count": 31,
   "metadata": {},
   "outputs": [
    {
     "data": {
      "text/html": [
       "<div>\n",
       "<style scoped>\n",
       "    .dataframe tbody tr th:only-of-type {\n",
       "        vertical-align: middle;\n",
       "    }\n",
       "\n",
       "    .dataframe tbody tr th {\n",
       "        vertical-align: top;\n",
       "    }\n",
       "\n",
       "    .dataframe thead th {\n",
       "        text-align: right;\n",
       "    }\n",
       "</style>\n",
       "<table border=\"1\" class=\"dataframe\">\n",
       "  <thead>\n",
       "    <tr style=\"text-align: right;\">\n",
       "      <th></th>\n",
       "      <th>about</th>\n",
       "      <th>again</th>\n",
       "      <th>ain</th>\n",
       "      <th>air</th>\n",
       "      <th>all</th>\n",
       "      <th>alone</th>\n",
       "      <th>always</th>\n",
       "      <th>am</th>\n",
       "      <th>and</th>\n",
       "      <th>any</th>\n",
       "      <th>...</th>\n",
       "      <th>wet</th>\n",
       "      <th>what</th>\n",
       "      <th>widows</th>\n",
       "      <th>will</th>\n",
       "      <th>with</th>\n",
       "      <th>without</th>\n",
       "      <th>world</th>\n",
       "      <th>yeah</th>\n",
       "      <th>you</th>\n",
       "      <th>your</th>\n",
       "    </tr>\n",
       "  </thead>\n",
       "  <tbody>\n",
       "    <tr>\n",
       "      <th>eminem</th>\n",
       "      <td>0.03</td>\n",
       "      <td>0.00</td>\n",
       "      <td>0.04</td>\n",
       "      <td>0.04</td>\n",
       "      <td>0.31</td>\n",
       "      <td>0.04</td>\n",
       "      <td>0.04</td>\n",
       "      <td>0.03</td>\n",
       "      <td>0.05</td>\n",
       "      <td>0.04</td>\n",
       "      <td>...</td>\n",
       "      <td>0.00</td>\n",
       "      <td>0.00</td>\n",
       "      <td>0.04</td>\n",
       "      <td>0.04</td>\n",
       "      <td>0.00</td>\n",
       "      <td>0.04</td>\n",
       "      <td>0.04</td>\n",
       "      <td>0.00</td>\n",
       "      <td>0.11</td>\n",
       "      <td>0.03</td>\n",
       "    </tr>\n",
       "    <tr>\n",
       "      <th>aretha franklin</th>\n",
       "      <td>0.03</td>\n",
       "      <td>0.06</td>\n",
       "      <td>0.00</td>\n",
       "      <td>0.00</td>\n",
       "      <td>0.00</td>\n",
       "      <td>0.00</td>\n",
       "      <td>0.00</td>\n",
       "      <td>0.01</td>\n",
       "      <td>0.06</td>\n",
       "      <td>0.00</td>\n",
       "      <td>...</td>\n",
       "      <td>0.02</td>\n",
       "      <td>0.02</td>\n",
       "      <td>0.00</td>\n",
       "      <td>0.00</td>\n",
       "      <td>0.02</td>\n",
       "      <td>0.00</td>\n",
       "      <td>0.00</td>\n",
       "      <td>0.02</td>\n",
       "      <td>0.26</td>\n",
       "      <td>0.01</td>\n",
       "    </tr>\n",
       "  </tbody>\n",
       "</table>\n",
       "<p>2 rows × 198 columns</p>\n",
       "</div>"
      ],
      "text/plain": [
       "                 about  again   ain   air   all  alone  always    am   and  \\\n",
       "eminem            0.03   0.00  0.04  0.04  0.31   0.04    0.04  0.03  0.05   \n",
       "aretha franklin   0.03   0.06  0.00  0.00  0.00   0.00    0.00  0.01  0.06   \n",
       "\n",
       "                  any  ...   wet  what  widows  will  with  without  world  \\\n",
       "eminem           0.04  ...  0.00  0.00    0.04  0.04  0.00     0.04   0.04   \n",
       "aretha franklin  0.00  ...  0.02  0.02    0.00  0.00  0.02     0.00   0.00   \n",
       "\n",
       "                 yeah   you  your  \n",
       "eminem           0.00  0.11  0.03  \n",
       "aretha franklin  0.02  0.26  0.01  \n",
       "\n",
       "[2 rows x 198 columns]"
      ]
     },
     "execution_count": 31,
     "metadata": {},
     "output_type": "execute_result"
    }
   ],
   "source": [
    "df2"
   ]
  },
  {
   "cell_type": "code",
   "execution_count": 29,
   "metadata": {
    "scrolled": true
   },
   "outputs": [
    {
     "data": {
      "text/html": [
       "<div>\n",
       "<style scoped>\n",
       "    .dataframe tbody tr th:only-of-type {\n",
       "        vertical-align: middle;\n",
       "    }\n",
       "\n",
       "    .dataframe tbody tr th {\n",
       "        vertical-align: top;\n",
       "    }\n",
       "\n",
       "    .dataframe thead th {\n",
       "        text-align: right;\n",
       "    }\n",
       "</style>\n",
       "<table border=\"1\" class=\"dataframe\">\n",
       "  <thead>\n",
       "    <tr style=\"text-align: right;\">\n",
       "      <th></th>\n",
       "      <th>about</th>\n",
       "      <th>again</th>\n",
       "      <th>ain</th>\n",
       "      <th>air</th>\n",
       "      <th>all</th>\n",
       "      <th>alone</th>\n",
       "      <th>always</th>\n",
       "      <th>am</th>\n",
       "      <th>and</th>\n",
       "      <th>any</th>\n",
       "      <th>...</th>\n",
       "      <th>wet</th>\n",
       "      <th>what</th>\n",
       "      <th>widows</th>\n",
       "      <th>will</th>\n",
       "      <th>with</th>\n",
       "      <th>without</th>\n",
       "      <th>world</th>\n",
       "      <th>yeah</th>\n",
       "      <th>you</th>\n",
       "      <th>your</th>\n",
       "    </tr>\n",
       "  </thead>\n",
       "  <tbody>\n",
       "    <tr>\n",
       "      <th>eminem</th>\n",
       "      <td>1</td>\n",
       "      <td>0</td>\n",
       "      <td>1</td>\n",
       "      <td>1</td>\n",
       "      <td>8</td>\n",
       "      <td>1</td>\n",
       "      <td>1</td>\n",
       "      <td>1</td>\n",
       "      <td>2</td>\n",
       "      <td>1</td>\n",
       "      <td>...</td>\n",
       "      <td>0</td>\n",
       "      <td>0</td>\n",
       "      <td>1</td>\n",
       "      <td>1</td>\n",
       "      <td>0</td>\n",
       "      <td>1</td>\n",
       "      <td>1</td>\n",
       "      <td>0</td>\n",
       "      <td>4</td>\n",
       "      <td>1</td>\n",
       "    </tr>\n",
       "    <tr>\n",
       "      <th>aretha franklin</th>\n",
       "      <td>2</td>\n",
       "      <td>3</td>\n",
       "      <td>0</td>\n",
       "      <td>0</td>\n",
       "      <td>0</td>\n",
       "      <td>0</td>\n",
       "      <td>0</td>\n",
       "      <td>1</td>\n",
       "      <td>4</td>\n",
       "      <td>0</td>\n",
       "      <td>...</td>\n",
       "      <td>1</td>\n",
       "      <td>1</td>\n",
       "      <td>0</td>\n",
       "      <td>0</td>\n",
       "      <td>1</td>\n",
       "      <td>0</td>\n",
       "      <td>0</td>\n",
       "      <td>1</td>\n",
       "      <td>18</td>\n",
       "      <td>1</td>\n",
       "    </tr>\n",
       "  </tbody>\n",
       "</table>\n",
       "<p>2 rows × 198 columns</p>\n",
       "</div>"
      ],
      "text/plain": [
       "                 about  again  ain  air  all  alone  always  am  and  any  \\\n",
       "eminem               1      0    1    1    8      1       1   1    2    1   \n",
       "aretha franklin      2      3    0    0    0      0       0   1    4    0   \n",
       "\n",
       "                 ...  wet  what  widows  will  with  without  world  yeah  \\\n",
       "eminem           ...    0     0       1     1     0        1      1     0   \n",
       "aretha franklin  ...    1     1       0     0     1        0      0     1   \n",
       "\n",
       "                 you  your  \n",
       "eminem             4     1  \n",
       "aretha franklin   18     1  \n",
       "\n",
       "[2 rows x 198 columns]"
      ]
     },
     "execution_count": 29,
     "metadata": {},
     "output_type": "execute_result"
    }
   ],
   "source": [
    "df"
   ]
  },
  {
   "cell_type": "code",
   "execution_count": 32,
   "metadata": {},
   "outputs": [],
   "source": [
    "new_corpus = ['work to live', 'live to work']"
   ]
  },
  {
   "cell_type": "code",
   "execution_count": 39,
   "metadata": {},
   "outputs": [],
   "source": [
    "cv2 = CountVectorizer(ngram_range=(1,3)) # also takes into account doublet and triplets\n",
    "vec_work = cv2.fit_transform(new_corpus)"
   ]
  },
  {
   "cell_type": "code",
   "execution_count": 37,
   "metadata": {},
   "outputs": [],
   "source": [
    "df3 = pd.DataFrame(vec_work.todense(), columns=cv2.get_feature_names())"
   ]
  },
  {
   "cell_type": "code",
   "execution_count": 38,
   "metadata": {},
   "outputs": [
    {
     "data": {
      "text/html": [
       "<div>\n",
       "<style scoped>\n",
       "    .dataframe tbody tr th:only-of-type {\n",
       "        vertical-align: middle;\n",
       "    }\n",
       "\n",
       "    .dataframe tbody tr th {\n",
       "        vertical-align: top;\n",
       "    }\n",
       "\n",
       "    .dataframe thead th {\n",
       "        text-align: right;\n",
       "    }\n",
       "</style>\n",
       "<table border=\"1\" class=\"dataframe\">\n",
       "  <thead>\n",
       "    <tr style=\"text-align: right;\">\n",
       "      <th></th>\n",
       "      <th>live</th>\n",
       "      <th>live to</th>\n",
       "      <th>live to work</th>\n",
       "      <th>to</th>\n",
       "      <th>to live</th>\n",
       "      <th>to work</th>\n",
       "      <th>work</th>\n",
       "      <th>work to</th>\n",
       "      <th>work to live</th>\n",
       "    </tr>\n",
       "  </thead>\n",
       "  <tbody>\n",
       "    <tr>\n",
       "      <th>0</th>\n",
       "      <td>1</td>\n",
       "      <td>0</td>\n",
       "      <td>0</td>\n",
       "      <td>1</td>\n",
       "      <td>1</td>\n",
       "      <td>0</td>\n",
       "      <td>1</td>\n",
       "      <td>1</td>\n",
       "      <td>1</td>\n",
       "    </tr>\n",
       "    <tr>\n",
       "      <th>1</th>\n",
       "      <td>1</td>\n",
       "      <td>1</td>\n",
       "      <td>1</td>\n",
       "      <td>1</td>\n",
       "      <td>0</td>\n",
       "      <td>1</td>\n",
       "      <td>1</td>\n",
       "      <td>0</td>\n",
       "      <td>0</td>\n",
       "    </tr>\n",
       "  </tbody>\n",
       "</table>\n",
       "</div>"
      ],
      "text/plain": [
       "   live  live to  live to work  to  to live  to work  work  work to  \\\n",
       "0     1        0             0   1        1        0     1        1   \n",
       "1     1        1             1   1        0        1     1        0   \n",
       "\n",
       "   work to live  \n",
       "0             1  \n",
       "1             0  "
      ]
     },
     "execution_count": 38,
     "metadata": {},
     "output_type": "execute_result"
    }
   ],
   "source": [
    "df3"
   ]
  },
  {
   "cell_type": "markdown",
   "metadata": {},
   "source": [
    "### OK, so how could we use this to predict an artist with a classification model we have already seen?"
   ]
  },
  {
   "cell_type": "markdown",
   "metadata": {},
   "source": [
    "**First, add a labels column to your dataframe by factorizing the artist name**"
   ]
  },
  {
   "cell_type": "code",
   "execution_count": null,
   "metadata": {},
   "outputs": [],
   "source": [
    "# string labels fail for LogReg, but pass for Naive Bayes\n",
    "# per default, transform string into numbers if in doubt\n",
    "# pd.factorize(label_column)\n",
    "\n",
    "\n",
    "# remove filler words: cv = CountVectorizer(stop_words='english')"
   ]
  },
  {
   "cell_type": "markdown",
   "metadata": {},
   "source": [
    "**Now follow the normal workflow for training and predicting a model**\n",
    "\n",
    "*In this case, the only difference is that we will need to pass our new data (a song lyric) through the word vectors first*\n",
    "\n",
    "*Remember to not refit the model, just use it to transform the data*"
   ]
  },
  {
   "cell_type": "code",
   "execution_count": null,
   "metadata": {},
   "outputs": [],
   "source": []
  },
  {
   "cell_type": "markdown",
   "metadata": {},
   "source": [
    "---"
   ]
  },
  {
   "cell_type": "markdown",
   "metadata": {},
   "source": [
    "## To make your code shorter, you could use the TfidfVectorizer\n",
    "* This does both steps (count vectorizer and tfidfTransfomer) in one. The reason I show both in the tutorial is because its easier to understand word vectors this way\n",
    "\n",
    "`from sklearn.feature_extraction.text import TfidfVectorizer`"
   ]
  },
  {
   "cell_type": "code",
   "execution_count": null,
   "metadata": {},
   "outputs": [],
   "source": []
  }
 ],
 "metadata": {
  "kernelspec": {
   "display_name": "Python 3",
   "language": "python",
   "name": "python3"
  },
  "language_info": {
   "codemirror_mode": {
    "name": "ipython",
    "version": 3
   },
   "file_extension": ".py",
   "mimetype": "text/x-python",
   "name": "python",
   "nbconvert_exporter": "python",
   "pygments_lexer": "ipython3",
   "version": "3.7.6"
  },
  "varInspector": {
   "cols": {
    "lenName": 16,
    "lenType": 16,
    "lenVar": 40
   },
   "kernels_config": {
    "python": {
     "delete_cmd_postfix": "",
     "delete_cmd_prefix": "del ",
     "library": "var_list.py",
     "varRefreshCmd": "print(var_dic_list())"
    },
    "r": {
     "delete_cmd_postfix": ") ",
     "delete_cmd_prefix": "rm(",
     "library": "var_list.r",
     "varRefreshCmd": "cat(var_dic_list()) "
    }
   },
   "types_to_exclude": [
    "module",
    "function",
    "builtin_function_or_method",
    "instance",
    "_Feature"
   ],
   "window_display": false
  }
 },
 "nbformat": 4,
 "nbformat_minor": 4
}
