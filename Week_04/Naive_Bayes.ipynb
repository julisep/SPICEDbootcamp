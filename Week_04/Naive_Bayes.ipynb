{
 "cells": [
  {
   "cell_type": "markdown",
   "metadata": {},
   "source": [
    "# Naive Bayes"
   ]
  },
  {
   "cell_type": "markdown",
   "metadata": {},
   "source": [
    "### Basic Assumptions"
   ]
  },
  {
   "cell_type": "code",
   "execution_count": 16,
   "metadata": {},
   "outputs": [
    {
     "data": {
      "text/plain": [
       "'yeah yellow love she you you oh you yeah love you loves she yeah love she you loves yeah love'"
      ]
     },
     "execution_count": 16,
     "metadata": {},
     "output_type": "execute_result"
    }
   ],
   "source": [
    "# create a random beatles song\n",
    "import random\n",
    "\n",
    "words = 'me you she love loves yeah oh yellow submarine'.split()\n",
    "\n",
    "song = []\n",
    "for i in range(20):\n",
    "    #number = random.randint(0,8) # uniform distribution\n",
    "    word= random.choices(words, weights=[1,1,1,1,1,5,1,1,1]) #weighted probabilities\n",
    "    song += word\n",
    "    \n",
    "' '.join(song)\n",
    "\n",
    "# big brother: Talktotransformer"
   ]
  },
  {
   "cell_type": "markdown",
   "metadata": {},
   "source": [
    "## 1. Prior\n",
    "\n",
    "**Prior: we know nothing about the song yet**\n",
    "\n",
    "$p(A)$ and $P(B)$ based on class frequency from the training data"
   ]
  },
  {
   "cell_type": "markdown",
   "metadata": {},
   "source": [
    "We are looking for $p(A)$, the probability that a song is by Abba."
   ]
  },
  {
   "cell_type": "markdown",
   "metadata": {},
   "source": [
    "We consider two artists: **A** - Abba and **B** - Beatles"
   ]
  },
  {
   "cell_type": "code",
   "execution_count": 24,
   "metadata": {},
   "outputs": [
    {
     "data": {
      "text/plain": [
       "0.5"
      ]
     },
     "execution_count": 24,
     "metadata": {},
     "output_type": "execute_result"
    }
   ],
   "source": [
    "abba_songs = 100\n",
    "beatles_songs = 100\n",
    "\n",
    "pA = abba_songs / (abba_songs + beatles_songs)\n",
    "pA"
   ]
  },
  {
   "cell_type": "markdown",
   "metadata": {},
   "source": [
    "## 2. With information we get a conditional probability\n",
    "\n",
    "we want to know the **probability that a song with the word love is from Abba**\n",
    "\n",
    "$p(A|w)$"
   ]
  },
  {
   "cell_type": "markdown",
   "metadata": {},
   "source": [
    "this is different from **the probability that an Abba song contains the word love**:\n",
    "\n",
    "$p(w|A)$"
   ]
  },
  {
   "cell_type": "code",
   "execution_count": 25,
   "metadata": {},
   "outputs": [],
   "source": [
    "import pandas as pd"
   ]
  },
  {
   "cell_type": "code",
   "execution_count": 26,
   "metadata": {},
   "outputs": [
    {
     "data": {
      "text/plain": [
       "(0.5, 0.3333333333333333)"
      ]
     },
     "execution_count": 26,
     "metadata": {},
     "output_type": "execute_result"
    }
   ],
   "source": [
    "abba_songs_with_love = 50\n",
    "beatles_songs_with_love = 100\n",
    "\n",
    "# p(love|Abba) the probability of love under condition that it is an Abba song\n",
    "p_love_A = abba_songs_with_love / abba_songs\n",
    "\n",
    "# p(Abba|love)\n",
    "p_A_love = abba_songs_with_love / (abba_songs_with_love + beatles_songs_with_love)\n",
    "\n",
    "p_love_A, p_A_love"
   ]
  },
  {
   "cell_type": "markdown",
   "metadata": {},
   "source": [
    "## 3. Bayes Theorem"
   ]
  },
  {
   "cell_type": "markdown",
   "metadata": {},
   "source": [
    "a statistical tool for converting conditional probabilities\n",
    "\n",
    "$p(A|w) = \\frac{p(w|A) \\cdot p(A)}{p(w)}$\n",
    "\n",
    "$p(B|w) = \\frac{p(w|B) \\cdot p(B)}{p(w)}$\n",
    "\n",
    "we assume that $p(w|A)$ and $p(A)$ is known."
   ]
  },
  {
   "cell_type": "markdown",
   "metadata": {},
   "source": [
    "the *marginal probability* $p(w)$ is usually ignored.\n",
    "\n",
    "For $p(w|A)$ we can use the TF-IDF instead of the count."
   ]
  },
  {
   "cell_type": "markdown",
   "metadata": {},
   "source": [
    "## 4. What if we have multiple words?\n",
    "\n",
    "$p(A|song) = \\frac{p(song|A) \\cdot p(A)}{p(song)}$"
   ]
  },
  {
   "cell_type": "markdown",
   "metadata": {},
   "source": [
    "What is $p(song|A)$ ?"
   ]
  },
  {
   "cell_type": "code",
   "execution_count": 30,
   "metadata": {},
   "outputs": [
    {
     "data": {
      "text/html": [
       "<div>\n",
       "<style scoped>\n",
       "    .dataframe tbody tr th:only-of-type {\n",
       "        vertical-align: middle;\n",
       "    }\n",
       "\n",
       "    .dataframe tbody tr th {\n",
       "        vertical-align: top;\n",
       "    }\n",
       "\n",
       "    .dataframe thead th {\n",
       "        text-align: right;\n",
       "    }\n",
       "</style>\n",
       "<table border=\"1\" class=\"dataframe\">\n",
       "  <thead>\n",
       "    <tr style=\"text-align: right;\">\n",
       "      <th></th>\n",
       "      <th>love</th>\n",
       "      <th>you</th>\n",
       "      <th>yeah</th>\n",
       "    </tr>\n",
       "  </thead>\n",
       "  <tbody>\n",
       "    <tr>\n",
       "      <th>A</th>\n",
       "      <td>0.5</td>\n",
       "      <td>0.25</td>\n",
       "      <td>0.0</td>\n",
       "    </tr>\n",
       "    <tr>\n",
       "      <th>B</th>\n",
       "      <td>1.0</td>\n",
       "      <td>0.33</td>\n",
       "      <td>0.5</td>\n",
       "    </tr>\n",
       "  </tbody>\n",
       "</table>\n",
       "</div>"
      ],
      "text/plain": [
       "   love   you  yeah\n",
       "A   0.5  0.25   0.0\n",
       "B   1.0  0.33   0.5"
      ]
     },
     "execution_count": 30,
     "metadata": {},
     "output_type": "execute_result"
    }
   ],
   "source": [
    "words = ['love', 'you', 'yeah']\n",
    "data = [[0.5, 0.25, 0],\n",
    "        [1.0, 0.33, 0.5]]\n",
    "\n",
    "df = pd.DataFrame(data, columns = words, index = ['A', 'B'])\n",
    "df"
   ]
  },
  {
   "cell_type": "markdown",
   "metadata": {},
   "source": [
    "Naive Bayes assumption:\n",
    "\n",
    "$p(song|A) = p(w1|A) \\cdot p(w2|A) \\cdot p(w3|A)$"
   ]
  },
  {
   "cell_type": "markdown",
   "metadata": {},
   "source": [
    "we assume that songs are written by putting individual words randomly.\n",
    "\n",
    "-> we assume that all words are independent events."
   ]
  },
  {
   "cell_type": "code",
   "execution_count": 31,
   "metadata": {},
   "outputs": [
    {
     "data": {
      "text/plain": [
       "0.125"
      ]
     },
     "execution_count": 31,
     "metadata": {},
     "output_type": "execute_result"
    }
   ],
   "source": [
    "song = \"love you\"\n",
    "\n",
    "# go through all words in the vocabulary\n",
    "# if the word occurs: p(w)\n",
    "# if the word does not occur: 1-p(w)\n",
    "p_abba = 0.5 * 0.25 * (1 - 0.0)\n",
    "p_abba"
   ]
  },
  {
   "cell_type": "code",
   "execution_count": 34,
   "metadata": {},
   "outputs": [
    {
     "data": {
      "text/plain": [
       "0.165"
      ]
     },
     "execution_count": 34,
     "metadata": {},
     "output_type": "execute_result"
    }
   ],
   "source": [
    "p_beatles = 1 * 0.33 * (1 - 0.5)\n",
    "p_beatles"
   ]
  },
  {
   "cell_type": "markdown",
   "metadata": {},
   "source": [
    "## Problem: zero probs?"
   ]
  },
  {
   "cell_type": "markdown",
   "metadata": {},
   "source": [
    "We use a **smoothing term**: \n",
    "\n",
    "* we assume that every word occurs k times at least\n",
    "* so that probability is always > 0\n",
    "* we assume that the artist attached a copy of each word in the dictionary to the song"
   ]
  },
  {
   "cell_type": "code",
   "execution_count": 35,
   "metadata": {},
   "outputs": [],
   "source": [
    "# training data + copy of the vocabulary\n",
    "song = 'love yeah' + 'love you yeah' * k"
   ]
  },
  {
   "cell_type": "markdown",
   "metadata": {},
   "source": [
    "If we increase the smoothing term, differences between props decrease."
   ]
  },
  {
   "cell_type": "markdown",
   "metadata": {},
   "source": [
    "If we decrease the smoothing term, the differences between props increase."
   ]
  },
  {
   "cell_type": "markdown",
   "metadata": {},
   "source": [
    "For a very high smoothing term, the propability p(A|song) for a song converges to the prior p(A)."
   ]
  },
  {
   "cell_type": "markdown",
   "metadata": {},
   "source": [
    "**the smoothing term is a regularization hyperparameter!**"
   ]
  },
  {
   "cell_type": "markdown",
   "metadata": {},
   "source": [
    "## Problem: floating-point precision"
   ]
  },
  {
   "cell_type": "code",
   "execution_count": 38,
   "metadata": {},
   "outputs": [
    {
     "data": {
      "text/plain": [
       "1.2379400392853934e-163"
      ]
     },
     "execution_count": 38,
     "metadata": {},
     "output_type": "execute_result"
    }
   ],
   "source": [
    "# create a very low float number\n",
    "(0.1 ** 100) * (0.2 ** 90)\n",
    "# python can run into precission limitations"
   ]
  },
  {
   "cell_type": "code",
   "execution_count": 47,
   "metadata": {},
   "outputs": [
    {
     "data": {
      "text/plain": [
       "0.30000000000000004"
      ]
     },
     "execution_count": 47,
     "metadata": {},
     "output_type": "execute_result"
    }
   ],
   "source": [
    "0.2 + 0.1 # these are periodic binary numbers\n",
    "# be careful with floating point precision..."
   ]
  },
  {
   "cell_type": "markdown",
   "metadata": {},
   "source": [
    "problematic:\n",
    "\n",
    "$p(w1) \\cdot p(w2) ... \\cdot p(wn)$"
   ]
  },
  {
   "cell_type": "markdown",
   "metadata": {},
   "source": [
    "**Calculate log-probabilites instead:**"
   ]
  },
  {
   "cell_type": "markdown",
   "metadata": {},
   "source": [
    "$e ^ {log(p(w1)) + log(p(w2)) + log(p(wn))}$"
   ]
  },
  {
   "cell_type": "code",
   "execution_count": 48,
   "metadata": {},
   "outputs": [
    {
     "data": {
      "text/plain": [
       "0.006000000000000001"
      ]
     },
     "execution_count": 48,
     "metadata": {},
     "output_type": "execute_result"
    }
   ],
   "source": [
    "import math\n",
    "\n",
    "0.1 * 0.2 * 0.3"
   ]
  },
  {
   "cell_type": "code",
   "execution_count": 52,
   "metadata": {},
   "outputs": [
    {
     "data": {
      "text/plain": [
       "0.006000000000000004"
      ]
     },
     "execution_count": 52,
     "metadata": {},
     "output_type": "execute_result"
    }
   ],
   "source": [
    "math.exp(math.log(0.1) + math.log(0.2) + math.log(0.3))"
   ]
  },
  {
   "cell_type": "markdown",
   "metadata": {},
   "source": [
    "## import from sklearn"
   ]
  },
  {
   "cell_type": "code",
   "execution_count": null,
   "metadata": {},
   "outputs": [],
   "source": [
    "from sklearn.naive_bayes import MultinomialNB"
   ]
  },
  {
   "cell_type": "code",
   "execution_count": null,
   "metadata": {},
   "outputs": [],
   "source": []
  }
 ],
 "metadata": {
  "kernelspec": {
   "display_name": "Python 3",
   "language": "python",
   "name": "python3"
  },
  "language_info": {
   "codemirror_mode": {
    "name": "ipython",
    "version": 3
   },
   "file_extension": ".py",
   "mimetype": "text/x-python",
   "name": "python",
   "nbconvert_exporter": "python",
   "pygments_lexer": "ipython3",
   "version": "3.7.6"
  },
  "varInspector": {
   "cols": {
    "lenName": 16,
    "lenType": 16,
    "lenVar": 40
   },
   "kernels_config": {
    "python": {
     "delete_cmd_postfix": "",
     "delete_cmd_prefix": "del ",
     "library": "var_list.py",
     "varRefreshCmd": "print(var_dic_list())"
    },
    "r": {
     "delete_cmd_postfix": ") ",
     "delete_cmd_prefix": "rm(",
     "library": "var_list.r",
     "varRefreshCmd": "cat(var_dic_list()) "
    }
   },
   "types_to_exclude": [
    "module",
    "function",
    "builtin_function_or_method",
    "instance",
    "_Feature"
   ],
   "window_display": false
  }
 },
 "nbformat": 4,
 "nbformat_minor": 2
}
