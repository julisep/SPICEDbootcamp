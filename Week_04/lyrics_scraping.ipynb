{
 "cells": [
  {
   "cell_type": "markdown",
   "metadata": {},
   "source": [
    "# Scraping lyrics.com"
   ]
  },
  {
   "cell_type": "code",
   "execution_count": 179,
   "metadata": {},
   "outputs": [],
   "source": [
    "import requests\n",
    "from bs4 import BeautifulSoup as soup\n",
    "import os\n",
    "import re"
   ]
  },
  {
   "cell_type": "markdown",
   "metadata": {},
   "source": [
    "### Prepare functions for scraping lyrics of artists"
   ]
  },
  {
   "cell_type": "markdown",
   "metadata": {},
   "source": [
    "Functions to extract all titles and suffixes on the artist page that lead to lyrics of different songs."
   ]
  },
  {
   "cell_type": "code",
   "execution_count": 208,
   "metadata": {},
   "outputs": [],
   "source": [
    "def get_titles(artist):\n",
    "    titles = []\n",
    "    artist_site = requests.get('https://www.lyrics.com' + artist)\n",
    "    artist_html = soup(artist_site.text, 'html.parser')\n",
    "    all_entries = artist_html.body.find_all('a', attrs={\"href\":re.compile(\"^/lyric\")})\n",
    "    for entry in all_entries:\n",
    "        title = entry.text.lower().replace('(', '[').split(' [', 1)[0].replace(' ', '_')\n",
    "        if title not in titles:\n",
    "            titles.append(title)\n",
    "    return titles\n",
    "\n",
    "def get_suffixes(artist):\n",
    "    suffixes = []\n",
    "    ttitles = []\n",
    "    artist_site = requests.get('https://www.lyrics.com' + artist)\n",
    "    artist_html = soup(artist_site.text, 'html.parser')\n",
    "    all_entries = artist_html.body.find_all('a', attrs={\"href\":re.compile(\"^/lyric\")})\n",
    "    for entry in all_entries:\n",
    "        ttitle = entry.text.lower().replace('(', '[').split(' [', 1)[0]\n",
    "        if ttitle not in ttitles:\n",
    "            suffixes.append(entry.get('href'))\n",
    "    return suffixes"
   ]
  },
  {
   "cell_type": "markdown",
   "metadata": {},
   "source": [
    "Function to extract the lyrics of each song in the suffixes list and store it in one list"
   ]
  },
  {
   "cell_type": "code",
   "execution_count": 209,
   "metadata": {},
   "outputs": [],
   "source": [
    "def get_lyrics(artist):\n",
    "    lyrics = []\n",
    "    for i in range(len(suffixes)):\n",
    "        lyrics_site = requests.get('https://www.lyrics.com' + suffixes[i])\n",
    "        lyrics_html = soup(lyrics_site.text, 'html.parser')\n",
    "        text = lyrics_html.body.find(id ='lyric-body-text').text.replace('\\n', ' ') \n",
    "        lyrics.append(text) \n",
    "    return lyrics"
   ]
  },
  {
   "cell_type": "markdown",
   "metadata": {},
   "source": [
    "### Florence and the machine lyrics"
   ]
  },
  {
   "cell_type": "code",
   "execution_count": 210,
   "metadata": {},
   "outputs": [],
   "source": [
    "# Florence and the machine\n",
    "fatm = '/artist.php?name=Florence-%2B-the-Machine&aid=1062562&o=1' # URL of the arstist page (sorted from A-Z, \n",
    "                                                                   # not grouped by album)\n",
    "fatm_titles = get_titles(fatm)\n",
    "fatm_suffixes = get_suffixes(fatm)\n",
    "fatm_lyrics = get_lyrics(fatm)"
   ]
  },
  {
   "cell_type": "markdown",
   "metadata": {},
   "source": [
    "Count most frequent words"
   ]
  },
  {
   "cell_type": "code",
   "execution_count": 207,
   "metadata": {},
   "outputs": [
    {
     "name": "stdout",
     "output_type": "stream",
     "text": [
      "[('the', 1816), ('I', 1496), ('to', 1000), ('you', 983), ('me', 912)]\n"
     ]
    }
   ],
   "source": [
    "from collections import Counter\n",
    "\n",
    "c = Counter(' '.join(fatm_lyrics).split())\n",
    "print(c.most_common(5))"
   ]
  },
  {
   "cell_type": "code",
   "execution_count": null,
   "metadata": {},
   "outputs": [],
   "source": []
  },
  {
   "cell_type": "code",
   "execution_count": null,
   "metadata": {},
   "outputs": [],
   "source": []
  }
 ],
 "metadata": {
  "kernelspec": {
   "display_name": "Python 3",
   "language": "python",
   "name": "python3"
  },
  "language_info": {
   "codemirror_mode": {
    "name": "ipython",
    "version": 3
   },
   "file_extension": ".py",
   "mimetype": "text/x-python",
   "name": "python",
   "nbconvert_exporter": "python",
   "pygments_lexer": "ipython3",
   "version": "3.7.6"
  }
 },
 "nbformat": 4,
 "nbformat_minor": 4
}
