{
 "cells": [
  {
   "cell_type": "markdown",
   "metadata": {},
   "source": [
    "## Beautiful Soup and parsing data"
   ]
  },
  {
   "cell_type": "markdown",
   "metadata": {},
   "source": [
    "- JSON -- data structure typical of APIs\n",
    "    - cleaner data, easier to parse\n",
    "- HTML -- markup language used to structure web pages\n",
    "    - messier data, requires specialized tools to parse"
   ]
  },
  {
   "cell_type": "markdown",
   "metadata": {},
   "source": [
    "### Step 1: Download HTML text from a website"
   ]
  },
  {
   "cell_type": "code",
   "execution_count": 162,
   "metadata": {},
   "outputs": [],
   "source": [
    "import requests\n",
    "from bs4 import BeautifulSoup as soup"
   ]
  },
  {
   "cell_type": "code",
   "execution_count": 163,
   "metadata": {},
   "outputs": [],
   "source": [
    "site = 'https://www.spiced-academy.com/en/'\n",
    "site2 = 'https://www.eventbrite.com/d/germany--berlin/music--events/'"
   ]
  },
  {
   "cell_type": "code",
   "execution_count": 164,
   "metadata": {},
   "outputs": [
    {
     "data": {
      "text/plain": [
       "<Response [200]>"
      ]
     },
     "execution_count": 164,
     "metadata": {},
     "output_type": "execute_result"
    }
   ],
   "source": [
    "spiced = requests.get(site)\n",
    "spiced"
   ]
  },
  {
   "cell_type": "markdown",
   "metadata": {},
   "source": [
    "### Step 2. Convert the raw HTML string into a \"BeautifulSoup\" object, so that the data can be easily parsed."
   ]
  },
  {
   "cell_type": "code",
   "execution_count": 165,
   "metadata": {},
   "outputs": [],
   "source": [
    "spiced_html = soup(spiced.text, 'html.parser') #parser attribute is us telling bs4 that we are giving it html, as opposed to xml, yml, etc..."
   ]
  },
  {
   "cell_type": "code",
   "execution_count": 92,
   "metadata": {
    "collapsed": true,
    "jupyter": {
     "outputs_hidden": true
    }
   },
   "outputs": [
    {
     "data": {
      "text/plain": [
       "<!DOCTYPE html>\n",
       "\n",
       "<html dir=\"ltr\" lang=\"en\" prefix=\"og: http://ogp.me/ns# fb: http://ogp.me/ns/fb#\">\n",
       "<head>\n",
       "<title>Your new career starts here | Spiced Academy</title>\n",
       "<meta content=\"Kickstart your new career with our intensive, on-site tech programs in Web Development and Data Science.\" name=\"description\"/>\n",
       "<meta charset=\"utf-8\"/>\n",
       "<meta content=\"width=device-width, initial-scale=1\" name=\"viewport\">\n",
       "<link href=\"https://fonts.googleapis.com/css?family=Poppins:300,400,600&amp;display=swap\" rel=\"stylesheet\"/>\n",
       "<link href=\"https://fonts.googleapis.com/css?family=IBM+Plex+Mono:400,500&amp;display=swap\" rel=\"stylesheet\"/>\n",
       "<link href=\"/css/main.css\" rel=\"stylesheet\"/>\n",
       "<link href=\"/apple-touch-icon.png?v=3\" rel=\"apple-touch-icon\" sizes=\"180x180\"/>\n",
       "<link href=\"/favicon-32x32.png?v=3\" rel=\"icon\" sizes=\"32x32\" type=\"image/png\"/>\n",
       "<link href=\"/favicon-16x16.png?v=3\" rel=\"icon\" sizes=\"16x16\" type=\"image/png\"/>\n",
       "<link color=\"#5bbad5\" href=\"/safari-pinned-tab.svg\" rel=\"mask-icon\"/>\n",
       "<meta content=\"#da532c\" name=\"msapplication-TileColor\"/>\n",
       "<meta content=\"IE=edge,chrome=1\" http-equiv=\"X-UA-Compatible\"/>\n",
       "<meta content=\"DICJgJwgfNeeiq66MAwDzpaeqBBgDqZsBNFBMwVtoaY\" name=\"google-site-verification\"/>\n",
       "<meta content=\"#2E016D\" name=\"theme-color\">\n",
       "<meta content=\"noodp\" name=\"robots\"/>\n",
       "<link href=\"https://www.spiced-academy.com/en/\" rel=\"canonical\"/>\n",
       "<link href=\"https://www.spiced-academy.com/en/\" hreflang=\"en\" rel=\"alternate\">\n",
       "<link href=\"https://www.spiced-academy.com/de/\" hreflang=\"de\" rel=\"alternate\">\n",
       "<meta content=\"en_US\" property=\"og:locale\"/>\n",
       "<meta content=\"article\" property=\"og:type\"/>\n",
       "<meta content=\"Spiced Academy | Your new career starts here\" property=\"og:title\"/>\n",
       "<meta content=\"Kickstart your new career with our intensive, on-site tech programs in Web Development and Data Science.\" property=\"og:description\"/>\n",
       "<meta content=\"https://www.spiced-academy.com/\" property=\"og:url\"/>\n",
       "<meta content=\"Spiced Academy\" property=\"og:site_name\"/>\n",
       "<meta content=\"https://www.facebook.com/spicedacademy\" property=\"article:publisher\"/>\n",
       "<meta content=\"1214485688610932\" property=\"fb:app_id\"/>\n",
       "<meta content=\"https://www.spiced-academy.com/img/people/spiced_share.jpg\" property=\"og:image\"/>\n",
       "<meta content=\"summary_large_image\" name=\"twitter:card\"/>\n",
       "<meta content=\"Kickstart your new career with our intensive, on-site tech programs in Web Development and Data Science.\" name=\"twitter:description\"/>\n",
       "<meta content=\"Your new career starts here | Spiced Academy – A Coding Academy in Berlin\" name=\"twitter:title\"/>\n",
       "<meta content=\"@SPICEDacademy\" name=\"twitter:site\"/>\n",
       "<meta content=\"https://www.spiced-academy.com/img/people/spiced_share.jpg\" name=\"twitter:image\"/>\n",
       "<meta content=\"@SPICEDacademy\" name=\"twitter:creator\"/>\n",
       "<!-- Global site tag (gtag.js) - Google Analytics -->\n",
       "<script async=\"\" src=\"https://www.googletagmanager.com/gtag/js?id=UA-78282401-1\"></script>\n",
       "<script>\n",
       "      window.dataLayer = window.dataLayer || [];\n",
       "      function gtag(){dataLayer.push(arguments);}\n",
       "      gtag('js', new Date());\n",
       "      gtag('config', 'UA-78282401-1');\n",
       "      gtag('config', 'AW-882057422');\n",
       "    </script>\n",
       "<script async=\"\" defer=\"\" src=\"https://www.google.com/recaptcha/api.js\"></script>\n",
       "<!-- Facebook Pixel Code -->\n",
       "<script>\n",
       "    !function(f,b,e,v,n,t,s)\n",
       "    {if(f.fbq)return;n=f.fbq=function(){n.callMethod?\n",
       "    n.callMethod.apply(n,arguments):n.queue.push(arguments)};\n",
       "    if(!f._fbq)f._fbq=n;n.push=n;n.loaded=!0;n.version='2.0';\n",
       "    n.queue=[];t=b.createElement(e);t.async=!0;\n",
       "    t.src=v;s=b.getElementsByTagName(e)[0];\n",
       "    s.parentNode.insertBefore(t,s)}(window,document,'script',\n",
       "    'https://connect.facebook.net/en_US/fbevents.js');\n",
       "     fbq('init', '1628135084116192');\n",
       "    fbq('track', 'PageView');\n",
       "    </script>\n",
       "<noscript>\n",
       "<img height=\"1\" src=\"https://www.facebook.com/tr?id=1628135084116192&amp;ev=PageView\n",
       "    &amp;noscript=1\" width=\"1\"/>\n",
       "</noscript>\n",
       "<!-- End Facebook Pixel Code -->\n",
       "<!-- DO NOT MODIFY -->\n",
       "<script>\n",
       "    var i=new Image();i.src=\"https://alb.reddit.com/snoo.gif?q=CAAHAAABAAoACQAAAAAETYmbAA==&s=eUBwdmUHxwTWcJzXvTt1feUOEDHpTyhp333E0DdefAM=https://alb.reddit.com/snoo.gif?q=CAAHAAABAAoACQAAAAAETYmbAA==&s=eUBwdmUHxwTWcJzXvTt1feUOEDHpTyhp333E0DdefAM=\";\n",
       "    </script>\n",
       "<noscript>\n",
       "<img height=\"1\" src=\"https://alb.reddit.com/snoo.gif?q=CAAHAAABAAoACQAAAAAETYmbAA==&amp;s=eUBwdmUHxwTWcJzXvTt1feUOEDHpTyhp333E0DdefAM=\n",
       "    https://alb.reddit.com/snoo.gif?q=CAAHAAABAAoACQAAAAAETYmbAA==&amp;s=eUBwdmUHxwTWcJzXvTt1feUOEDHpTyhp333E0DdefAM=\n",
       "    \" style=\"display:none\" width=\"1\"/>\n",
       "</noscript>\n",
       "<!-- End Reddit Conversion Pixel --></link></link></meta></meta></head>\n",
       "<body>\n",
       "<header>\n",
       "<div class=\"header header-left\">\n",
       "<a href=\"/\">\n",
       "<img alt=\"Spiced logo\" class=\"header-logo\" src=\"/img/Spiced_Logo_Dark.svg\"/>\n",
       "</a>\n",
       "<div class=\"header-links\">\n",
       "<a href=\"/program\">\n",
       "<p class=\"js-header-links-left\">PROGRAMS</p>\n",
       "</a>\n",
       "<a href=\"/about\">\n",
       "<p class=\"js-header-links-left\">ABOUT</p>\n",
       "</a>\n",
       "<a class=\"apply-now\" href=\"/apply\">\n",
       "<p class=\"js-header-links-left\">APPLY NOW</p>\n",
       "</a>\n",
       "</div>\n",
       "</div>\n",
       "<div class=\"header header-right\">\n",
       "<div class=\"header-links fade-header\">\n",
       "<a href=\"/program\">\n",
       "<p class=\"js-header-links-right\">PROGRAMS</p>\n",
       "</a>\n",
       "<a href=\"/about\">\n",
       "<p class=\"js-header-links-right\">ABOUT</p>\n",
       "</a>\n",
       "<a class=\"apply-now\" href=\"/apply\">\n",
       "<p class=\"js-header-links-right\">APPLY NOW</p>\n",
       "</a>\n",
       "</div>\n",
       "<p class=\"js-language-toggle\"><a href=\"/lng/de\" style=\"font-weight:100;\">DE</a> | <a href=\"/lng/en\" style=\"font-weight:900;\">EN</a></p>\n",
       "<div id=\"nav-icon\">\n",
       "<span></span>\n",
       "<span></span>\n",
       "</div>\n",
       "</div>\n",
       "<div class=\"header-sidebar-container\">\n",
       "<p class=\"js-language-toggle\"><a href=\"/lng/de\" style=\"font-weight:100;\">DE</a> | <a href=\"/lng/en\" style=\"font-weight:900;\">EN</a></p>\n",
       "<hr/>\n",
       "<div class=\"main-hamburger-links\">\n",
       "<a href=\"/program\">\n",
       "<p>Programs</p>\n",
       "</a>\n",
       "<a href=\"/about\">\n",
       "<p>About</p>\n",
       "</a>\n",
       "</div>\n",
       "<hr/>\n",
       "<div class=\"sub-hamburger-links\">\n",
       "<a href=\"/graduates\">\n",
       "<p>Graduates</p>\n",
       "</a>\n",
       "<a href=\"/outcomes\">\n",
       "<p>Outcomes</p>\n",
       "</a>\n",
       "<a href=\"/faq\">\n",
       "<p>FAQ</p>\n",
       "</a>\n",
       "<a href=\"https://blog.spiced-academy.com/\" target=\"”_blank”\">\n",
       "<p>Blog</p>\n",
       "</a>\n",
       "</div>\n",
       "<a class=\"apply-now\" href=\"/apply\">\n",
       "<p>APPLY NOW</p>\n",
       "</a>\n",
       "</div>\n",
       "</header>\n",
       "<div class=\"scroll-container\">\n",
       "<section class=\"js-header-left-dark js-header-right-light mob-col-reverse\">\n",
       "<div class=\"panel v-center-h-end\">\n",
       "<div class=\"text-container text-container--mob-center\">\n",
       "<h1 class=\"main-heading main-heading--future\">Your future in tech</h1>\n",
       "<h3 class=\"sub-heading\">Kickstart your new career with our intensive, on-site tech programs in Web Development and Data Science.</h3> <a href=\"/program\">\n",
       "<button class=\"btn btn--primary\">Start your journey</button>\n",
       "</a>\n",
       "</div>\n",
       "</div>\n",
       "<div class=\"panel bg-color-primary-light duel-background panel-center\">\n",
       "<div class=\"circle-image-container\">\n",
       "<div class=\"circle-half circle-half--left\" style=\"background-image: url(/img/people/coding_bootcamp_r_homepage_spiced.jpg); \">\n",
       "</div>\n",
       "<div class=\"top-right-circle circle-quarter bg-color-action\">\n",
       "</div>\n",
       "<div class=\"bottom-right-circle circle-quarter bg-color-white\"></div>\n",
       "</div> </div>\n",
       "</section>\n",
       "<section class=\"js-header-left-light js-header-right-light mob-bg-color-action-dark\" id=\"start-journey\">\n",
       "<div class=\"panel\">\n",
       "<img alt=\"spiced student\" class=\"single-panel-image student-built-image\" src=\"/img/people/spiced-academy-homepage-2.jpg\"/> </div>\n",
       "<div class=\"panel bg-color-action flex-center\">\n",
       "<div class=\"triangle-top-right triangle-top-right--action\"></div>\n",
       "<div class=\"text-container text-container--simple\">\n",
       "<h1 class=\"main-heading main-heading--space-bottom main-heading--secondary main-heading--space-bottom\">\n",
       "                Your new career starts here\n",
       "    \n",
       "            </h1>\n",
       "<div class=\"career-start-container--subheading-container\">\n",
       "<div class=\"shape-box-small small-shape-spacer-container\">\n",
       "<div class=\"shape-box-small--triangle-top-right\"></div>\n",
       "</div>\n",
       "<div>\n",
       "<h4 class=\"\">\n",
       "                        Get all the tools you need to enter today’s tech job market\n",
       "                    </h4>\n",
       "<p class=\"\">Whether you’re looking to level up or switch fields entirely, Spiced gives you the skills to get hired. Build a portfolio full of real-life projects using the most in-demand technologies on the market - ready to impress any hiring manager.</p>\n",
       "</div>\n",
       "</div>\n",
       "</div>\n",
       "</div>\n",
       "</section>\n",
       "<section class=\"js-header-left-light js-header-right-dark mob-col-reverse\">\n",
       "<div class=\"panel mob-quarter-panel\">\n",
       "<div class=\"half-panel bg-color-primary-light flex-center mob-hidden landscape-inherit\">\n",
       "<div class=\"text-container-narrow\">\n",
       "<h2 class=\"main-heading lighter\">Our courses</h2>\n",
       "<h3 class=\"sub-heading sub-heading--white\"></h3>\n",
       "</div>\n",
       "</div>\n",
       "<div class=\"half-panel panel-center bg-color-primary-dark\">\n",
       "<div class=\"text-container-narrow\">\n",
       "<div class=\"program-links-container\">\n",
       "<div class=\"shape-box-small small-shape-spacer-container\">\n",
       "<div class=\"shape-box-small--chevron\"></div>\n",
       "<div class=\"shape-box-small--chevron\"></div>\n",
       "</div>\n",
       "<a class=\"link program-links\">Web Development</a>\n",
       "</div>\n",
       "<div class=\"program-links-container\">\n",
       "<div class=\"shape-box-small small-shape-spacer-container\">\n",
       "<div class=\"shape-box-small--chevron\"></div>\n",
       "<div class=\"shape-box-small--chevron\"></div>\n",
       "</div>\n",
       "<a class=\"link program-links\">Data Science</a>\n",
       "</div>\n",
       "</div>\n",
       "</div>\n",
       "</div>\n",
       "<div class=\"panel mob-three-quarter-panel mob-top-panel flex-center-mob\">\n",
       "<div class=\"program-choice-container\">\n",
       "<a class=\"action-box action-box--left fade-in js-web-dev-prog\" href=\"/program/full-stack-web-development\">\n",
       "<h1 class=\"main-heading\">Web <br/> Development</h1>\n",
       "<p>\n",
       "                    Gain all the skills needed to begin a successful career in Web Development.\n",
       "                    <br/>\n",
       "<span>Next cohort starts: July 27, 2020</span>\n",
       "</p>\n",
       "<button class=\"btn btn--secondary btn--mob-relative\">Read More</button>\n",
       "</a>\n",
       "<a class=\"action-box action-box--left fade-out js-ds-prog\" href=\"/program/data-science\">\n",
       "<h1 class=\"main-heading\">Data <br/> Science</h1>\n",
       "<p>\n",
       "                    Unlock the power of data with our immersive Data Science bootcamp.\n",
       "                    <br/>\n",
       "<span>Next cohort starts: July 13, 2020</span>\n",
       "</p>\n",
       "<button class=\"btn btn--secondary btn--mob-relative\">Read More</button>\n",
       "</a>\n",
       "</div>\n",
       "<script src=\"/js/programs.js\"></script>\n",
       "</div>\n",
       "</section>\n",
       "<section class=\"js-header-left-light js-header-right-light\">\n",
       "<div class=\"panel mob-one-third-panel mob-bg-color-primary-light\">\n",
       "<div class=\"triple-image-container triple-image-container--two-images-mobile\">\n",
       "<img alt=\"spiced-academy-homepage-3\" src=\"/img/people/spiced-academy-homepage-3.jpg\"/>\n",
       "<img alt=\"spiced-academy-homepage-7\" class=\"small-image\" src=\"/img/people/spiced-academy-homepage-7.jpg\"/>\n",
       "<img alt=\"spiced-academy-homepage-6\" class=\"small-image\" src=\"/img/people/spiced-academy-homepage-8.jpg\"/>\n",
       "</div> </div>\n",
       "<div class=\"panel bg-color-primary-dark panel-employment mob-two-thirds-panel\">\n",
       "<div class=\"triangle-top-right triangle-top-right--primary\"></div>\n",
       "<div class=\"start-application-container\">\n",
       "<div class=\"employment-rate-container\">\n",
       "<div class=\"employment-percentage\">\n",
       "<div>\n",
       "<div class=\"main-text\">4.7</div>\n",
       "<div class=\"sub-text\">out of 5</div>\n",
       "</div>\n",
       "</div>\n",
       "<h3 class=\"sub-heading sub-heading--white\">Average review on Course Report</h3>\n",
       "</div>\n",
       "<div class=\"award-container\">\n",
       "<img alt=\"course report award full stack\" src=\"/img/icons/best_coding_bootcamp_2019_white_v2.png\"/>\n",
       "<img alt=\"course report award Data Science\" src=\"/img/icons/best_data_science_bootcamp_2019_white_v2.png\"/>\n",
       "</div>\n",
       "</div>\n",
       "</div></section>\n",
       "<section class=\"js-header-left-dark js-header-right-light mob-col-reverse\">\n",
       "<div class=\"panel bg-color-white mob-two-thirds-panel\">\n",
       "<div class=\"action-box action-box--right\">\n",
       "<h1 class=\"main-heading main-heading--off-center-left main-heading--space-bottom\">Career <br/> Services</h1>\n",
       "<div class=\"shape-box-small small-shape-spacer-container\">\n",
       "<div class=\"shape-box-small--triangle-top-right-pink\"></div>\n",
       "</div>\n",
       "<p class=\"bold mob-hidden\">Practical, real-world approach</p>\n",
       "<p class=\"mob-only career-mob-heading\">Real-world technical interviews</p>\n",
       "<p class=\"mob-hidden p-smaller\">An extensive focus on passing real-world technical interviews.</p>\n",
       "<div class=\"shape-box-small small-shape-spacer-container\">\n",
       "<div class=\"shape-box-small--triangle-top-right-pink\"></div>\n",
       "</div>\n",
       "<p class=\"bold mob-hidden\">Tailored coaching sessions</p>\n",
       "<p class=\"mob-only career-mob-heading\">Tailored coaching sessions</p>\n",
       "<p class=\"mob-hidden p-smaller\">Unlimited one-to-one coaching sessions, helping you to develop professionally.</p>\n",
       "<div class=\"shape-box-small small-shape-spacer-container\">\n",
       "<div class=\"shape-box-small--triangle-top-right-pink\"></div>\n",
       "</div>\n",
       "<p class=\"bold mob-hidden\">More than just technical skills</p>\n",
       "<p class=\"mob-only career-mob-heading\">Professional development</p>\n",
       "<p class=\"mob-hidden p-smaller\">We're here to support you with the personal changes in your career transition, too.</p>\n",
       "<div class=\"shape-box-small small-shape-spacer-container\">\n",
       "<div class=\"shape-box-small--triangle-top-right-pink\"></div>\n",
       "</div>\n",
       "<p class=\"bold mob-hidden\">An insider view</p>\n",
       "<p class=\"mob-only career-mob-heading\">An insider view</p>\n",
       "<p class=\"mob-hidden p-smaller\">We share the insider view of the the latest recruitment processes in Germany and beyond.</p>\n",
       "</div> </div>\n",
       "<div class=\"panel\">\n",
       "<img alt=\"career-services\" class=\"single-panel-image student-built-image\" src=\"/img/staff/career-services.jpg\"/> </div>\n",
       "</section>\n",
       "<section class=\"js-header-left-light js-header-right-light\">\n",
       "<div class=\"panel bg-color-white mob-hidden landscape-block\">\n",
       "<div class=\"three-quarter-panel\">\n",
       "<img alt=\"alumni-raul-spiced\" class=\"single-panel-image student-built-image\" src=\"/img/testimonials/main-testimonial-spiced.jpg\"/> </div>\n",
       "<div class=\"\">\n",
       "<div class=\"our-students-work-at\">\n",
       "<h4>Our students now work at:</h4>\n",
       "<div class=\"four-logo-container\">\n",
       "<div class=\"company-logo-container\">\n",
       "<img alt=\"bcg\" src=\"/img/company-logos/bcg-logo-grey.svg\"/>\n",
       "</div>\n",
       "<div class=\"company-logo-container\">\n",
       "<img alt=\"infarm\" src=\"/img/company-logos/infarm-logo-grey.svg\"/>\n",
       "</div>\n",
       "<div class=\"company-logo-container\">\n",
       "<img alt=\"Ebay\" src=\"/img/company-logos/ebay-logo-grey.svg\"/>\n",
       "</div>\n",
       "<div class=\"company-logo-container\">\n",
       "<img alt=\"audible\" src=\"/img/company-logos/wework-logo-grey.svg\"/>\n",
       "</div>\n",
       "</div>\n",
       "</div>\n",
       "</div>\n",
       "</div>\n",
       "<div class=\"panel mob-full-panel\">\n",
       "<div class=\"half-panel bg-color-action\">\n",
       "<div class=\"quote-block\">\n",
       "<p class=\"quotation-mark\">\"</p>\n",
       "<p class=\"quotation\">I now have a job with great prospects, in a company which offers me a chance to learn and grow. Thanks to Spiced, my life has completely changed.</p>\n",
       "<p class=\"quotation-mark quotation-mark-bottom\">\"</p>\n",
       "<div class=\"student-name-job\">\n",
       "<p class=\"student-name\">Raul Iglesias</p>\n",
       "<p class=\"student-job\">Web Developer at Push Creative Ventures</p>\n",
       "</div>\n",
       "</div> </div>\n",
       "<div class=\"half-panel bg-color-action-dark\">\n",
       "</div>\n",
       "</div>\n",
       "</section>\n",
       "<section class=\"js-header-left-light js-header-right-dark full-height-section full-height-panels\">\n",
       "<div class=\"panel mob-quarter-panel mob-bg-color-primary-light mob-top-header-padding\">\n",
       "<div class=\"based-in-half-panel bg-color-primary-light panel-bottom\">\n",
       "<h2 class=\"panel-text-overlap lighter\">Spiced is <br class=\"mob-hidden\"/>based in...</h2>\n",
       "</div>\n",
       "<div class=\"based-in-half-panel bg-color-primary-dark\">\n",
       "</div>\n",
       "</div>\n",
       "<div class=\"panel mob-three-quarter-panel\">\n",
       "<div class=\"cities-container\">\n",
       "<div class=\"city-container\">\n",
       "<div class=\"city-icon-container city-icon-container--dark\">\n",
       "<img alt=\"Berlin icon\" class=\"city-icon\" src=\"/img/icons/berlin-icon.svg\"/>\n",
       "</div>\n",
       "<details>\n",
       "<summary>Berlin</summary>\n",
       "<a class=\"link link--black program-link\" href=\"/program/full-stack-web-development/berlin\">Web\n",
       "                        Development</a>\n",
       "<a class=\"link link--black program-link\" href=\"/program/data-science/berlin\">Data Science</a>\n",
       "<a href=\"/apply?city=berlin\">\n",
       "<button class=\"btn btn--secondary\">Start application</button>\n",
       "</a>\n",
       "</details>\n",
       "</div>\n",
       "<div class=\"city-container\">\n",
       "<div class=\"city-icon-container city-icon-container--dark\">\n",
       "<img alt=\"Hamburg icon\" class=\"city-icon\" src=\"/img/icons/hamburg-icon.svg\"/>\n",
       "</div>\n",
       "<details>\n",
       "<summary>Hamburg</summary>\n",
       "<a class=\"link link--black program-link\" href=\"/program/full-stack-web-development/hamburg\">Web\n",
       "                        Development</a>\n",
       "<a class=\"link link--black program-link\" href=\"/program/data-science/hamburg\">Data Science</a>\n",
       "<a href=\"/apply?city=hamburg\">\n",
       "<button class=\"btn btn--secondary\">Start application</button>\n",
       "</a>\n",
       "</details>\n",
       "</div>\n",
       "<div class=\"city-container\">\n",
       "<div class=\"city-icon-container city-icon-container--light\">\n",
       "<img alt=\"Cologne icon\" class=\"city-icon\" src=\"/img/icons/cologne-icon.svg\"/>\n",
       "</div>\n",
       "<details>\n",
       "<summary>Cologne</summary>\n",
       "<a class=\"link link--black program-link\" href=\"/program/full-stack-web-development/cologne\">Web\n",
       "                        Development</a>\n",
       "<a class=\"link link--black program-link\" href=\"/program/data-science/cologne\">Data Science</a>\n",
       "<a href=\"/apply?city=cologne\">\n",
       "<button class=\"btn btn--secondary\">Start application</button>\n",
       "</a>\n",
       "</details>\n",
       "</div>\n",
       "</div>\n",
       "</div>\n",
       "</section>\n",
       "<section class=\"js-header-left-dark js-header-right-dark graduate-testimonials\">\n",
       "<div class=\"panel min-height-panel bg-color-white mob-top-panel mob-center student-0 fade-in\">\n",
       "<div class=\"circle-image-container\">\n",
       "<div class=\"circle-half circle-half--left\" style=\"background-image: url(/img/testimonials/alumni-parinaz-spiced.jpg); \">\n",
       "</div>\n",
       "<div class=\"top-right-circle circle-quarter bg-color-pink\">\n",
       "<div class=\"next-link-container\">\n",
       "<p class=\"link js-next-student-testimonials\">Next</p>\n",
       "<div class=\"shape-box-small small-shape-spacer-container\">\n",
       "<div class=\"shape-box-small--chevron shape-box-small--chevron--white\"></div>\n",
       "<div class=\"shape-box-small--chevron shape-box-small--chevron--white\"></div>\n",
       "</div>\n",
       "</div>\n",
       "</div>\n",
       "<div class=\"bottom-right-circle circle-quarter bg-color-action\"></div>\n",
       "</div></div>\n",
       "<div class=\"panel flex-center student-0 fade-in\">\n",
       "<div class=\"\"></div>\n",
       "<div class=\"text-container text-container--simple text-container--center-short-txt\">\n",
       "<h1 class=\"main-heading main-heading--space-bottom main-heading--primary\">\n",
       "                What our students say:\n",
       "    \n",
       "            </h1>\n",
       "<div class=\"career-start-container--subheading-container\">\n",
       "<div class=\"shape-box-small small-shape-spacer-container\">\n",
       "<div class=\"shape-box-small--triangle-top-right\"></div>\n",
       "</div>\n",
       "<div>\n",
       "<h4 class=\"sub-heading sub-heading--primary-light\">\n",
       "                        Parinaz Roghany<br/>Full Stack Web Developer at Ebay\n",
       "                    </h4>\n",
       "<p class=\"text-container-height\">I wanted to learn JavaScript and Spiced’s Full Stack program sounded great. It was so cool learning all these things like real-time chatting and building your own online social media platform.</p>\n",
       "</div>\n",
       "</div>\n",
       "</div>\n",
       "</div> <div class=\"panel min-height-panel bg-color-white mob-top-panel mob-center student-1 fade-out\">\n",
       "<div class=\"circle-image-container\">\n",
       "<div class=\"circle-half circle-half--left\" style=\"background-image: url(/img/testimonials/alumni-kent-spiced.jpg); \">\n",
       "</div>\n",
       "<div class=\"top-right-circle circle-quarter bg-color-pink\">\n",
       "<div class=\"next-link-container\">\n",
       "<p class=\"link js-next-student-testimonials\">Next</p>\n",
       "<div class=\"shape-box-small small-shape-spacer-container\">\n",
       "<div class=\"shape-box-small--chevron shape-box-small--chevron--white\"></div>\n",
       "<div class=\"shape-box-small--chevron shape-box-small--chevron--white\"></div>\n",
       "</div>\n",
       "</div>\n",
       "</div>\n",
       "<div class=\"bottom-right-circle circle-quarter bg-color-action\"></div>\n",
       "</div></div>\n",
       "<div class=\"panel flex-center student-1 fade-out\">\n",
       "<div class=\"\"></div>\n",
       "<div class=\"text-container text-container--simple text-container--center-short-txt\">\n",
       "<h1 class=\"main-heading main-heading--space-bottom main-heading--primary\">\n",
       "                What our students say:\n",
       "    \n",
       "            </h1>\n",
       "<div class=\"career-start-container--subheading-container\">\n",
       "<div class=\"shape-box-small small-shape-spacer-container\">\n",
       "<div class=\"shape-box-small--triangle-top-right\"></div>\n",
       "</div>\n",
       "<div>\n",
       "<h4 class=\"sub-heading sub-heading--primary-light\">\n",
       "                        Kent Troutman<br/>Data Scientist at Deutsche Bundesbank\n",
       "                    </h4>\n",
       "<p class=\"text-container-height\">The intense method of the boot camp helped me get to the next level skill-wise. I kept up my end and worked hard, as did my classmates, and Kristian made sure that no one was left behind.</p>\n",
       "</div>\n",
       "</div>\n",
       "</div>\n",
       "</div> <div class=\"panel min-height-panel bg-color-white mob-top-panel mob-center student-2 fade-out\">\n",
       "<div class=\"circle-image-container\">\n",
       "<div class=\"circle-half circle-half--left\" style=\"background-image: url(/img/testimonials/alumni-olof-spiced.jpg); \">\n",
       "</div>\n",
       "<div class=\"top-right-circle circle-quarter bg-color-pink\">\n",
       "<div class=\"next-link-container\">\n",
       "<p class=\"link js-next-student-testimonials\">Next</p>\n",
       "<div class=\"shape-box-small small-shape-spacer-container\">\n",
       "<div class=\"shape-box-small--chevron shape-box-small--chevron--white\"></div>\n",
       "<div class=\"shape-box-small--chevron shape-box-small--chevron--white\"></div>\n",
       "</div>\n",
       "</div>\n",
       "</div>\n",
       "<div class=\"bottom-right-circle circle-quarter bg-color-action\"></div>\n",
       "</div></div>\n",
       "<div class=\"panel flex-center student-2 fade-out\">\n",
       "<div class=\"\"></div>\n",
       "<div class=\"text-container text-container--simple text-container--center-short-txt\">\n",
       "<h1 class=\"main-heading main-heading--space-bottom main-heading--primary\">\n",
       "                What our students say:\n",
       "    \n",
       "            </h1>\n",
       "<div class=\"career-start-container--subheading-container\">\n",
       "<div class=\"shape-box-small small-shape-spacer-container\">\n",
       "<div class=\"shape-box-small--triangle-top-right\"></div>\n",
       "</div>\n",
       "<div>\n",
       "<h4 class=\"sub-heading sub-heading--primary-light\">\n",
       "                        Olof Reimegård<br/>Full Stack Web Developer at Zaplox\n",
       "                    </h4>\n",
       "<p class=\"text-container-height\">I made the decision to do the course and since the first day I haven't looked back. The curriculum feels tailored for the job and is constantly updated to match the fast changing job market. If you feel willing and ready to really dive into coding then this course is for you.</p>\n",
       "</div>\n",
       "</div>\n",
       "</div>\n",
       "</div> <div class=\"panel min-height-panel bg-color-white mob-top-panel mob-center student-3 fade-out\">\n",
       "<div class=\"circle-image-container\">\n",
       "<div class=\"circle-half circle-half--left\" style=\"background-image: url(/img/testimonials/alumni-lilian-spiced.jpg); \">\n",
       "</div>\n",
       "<div class=\"top-right-circle circle-quarter bg-color-pink\">\n",
       "<div class=\"next-link-container\">\n",
       "<p class=\"link js-next-student-testimonials\">Next</p>\n",
       "<div class=\"shape-box-small small-shape-spacer-container\">\n",
       "<div class=\"shape-box-small--chevron shape-box-small--chevron--white\"></div>\n",
       "<div class=\"shape-box-small--chevron shape-box-small--chevron--white\"></div>\n",
       "</div>\n",
       "</div>\n",
       "</div>\n",
       "<div class=\"bottom-right-circle circle-quarter bg-color-action\"></div>\n",
       "</div></div>\n",
       "<div class=\"panel flex-center student-3 fade-out\">\n",
       "<div class=\"\"></div>\n",
       "<div class=\"text-container text-container--simple text-container--center-short-txt\">\n",
       "<h1 class=\"main-heading main-heading--space-bottom main-heading--primary\">\n",
       "                What our students say:\n",
       "    \n",
       "            </h1>\n",
       "<div class=\"career-start-container--subheading-container\">\n",
       "<div class=\"shape-box-small small-shape-spacer-container\">\n",
       "<div class=\"shape-box-small--triangle-top-right\"></div>\n",
       "</div>\n",
       "<div>\n",
       "<h4 class=\"sub-heading sub-heading--primary-light\">\n",
       "                        Lilian van Someren Greve<br/>Junior Data Scientist at TeamViewer\n",
       "                    </h4>\n",
       "<p class=\"text-container-height\">Having worked in Business Intelligence, Spiced was able to bridge the gaps in my knowledge regarding Python and a deeper understanding of how some key Data Science models work. You can learn an amazing amount in 3 months, if you're willing to.</p>\n",
       "</div>\n",
       "</div>\n",
       "</div>\n",
       "</div> <script src=\"/js/graduate-testimonials-circles.js\"></script>\n",
       "<script src=\"/js/details-summary.js\"></script>\n",
       "</section>\n",
       "<section class=\"mob-bg-color-primary-dark\" id=\"contact-us\">\n",
       "<footer>\n",
       "<div class=\"footer-top-container mob-smaller-panel mob-top-panel\">\n",
       "<div class=\"panel-footer panel-footer--flex\">\n",
       "<div class=\"footer-top-panel\">\n",
       "<div class=\"mob-hidden\">\n",
       "<h2>Questions?</h2>\n",
       "<p class=\"sub-heading sub-heading--grey\">You can head to our <a href=\"/faq\">FAQ</a> page or...</p>\n",
       "</div>\n",
       "<a href=\"https://calendly.com/spicedacademy/15min?month=2020-02\" rel=\"nofollow noopener\" target=\"_blank\">\n",
       "<button class=\"btn btn--primary\">Schedule a Chat</button>\n",
       "</a>\n",
       "</div>\n",
       "</div>\n",
       "<div class=\"panel-footer panel-footer--flex bg-color-primary-light\">\n",
       "<div class=\"footer-top-panel footer-top-panel--white\">\n",
       "<div class=\"mob-hidden\">\n",
       "<h2 class=\"lighter\">Ready?</h2>\n",
       "<p class=\"sub-heading\">Take the leap and begin your application online.</p>\n",
       "</div>\n",
       "<a href=\"/apply\">\n",
       "<button class=\"btn btn--secondary\">Start Application</button>\n",
       "</a>\n",
       "</div>\n",
       "</div>\n",
       "</div>\n",
       "<div class=\"footer-bottom-container bg-color-primary-dark mob-bigger-panel\">\n",
       "<div class=\"panel-footer panel-footer--flex\">\n",
       "<div class=\"footer-bottom-left\">\n",
       "<p class=\"sub-heading sub-heading--white landscape-hidden\">\n",
       "                                Subscribe to our Newsletter\n",
       "                            </p>\n",
       "<p class=\"sub-heading sub-heading--white landscape-only\">Newsletter</p>\n",
       "<form action=\"//spiced-academy.us12.list-manage.com/subscribe/post?u=d484949f27c464f21ce2d4182&amp;id=fe8732373f\" method=\"POST\" target=\"_blank\">\n",
       "<div class=\"field\">\n",
       "<input autocomplete=\"off\" class=\"subscribe-input\" id=\"footer-name\" name=\"NAME\" placeholder=\"Name\" required=\"\" type=\"text\"/>\n",
       "<label for=\"footer-name\">Name</label>\n",
       "</div>\n",
       "<div class=\"field\">\n",
       "<input autocomplete=\"off\" class=\"subscribe-input\" id=\"footer-email\" name=\"EMAIL\" placeholder=\"Email\" required=\"\" type=\"email\"/>\n",
       "<label for=\"footer-email\">Email</label>\n",
       "</div>\n",
       "<p class=\"disclaimer\">\n",
       "                                    * By clicking Submit, I acknowledge that I have read and agree with the Spiced Academy Privacy Policy.\n",
       "                                </p>\n",
       "<button class=\"btn btn--secondary\">SUBMIT</button>\n",
       "</form>\n",
       "<p class=\"copyright\">© 2020 Spiced Academy</p>\n",
       "</div>\n",
       "</div>\n",
       "<div class=\"panel-footer footer-bottom-right footer-bottom-right--flex\">\n",
       "<div class=\"quick-links\">\n",
       "<p class=\"footer-title\">Quick Links</p>\n",
       "<a class=\"link p-mid-size\" href=\"/program\">Programs</a>\n",
       "<a class=\"link p-mid-size\" href=\"/about\">About</a>\n",
       "</div>\n",
       "<div class=\"social\">\n",
       "<p class=\"footer-title\">Social</p>\n",
       "<div class=\"footer-icons\">\n",
       "<a href=\"https://www.instagram.com/spicedacademy/\" rel=\"nofollow noopener\" target=\"_blank\">\n",
       "<img alt=\"instagram\" src=\"/img/icons/instagram-icon.png\"/>\n",
       "</a>\n",
       "<a href=\"https://www.facebook.com/spicedacademy/\" rel=\"nofollow noopener\" target=\"_blank\">\n",
       "<img alt=\"facebook\" src=\"/img/icons/facebook-icon.png\"/>\n",
       "</a>\n",
       "</div>\n",
       "</div>\n",
       "<div class=\"contact\">\n",
       "<p class=\"footer-title\">Contact Info</p>\n",
       "<p class=\"mail-to p-mid-size\">\n",
       "<a href=\"mailto:info@spiced-academy.com\">info@spiced-academy.com</a>\n",
       "</p>\n",
       "<p>+49 30 9856 2427</p>\n",
       "</div>\n",
       "<div class=\"legal\">\n",
       "<p class=\"footer-title\">Legal</p>\n",
       "<a class=\"disclaimer\" href=\"/disclaimer\">\n",
       "<p class=\"p-mid-size\">Disclaimer</p>\n",
       "</a>\n",
       "<a class=\"privacy\" href=\"/privacy\">\n",
       "<p class=\"p-mid-size\">Privacy</p>\n",
       "</a>\n",
       "<a class=\"imprint\" href=\"/imprint\">\n",
       "<p class=\"p-mid-size\">Imprint</p>\n",
       "</a>\n",
       "</div>\n",
       "</div>\n",
       "</div>\n",
       "</footer>\n",
       "</section>\n",
       "<div class=\"js-cookie-warning cookie-warning-container fade-out\">\n",
       "<div class=\"cookie-warning-text\">\n",
       "<p>We use cookies to enhance your experience on our site, and to serve you advertising that may interest you. If that's ok with you, simply close this message and keep browsing. Otherwise, <a href=\"/privacy\">click here to find out more info.</a></p>\n",
       "</div>\n",
       "<button class=\"js-close-cookie-warning btn btn--secondary\">ACKNOWLEDGE</button>\n",
       "</div> </div>\n",
       "<script charset=\"utf-8\" src=\"/js/script.js\"></script>\n",
       "<script charset=\"utf-8\" src=\"/js/cookie-warning.js\"></script>\n",
       "</body>\n",
       "</html>"
      ]
     },
     "execution_count": 92,
     "metadata": {},
     "output_type": "execute_result"
    }
   ],
   "source": [
    "spiced_html"
   ]
  },
  {
   "cell_type": "markdown",
   "metadata": {},
   "source": [
    "### Step 3. Use the BeautifulSoup object to parse the HTML document tree down to the tag / element that contains the data you want."
   ]
  },
  {
   "cell_type": "markdown",
   "metadata": {},
   "source": [
    "There are multiple ways to get to the solution!\n",
    "\n",
    "Use ``.tag_name`` to return tags without custom filters.\n",
    "\n",
    "``.find()`` to return the first instance of your 'query'.\n",
    "\n",
    "``.find_all()`` to return all tags, (a list-like object (called a \"ResultSet\")) but this time its customisable.\n",
    "\n",
    "``.get()`` returns an attribute of a tag\n",
    "\n",
    "``.get_text()`` returns the actual part of the tag that is outside of the < angled brackets > (i.e. the text)"
   ]
  },
  {
   "cell_type": "code",
   "execution_count": 115,
   "metadata": {},
   "outputs": [
    {
     "data": {
      "text/plain": [
       "'Kickstart your new career with our intensive, on-site tech programs in Web Development and Data Science.'"
      ]
     },
     "execution_count": 115,
     "metadata": {},
     "output_type": "execute_result"
    }
   ],
   "source": [
    "spiced_html.h3.text #parse the html code to reveal the text, use .text attribute to extract text"
   ]
  },
  {
   "cell_type": "code",
   "execution_count": 123,
   "metadata": {},
   "outputs": [
    {
     "data": {
      "text/plain": [
       "'Kickstart your new career with our intensive, on-site tech programs in Web Development and Data Science.'"
      ]
     },
     "execution_count": 123,
     "metadata": {},
     "output_type": "execute_result"
    }
   ],
   "source": [
    "spiced_html.find_all('h3')[0].text"
   ]
  },
  {
   "cell_type": "code",
   "execution_count": 131,
   "metadata": {},
   "outputs": [
    {
     "data": {
      "text/plain": [
       "(False, False, False, False, True, True, True)"
      ]
     },
     "execution_count": 131,
     "metadata": {},
     "output_type": "execute_result"
    }
   ],
   "source": [
    "bool(False), bool(), bool(''), bool([]), bool(True), bool('True'), bool([1]), "
   ]
  },
  {
   "cell_type": "code",
   "execution_count": 124,
   "metadata": {},
   "outputs": [
    {
     "name": "stdout",
     "output_type": "stream",
     "text": [
      "Kickstart your new career with our intensive, on-site tech programs in Web Development and Data Science.\n",
      "im empty!\n",
      "Average review on Course Report\n"
     ]
    }
   ],
   "source": [
    "for i in spiced_html.find_all('h3'):\n",
    "    if i.text:\n",
    "        print(i.text)\n",
    "    else:\n",
    "        print('im empty!')"
   ]
  },
  {
   "cell_type": "code",
   "execution_count": 166,
   "metadata": {},
   "outputs": [],
   "source": [
    "lyrics = spiced_html.find_all('h3')[0].text"
   ]
  },
  {
   "cell_type": "code",
   "execution_count": 134,
   "metadata": {},
   "outputs": [],
   "source": [
    "with open('lyrics.txt','w') as f:\n",
    "    f.write(lyrics)"
   ]
  },
  {
   "cell_type": "code",
   "execution_count": 135,
   "metadata": {},
   "outputs": [],
   "source": [
    "import os"
   ]
  },
  {
   "cell_type": "code",
   "execution_count": 167,
   "metadata": {},
   "outputs": [
    {
     "data": {
      "text/plain": [
       "['lyrics.txt']"
      ]
     },
     "execution_count": 167,
     "metadata": {},
     "output_type": "execute_result"
    }
   ],
   "source": [
    "[x for x in os.listdir('.') if 'lyrics' in x]"
   ]
  },
  {
   "cell_type": "code",
   "execution_count": 2,
   "metadata": {},
   "outputs": [
    {
     "ename": "NameError",
     "evalue": "name 'spiced_html' is not defined",
     "output_type": "error",
     "traceback": [
      "\u001b[0;31m---------------------------------------------------------------------------\u001b[0m",
      "\u001b[0;31mNameError\u001b[0m                                 Traceback (most recent call last)",
      "\u001b[0;32m<ipython-input-2-e82b1c38e10c>\u001b[0m in \u001b[0;36m<module>\u001b[0;34m\u001b[0m\n\u001b[0;32m----> 1\u001b[0;31m \u001b[0msuffix\u001b[0m \u001b[0;34m=\u001b[0m \u001b[0mspiced_html\u001b[0m\u001b[0;34m.\u001b[0m\u001b[0mfind_all\u001b[0m\u001b[0;34m(\u001b[0m\u001b[0;34m'a'\u001b[0m\u001b[0;34m,\u001b[0m \u001b[0mattrs\u001b[0m\u001b[0;34m=\u001b[0m\u001b[0;34m{\u001b[0m\u001b[0;34m\"href\"\u001b[0m\u001b[0;34m:\u001b[0m\u001b[0;34m\"/program\"\u001b[0m\u001b[0;34m}\u001b[0m\u001b[0;34m)\u001b[0m\u001b[0;34m[\u001b[0m\u001b[0;36m0\u001b[0m\u001b[0;34m]\u001b[0m\u001b[0;34m.\u001b[0m\u001b[0mget\u001b[0m\u001b[0;34m(\u001b[0m\u001b[0;34m'href'\u001b[0m\u001b[0;34m)\u001b[0m\u001b[0;34m\u001b[0m\u001b[0;34m\u001b[0m\u001b[0m\n\u001b[0m",
      "\u001b[0;31mNameError\u001b[0m: name 'spiced_html' is not defined"
     ]
    }
   ],
   "source": [
    "suffix = spiced_html.find_all('a', attrs={\"href\":\"/program\"})[0].get('href')"
   ]
  },
  {
   "cell_type": "code",
   "execution_count": 169,
   "metadata": {},
   "outputs": [
    {
     "data": {
      "text/plain": [
       "'/program'"
      ]
     },
     "execution_count": 169,
     "metadata": {},
     "output_type": "execute_result"
    }
   ],
   "source": [
    "suffix"
   ]
  },
  {
   "cell_type": "code",
   "execution_count": 170,
   "metadata": {},
   "outputs": [
    {
     "data": {
      "text/plain": [
       "'https://www.spiced-academy.com/en'"
      ]
     },
     "execution_count": 170,
     "metadata": {},
     "output_type": "execute_result"
    }
   ],
   "source": [
    "site[:-1]"
   ]
  },
  {
   "cell_type": "code",
   "execution_count": 171,
   "metadata": {},
   "outputs": [],
   "source": [
    "program_page = site[:-1]+suffix"
   ]
  },
  {
   "cell_type": "code",
   "execution_count": 172,
   "metadata": {},
   "outputs": [
    {
     "data": {
      "text/plain": [
       "'https://www.spiced-academy.com/en/program'"
      ]
     },
     "execution_count": 172,
     "metadata": {},
     "output_type": "execute_result"
    }
   ],
   "source": [
    "program_page"
   ]
  },
  {
   "cell_type": "code",
   "execution_count": 173,
   "metadata": {},
   "outputs": [],
   "source": [
    "program_text = requests.get(program_page)"
   ]
  },
  {
   "cell_type": "code",
   "execution_count": 176,
   "metadata": {},
   "outputs": [],
   "source": [
    "program_soup = soup(program_text.text, 'html.parser')"
   ]
  },
  {
   "cell_type": "markdown",
   "metadata": {},
   "source": [
    "---"
   ]
  },
  {
   "cell_type": "markdown",
   "metadata": {},
   "source": [
    "### Applying requests and bs4!"
   ]
  },
  {
   "cell_type": "markdown",
   "metadata": {},
   "source": [
    "1. Metrolyrics.com\n",
    "2. Lyrics.com\n",
    "3. AZLyrics.com"
   ]
  },
  {
   "cell_type": "markdown",
   "metadata": {},
   "source": [
    "---"
   ]
  },
  {
   "cell_type": "markdown",
   "metadata": {},
   "source": [
    "# ETHICS + LEGALITY!!"
   ]
  },
  {
   "cell_type": "markdown",
   "metadata": {},
   "source": [
    "#### You're fine doing everything we raise in the course material, but if you branch out into doing your own work on scraping, beware legality and ethical questions! Check GDPR for the european legal framework, and use common sense for ethics"
   ]
  }
 ],
 "metadata": {
  "kernelspec": {
   "display_name": "Python 3",
   "language": "python",
   "name": "python3"
  },
  "language_info": {
   "codemirror_mode": {
    "name": "ipython",
    "version": 3
   },
   "file_extension": ".py",
   "mimetype": "text/x-python",
   "name": "python",
   "nbconvert_exporter": "python",
   "pygments_lexer": "ipython3",
   "version": "3.7.6"
  }
 },
 "nbformat": 4,
 "nbformat_minor": 4
}
